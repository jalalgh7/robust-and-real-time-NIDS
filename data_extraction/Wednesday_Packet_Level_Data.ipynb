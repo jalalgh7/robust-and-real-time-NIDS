{
 "cells": [
  {
   "cell_type": "code",
   "execution_count": 97,
   "id": "1364dda4",
   "metadata": {},
   "outputs": [],
   "source": [
    "import json\n",
    "import pandas as pd\n",
    "import ijson\n",
    "from datetime import datetime\n",
    "import time"
   ]
  },
  {
   "cell_type": "code",
   "execution_count": 98,
   "id": "e88194ec",
   "metadata": {},
   "outputs": [
    {
     "data": {
      "text/plain": [
       "1499258820.0"
      ]
     },
     "execution_count": 98,
     "metadata": {},
     "output_type": "execute_result"
    }
   ],
   "source": [
    "x='05/07/2017 08:47:00'\n",
    "Dos_slowloris_start = datetime.strptime(x, '%d/%m/%Y %H:%M:%S').timestamp()\n",
    "Dos_slowloris_start"
   ]
  },
  {
   "cell_type": "code",
   "execution_count": 99,
   "id": "4d9dc91a",
   "metadata": {},
   "outputs": [
    {
     "data": {
      "text/plain": [
       "1499260260.0"
      ]
     },
     "execution_count": 99,
     "metadata": {},
     "output_type": "execute_result"
    }
   ],
   "source": [
    "x='05/07/2017 09:11:00'\n",
    "Dos_slowloris_end = datetime.strptime(x, '%d/%m/%Y %H:%M:%S').timestamp()\n",
    "Dos_slowloris_end"
   ]
  },
  {
   "cell_type": "code",
   "execution_count": 100,
   "id": "03a54345",
   "metadata": {},
   "outputs": [
    {
     "data": {
      "text/plain": [
       "1499260500.0"
      ]
     },
     "execution_count": 100,
     "metadata": {},
     "output_type": "execute_result"
    }
   ],
   "source": [
    "x='05/07/2017 09:15:00'\n",
    "Dos_slowhttptest_start = datetime.strptime(x, '%d/%m/%Y %H:%M:%S').timestamp()\n",
    "Dos_slowhttptest_start"
   ]
  },
  {
   "cell_type": "code",
   "execution_count": 101,
   "id": "a1942e6d",
   "metadata": {},
   "outputs": [
    {
     "data": {
      "text/plain": [
       "1499261870.0"
      ]
     },
     "execution_count": 101,
     "metadata": {},
     "output_type": "execute_result"
    }
   ],
   "source": [
    "x='05/07/2017 9:37:50'\n",
    "Dos_slowhttptest_end = datetime.strptime(x, '%d/%m/%Y %H:%M:%S').timestamp()\n",
    "Dos_slowhttptest_end"
   ]
  },
  {
   "cell_type": "code",
   "execution_count": 102,
   "id": "6baa8c44",
   "metadata": {},
   "outputs": [
    {
     "data": {
      "text/plain": [
       "1499262180.0"
      ]
     },
     "execution_count": 102,
     "metadata": {},
     "output_type": "execute_result"
    }
   ],
   "source": [
    "x='05/07/2017 09:43:00'\n",
    "Dos_Hulk_start = datetime.strptime(x, '%d/%m/%Y %H:%M:%S').timestamp()\n",
    "Dos_Hulk_start"
   ]
  },
  {
   "cell_type": "code",
   "execution_count": 103,
   "id": "7d7dc1e9",
   "metadata": {},
   "outputs": [
    {
     "data": {
      "text/plain": [
       "1499263380.0"
      ]
     },
     "execution_count": 103,
     "metadata": {},
     "output_type": "execute_result"
    }
   ],
   "source": [
    "x='05/07/2017 10:03:00'\n",
    "Dos_Hulk_end = datetime.strptime(x, '%d/%m/%Y %H:%M:%S').timestamp()\n",
    "Dos_Hulk_end"
   ]
  },
  {
   "cell_type": "code",
   "execution_count": 104,
   "id": "6b9471f1",
   "metadata": {},
   "outputs": [
    {
     "data": {
      "text/plain": [
       "1499263800.0"
      ]
     },
     "execution_count": 104,
     "metadata": {},
     "output_type": "execute_result"
    }
   ],
   "source": [
    "x='05/07/2017 10:10:00'\n",
    "Dos_Goldeneye_start = datetime.strptime(x, '%d/%m/%Y %H:%M:%S').timestamp()\n",
    "Dos_Goldeneye_start"
   ]
  },
  {
   "cell_type": "code",
   "execution_count": 105,
   "id": "455c8465",
   "metadata": {},
   "outputs": [
    {
     "data": {
      "text/plain": [
       "1499264640.0"
      ]
     },
     "execution_count": 105,
     "metadata": {},
     "output_type": "execute_result"
    }
   ],
   "source": [
    "x='05/07/2017 10:24:00'\n",
    "Dos_Goldeneye_end = datetime.strptime(x, '%d/%m/%Y %H:%M:%S').timestamp()\n",
    "Dos_Goldeneye_end"
   ]
  },
  {
   "cell_type": "code",
   "execution_count": 106,
   "id": "80625e5a",
   "metadata": {},
   "outputs": [
    {
     "data": {
      "text/plain": [
       "1499278320.0"
      ]
     },
     "execution_count": 106,
     "metadata": {},
     "output_type": "execute_result"
    }
   ],
   "source": [
    "x='05/07/2017 14:12:00'\n",
    "Dos_heart_start = datetime.strptime(x, '%d/%m/%Y %H:%M:%S').timestamp()\n",
    "Dos_heart_start"
   ]
  },
  {
   "cell_type": "code",
   "execution_count": 107,
   "id": "8545b8c7",
   "metadata": {},
   "outputs": [
    {
     "data": {
      "text/plain": [
       "1499279580.0"
      ]
     },
     "execution_count": 107,
     "metadata": {},
     "output_type": "execute_result"
    }
   ],
   "source": [
    "x='05/07/2017 14:33:00'\n",
    "Dos_heart_end = datetime.strptime(x, '%d/%m/%Y %H:%M:%S').timestamp()\n",
    "Dos_heart_end"
   ]
  },
  {
   "cell_type": "code",
   "execution_count": 108,
   "id": "ae53decd",
   "metadata": {},
   "outputs": [
    {
     "name": "stdout",
     "output_type": "stream",
     "text": [
      "7.7259566105641175 268.90409088134766\n",
      "15.451913221128235 441.37472009658813\n",
      "23.17786983169235 614.5270538330078\n",
      "30.90382644225647 783.1730492115021\n",
      "38.629783052820585 952.0379645824432\n",
      "46.3557396633847 1130.5657069683075\n",
      "54.08169627394882 1314.7526276111603\n",
      "61.80765288451294 1522.8438324928284\n",
      "69.53360949507706 1716.7791647911072\n",
      "77.25956610564117 1891.6865351200104\n",
      "84.9855227162053 2077.581302881241\n",
      "92.7114793267694 2269.7949826717377\n",
      "2448.7441351413727\n"
     ]
    }
   ],
   "source": [
    "start_time = time.time()\n",
    "\n",
    "dict_epochtime = {}\n",
    "dict_source_ip = {}\n",
    "dict_dst_ip = {}\n",
    "dict_source_port = {}\n",
    "dict_dst_port = {}\n",
    "dict_stream = {}\n",
    "dict_sequence = {}\n",
    "dict_eth_header = {}\n",
    "dict_ip_header = {}\n",
    "dict_tcp_header = {}\n",
    "dict_payload = {}\n",
    "dict_direction = {}\n",
    "dict_b_labels ={}\n",
    "dict_d_labels = {}\n",
    "\n",
    "\n",
    "total_no = 0\n",
    "packets = 0\n",
    "with open(\"Wednsday.json\", \"rb\") as f:\n",
    "    for record in ijson.items(f, \"item\"):\n",
    "        total_no += 1\n",
    "        if 'eth:ethertype:ip:tcp' in record[\"_source\"][\"layers\"][\"frame\"][\"frame.protocols\"]:\n",
    "            packets += 1\n",
    "            \n",
    "            if (packets % 1000000) == 0:\n",
    "                print((packets/12943381)*100,(time.time() - start_time))\n",
    "                \n",
    "            epoch_time = record[\"_source\"]['layers']['frame']['frame.time_epoch']\n",
    "            source_ip = record[\"_source\"][\"layers\"]['ip']['ip.src']\n",
    "            dst_ip = record[\"_source\"][\"layers\"]['ip']['ip.dst']\n",
    "            eth_raw = record[\"_source\"]['layers']['eth_raw'][0]\n",
    "            ip_raw = record[\"_source\"]['layers']['ip_raw'][0]\n",
    "            tcp_raw = record[\"_source\"]['layers']['tcp_raw'][0]\n",
    "            all_hex_raw = record[\"_source\"][\"layers\"][\"frame_raw\"][0]\n",
    "            \n",
    "            all_header_raw = eth_raw + ip_raw + tcp_raw\n",
    "            \n",
    "            len_header = len(all_header_raw)\n",
    "            \n",
    "            payload_raw = all_hex_raw[len_header:]\n",
    "\n",
    "            dict_epochtime[packets] = epoch_time\n",
    "            dict_source_ip[packets] = source_ip\n",
    "            dict_dst_ip[packets] = dst_ip\n",
    "            dict_source_port[packets] = record[\"_source\"]['layers']['tcp']['tcp.srcport']\n",
    "            dict_dst_port[packets] = record[\"_source\"]['layers']['tcp']['tcp.dstport']\n",
    "            dict_stream[packets] = record[\"_source\"]['layers']['tcp']['tcp.stream']\n",
    "            dict_sequence[packets] = record[\"_source\"]['layers']['tcp']['tcp.seq']\n",
    "            dict_eth_header[packets] = eth_raw\n",
    "            dict_ip_header[packets] = ip_raw\n",
    "            dict_tcp_header[packets] = tcp_raw\n",
    "            dict_payload[packets] = payload_raw\n",
    "\n",
    "\n",
    "\n",
    "            if  float(epoch_time) >= Dos_slowloris_start and float(epoch_time) <= Dos_slowloris_end:\n",
    "                ##Slowloris = 1\n",
    "                if source_ip == '172.16.0.1' and dst_ip == '192.168.10.50':\n",
    "\n",
    "                    dict_direction[packets]= 'fwd'\n",
    "                    dict_d_labels[packets] = 1\n",
    "                    dict_b_labels[packets] = 1\n",
    "                elif source_ip =='192.168.10.50' and dst_ip == '172.16.0.1':\n",
    "                    dict_direction[packets]= 'bwd'\n",
    "                    dict_d_labels[packets] = 1\n",
    "                    dict_b_labels[packets] = 1\n",
    "\n",
    "            elif  float(epoch_time) >= Dos_slowhttptest_start and float(epoch_time) <= Dos_slowhttptest_end:\n",
    "                ##slowhttptest = 2\n",
    "                if source_ip == '172.16.0.1' and dst_ip == '192.168.10.50':\n",
    "                    dict_direction[packets]= 'fwd'\n",
    "                    dict_d_labels[packets] = 2\n",
    "                    dict_b_labels[packets] = 1 \n",
    "                elif source_ip == '192.168.10.50' and dst_ip == '172.16.0.1':\n",
    "                    dict_direction[packets]= 'bwd'\n",
    "                    dict_d_labels[packets] = 2\n",
    "                    dict_b_labels[packets] = 1 \n",
    "\n",
    "            elif float(epoch_time) >= Dos_Hulk_start and float(epoch_time) <= Dos_Hulk_end:\n",
    "                ##HULK = 3\n",
    "                if source_ip == '172.16.0.1' and dst_ip == '192.168.10.50':\n",
    "                    dict_direction[packets]= 'fwd'\n",
    "                    dict_d_labels[packets] = 3\n",
    "                    dict_b_labels[packets] = 1 \n",
    "                elif source_ip == '192.168.10.50' and dst_ip == '172.16.0.1':\n",
    "\n",
    "                    dict_direction[packets]= 'bwd'\n",
    "                    dict_d_labels[packets] = 3\n",
    "                    dict_b_labels[packets] = 1 \n",
    "\n",
    "            elif float(epoch_time) >= Dos_Goldeneye_start and float(epoch_time) <= Dos_Goldeneye_end:\n",
    "                #GOLDENEYE = 4\n",
    "                if source_ip == '172.16.0.1' and dst_ip == '192.168.10.50':\n",
    "                    dict_direction[packets]= 'fwd'\n",
    "                    dict_d_labels[packets] = 4\n",
    "                    dict_b_labels[packets] = 1 \n",
    "                elif source_ip == '192.168.10.50' and dst_ip == '172.16.0.1':\n",
    "                    dict_direction[packets]= 'bwd'\n",
    "                    dict_d_labels[packets] = 4\n",
    "                    dict_b_labels[packets] = 1 \n",
    "\n",
    "            elif float(epoch_time) >= Dos_heart_start and float(epoch_time) <= Dos_heart_end:\n",
    "                #Heartbleed = 5\n",
    "                if source_ip == '172.16.0.1' and dst_ip == '192.168.10.51':\n",
    "                    dict_direction[packets]= 'fwd'\n",
    "                    dict_d_labels[packets] = 5\n",
    "                    dict_b_labels[packets] = 1 \n",
    "                elif source_ip == '192.168.10.51' and dst_ip == '172.16.0.1':\n",
    "                    dict_direction[packets]= 'bwd'\n",
    "                    dict_d_labels[packets] = 5\n",
    "                    dict_b_labels[packets] = 1\n",
    "            else:\n",
    "                dict_direction[packets]= 'unknown'\n",
    "                dict_d_labels[packets] = 0\n",
    "                dict_b_labels[packets] = 0\n",
    "\n",
    "                \n",
    "print(time.time() - start_time)"
   ]
  },
  {
   "cell_type": "code",
   "execution_count": 109,
   "id": "661c247f",
   "metadata": {},
   "outputs": [
    {
     "data": {
      "text/plain": [
       "0    8937464\n",
       "3    2246818\n",
       "4     106177\n",
       "5      49296\n",
       "1      47586\n",
       "2      39662\n",
       "dtype: int64"
      ]
     },
     "execution_count": 109,
     "metadata": {},
     "output_type": "execute_result"
    }
   ],
   "source": [
    "pd.DataFrame(dict_d_labels.values()).value_counts()"
   ]
  },
  {
   "cell_type": "code",
   "execution_count": 110,
   "id": "691abddd",
   "metadata": {},
   "outputs": [
    {
     "data": {
      "text/plain": [
       "12943316"
      ]
     },
     "execution_count": 110,
     "metadata": {},
     "output_type": "execute_result"
    }
   ],
   "source": [
    "packets"
   ]
  },
  {
   "cell_type": "code",
   "execution_count": 111,
   "id": "a8a8ca9d",
   "metadata": {},
   "outputs": [
    {
     "data": {
      "text/plain": [
       "12943381"
      ]
     },
     "execution_count": 111,
     "metadata": {},
     "output_type": "execute_result"
    }
   ],
   "source": [
    "total_no"
   ]
  },
  {
   "cell_type": "code",
   "execution_count": 201,
   "id": "cbc988fd",
   "metadata": {},
   "outputs": [],
   "source": [
    "payload_byte_data = pd.DataFrame()"
   ]
  },
  {
   "cell_type": "code",
   "execution_count": 202,
   "id": "9fc454ae",
   "metadata": {},
   "outputs": [],
   "source": [
    "epoch_times_ = pd.DataFrame(dict_epochtime.values())"
   ]
  },
  {
   "cell_type": "code",
   "execution_count": 203,
   "id": "faa20fd2",
   "metadata": {},
   "outputs": [],
   "source": [
    "source_ips_ = pd.DataFrame(dict_source_ip.values())"
   ]
  },
  {
   "cell_type": "code",
   "execution_count": 204,
   "id": "ecc3a9cf",
   "metadata": {},
   "outputs": [],
   "source": [
    "dst_ips_ = pd.DataFrame(dict_dst_ip.values())"
   ]
  },
  {
   "cell_type": "code",
   "execution_count": 205,
   "id": "c71c9c6d",
   "metadata": {},
   "outputs": [],
   "source": [
    "source_ports_ = pd.DataFrame(dict_source_port.values())"
   ]
  },
  {
   "cell_type": "code",
   "execution_count": 206,
   "id": "3c5f6083",
   "metadata": {},
   "outputs": [],
   "source": [
    "dst_ports_ = pd.DataFrame(dict_dst_port.values())"
   ]
  },
  {
   "cell_type": "code",
   "execution_count": 207,
   "id": "868ecd10",
   "metadata": {},
   "outputs": [],
   "source": [
    "streams_ = pd.DataFrame(dict_stream.values())"
   ]
  },
  {
   "cell_type": "code",
   "execution_count": 208,
   "id": "41e19b1a",
   "metadata": {},
   "outputs": [],
   "source": [
    "seq_ = pd.DataFrame(dict_sequence.values())"
   ]
  },
  {
   "cell_type": "code",
   "execution_count": 209,
   "id": "1864ebfd",
   "metadata": {},
   "outputs": [],
   "source": [
    "eth_ = pd.DataFrame(dict_eth_header.values())"
   ]
  },
  {
   "cell_type": "code",
   "execution_count": 210,
   "id": "713e1088",
   "metadata": {},
   "outputs": [],
   "source": [
    "ip_ = pd.DataFrame(dict_ip_header.values())"
   ]
  },
  {
   "cell_type": "code",
   "execution_count": 211,
   "id": "bcfc89d5",
   "metadata": {},
   "outputs": [],
   "source": [
    "tcp_ = pd.DataFrame(dict_tcp_header.values())"
   ]
  },
  {
   "cell_type": "code",
   "execution_count": 212,
   "id": "57ff26cd",
   "metadata": {},
   "outputs": [],
   "source": [
    "payload_ = pd.DataFrame(dict_payload.values())"
   ]
  },
  {
   "cell_type": "code",
   "execution_count": 213,
   "id": "ac424349",
   "metadata": {},
   "outputs": [],
   "source": [
    "direction_ = pd.DataFrame(dict_direction.values())"
   ]
  },
  {
   "cell_type": "code",
   "execution_count": 214,
   "id": "d4c9b3a9",
   "metadata": {},
   "outputs": [],
   "source": [
    "d_labels_ = pd.DataFrame(dict_d_labels.values())\n",
    "b_labels_ = pd.DataFrame(dict_b_labels.values())"
   ]
  },
  {
   "cell_type": "code",
   "execution_count": null,
   "id": "16d1a38c",
   "metadata": {},
   "outputs": [],
   "source": []
  },
  {
   "cell_type": "code",
   "execution_count": 215,
   "id": "302448c3",
   "metadata": {},
   "outputs": [],
   "source": [
    "payload_byte_data['Epoch Time'] = epoch_times_"
   ]
  },
  {
   "cell_type": "code",
   "execution_count": 216,
   "id": "5339c713",
   "metadata": {},
   "outputs": [],
   "source": [
    "payload_byte_data['Source IP'] = source_ips_"
   ]
  },
  {
   "cell_type": "code",
   "execution_count": 217,
   "id": "a1343e20",
   "metadata": {},
   "outputs": [],
   "source": [
    "payload_byte_data['Dst IP'] = dst_ips_"
   ]
  },
  {
   "cell_type": "code",
   "execution_count": 218,
   "id": "bd16b278",
   "metadata": {},
   "outputs": [],
   "source": [
    "payload_byte_data['Source Port'] = source_ports_"
   ]
  },
  {
   "cell_type": "code",
   "execution_count": 219,
   "id": "d9cd2eea",
   "metadata": {},
   "outputs": [],
   "source": [
    "payload_byte_data['Dst Port'] = dst_ports_"
   ]
  },
  {
   "cell_type": "code",
   "execution_count": 220,
   "id": "3e9f2b17",
   "metadata": {},
   "outputs": [],
   "source": [
    "payload_byte_data['Stream Index'] = streams_"
   ]
  },
  {
   "cell_type": "code",
   "execution_count": 221,
   "id": "a5d4199b",
   "metadata": {},
   "outputs": [],
   "source": [
    "payload_byte_data['Sequence Number'] = seq_"
   ]
  },
  {
   "cell_type": "code",
   "execution_count": 222,
   "id": "7deda819",
   "metadata": {},
   "outputs": [],
   "source": [
    "payload_byte_data['Eth Header'] = eth_"
   ]
  },
  {
   "cell_type": "code",
   "execution_count": 223,
   "id": "2da4aefc",
   "metadata": {},
   "outputs": [],
   "source": [
    "payload_byte_data['IP Header'] = ip_"
   ]
  },
  {
   "cell_type": "code",
   "execution_count": 224,
   "id": "5267db1a",
   "metadata": {},
   "outputs": [],
   "source": [
    "payload_byte_data['TCP Header'] = tcp_"
   ]
  },
  {
   "cell_type": "code",
   "execution_count": 225,
   "id": "50145dad",
   "metadata": {},
   "outputs": [],
   "source": [
    "payload_byte_data['Payload'] = payload_"
   ]
  },
  {
   "cell_type": "code",
   "execution_count": 226,
   "id": "0644d4fd",
   "metadata": {},
   "outputs": [],
   "source": [
    "payload_byte_data['Direction'] = direction_"
   ]
  },
  {
   "cell_type": "code",
   "execution_count": 227,
   "id": "8e0ace80",
   "metadata": {},
   "outputs": [],
   "source": [
    "payload_byte_data['Binary Label'] = b_labels_"
   ]
  },
  {
   "cell_type": "code",
   "execution_count": 228,
   "id": "49ce9a5d",
   "metadata": {},
   "outputs": [],
   "source": [
    "payload_byte_data['Class Label'] = d_labels_"
   ]
  },
  {
   "cell_type": "code",
   "execution_count": null,
   "id": "0b71a9f6",
   "metadata": {},
   "outputs": [],
   "source": []
  },
  {
   "cell_type": "code",
   "execution_count": 229,
   "id": "d5e1eed5",
   "metadata": {},
   "outputs": [],
   "source": [
    "payload_byte_data = payload_byte_data.dropna()"
   ]
  },
  {
   "cell_type": "code",
   "execution_count": 230,
   "id": "8b67fdaf",
   "metadata": {},
   "outputs": [],
   "source": [
    "payload_byte_data = payload_byte_data.reset_index(drop = True)"
   ]
  },
  {
   "cell_type": "code",
   "execution_count": 231,
   "id": "5d160996",
   "metadata": {},
   "outputs": [],
   "source": [
    "payload_byte_data = payload_byte_data.astype({\"Source Port\": int, \"Dst Port\": int})"
   ]
  },
  {
   "cell_type": "code",
   "execution_count": 232,
   "id": "f736c9ab",
   "metadata": {},
   "outputs": [
    {
     "data": {
      "text/html": [
       "<div>\n",
       "<style scoped>\n",
       "    .dataframe tbody tr th:only-of-type {\n",
       "        vertical-align: middle;\n",
       "    }\n",
       "\n",
       "    .dataframe tbody tr th {\n",
       "        vertical-align: top;\n",
       "    }\n",
       "\n",
       "    .dataframe thead th {\n",
       "        text-align: right;\n",
       "    }\n",
       "</style>\n",
       "<table border=\"1\" class=\"dataframe\">\n",
       "  <thead>\n",
       "    <tr style=\"text-align: right;\">\n",
       "      <th></th>\n",
       "      <th>Epoch Time</th>\n",
       "      <th>Source IP</th>\n",
       "      <th>Dst IP</th>\n",
       "      <th>Source Port</th>\n",
       "      <th>Dst Port</th>\n",
       "      <th>Stream Index</th>\n",
       "      <th>Sequence Number</th>\n",
       "      <th>Eth Header</th>\n",
       "      <th>IP Header</th>\n",
       "      <th>TCP Header</th>\n",
       "      <th>Payload</th>\n",
       "      <th>Direction</th>\n",
       "      <th>Binary Label</th>\n",
       "      <th>Class Label</th>\n",
       "    </tr>\n",
       "  </thead>\n",
       "  <tbody>\n",
       "    <tr>\n",
       "      <th>11426998</th>\n",
       "      <td>1499276130.703252000</td>\n",
       "      <td>192.168.10.51</td>\n",
       "      <td>172.16.0.1</td>\n",
       "      <td>53199</td>\n",
       "      <td>443</td>\n",
       "      <td>243533</td>\n",
       "      <td>518</td>\n",
       "      <td>00c1b114eb31b8ac6f360ba80800</td>\n",
       "      <td>4500006712f240004006b0b2c0a80a33ac100001</td>\n",
       "      <td>cfcf01bb1e1ff5db16745212801800ed10d50000010108...</td>\n",
       "      <td>1403030001011603030028000000000000000038daafd4...</td>\n",
       "      <td>unknown</td>\n",
       "      <td>0.0</td>\n",
       "      <td>0.0</td>\n",
       "    </tr>\n",
       "    <tr>\n",
       "      <th>11426999</th>\n",
       "      <td>1499276130.710634000</td>\n",
       "      <td>192.168.10.51</td>\n",
       "      <td>172.16.0.1</td>\n",
       "      <td>53199</td>\n",
       "      <td>443</td>\n",
       "      <td>243533</td>\n",
       "      <td>569</td>\n",
       "      <td>00c1b114eb31b8ac6f360ba80800</td>\n",
       "      <td>4500044512f340004006acd3c0a80a33ac100001</td>\n",
       "      <td>cfcf01bb1e1ff60e16745212801800ed240a0000010108...</td>\n",
       "      <td>170303040c0000000000000001d8abb5d8f94ba170b7f0...</td>\n",
       "      <td>unknown</td>\n",
       "      <td>0.0</td>\n",
       "      <td>0.0</td>\n",
       "    </tr>\n",
       "    <tr>\n",
       "      <th>11427000</th>\n",
       "      <td>1499276130.710822000</td>\n",
       "      <td>172.16.0.1</td>\n",
       "      <td>192.168.10.51</td>\n",
       "      <td>443</td>\n",
       "      <td>53199</td>\n",
       "      <td>243533</td>\n",
       "      <td>138</td>\n",
       "      <td>b8ac6f360ba800c1b114eb310800</td>\n",
       "      <td>45000034034f40003f06c188ac100001c0a80a33</td>\n",
       "      <td>01bbcfcf167452121e1ffa1f80100008748a0000010108...</td>\n",
       "      <td></td>\n",
       "      <td>unknown</td>\n",
       "      <td>0.0</td>\n",
       "      <td>0.0</td>\n",
       "    </tr>\n",
       "    <tr>\n",
       "      <th>11427001</th>\n",
       "      <td>1499276130.712774000</td>\n",
       "      <td>172.16.0.1</td>\n",
       "      <td>192.168.10.51</td>\n",
       "      <td>443</td>\n",
       "      <td>53199</td>\n",
       "      <td>243533</td>\n",
       "      <td>138</td>\n",
       "      <td>b8ac6f360ba800c1b114eb310800</td>\n",
       "      <td>450003ed035040003f06bdceac100001c0a80a33</td>\n",
       "      <td>01bbcfcf167452121e1ffa1f80180008e08c0000010108...</td>\n",
       "      <td>17030303b47afae7964293d5a95cafa87c2299917f5a12...</td>\n",
       "      <td>unknown</td>\n",
       "      <td>0.0</td>\n",
       "      <td>0.0</td>\n",
       "    </tr>\n",
       "    <tr>\n",
       "      <th>11427002</th>\n",
       "      <td>1499276130.752354000</td>\n",
       "      <td>192.168.10.51</td>\n",
       "      <td>172.16.0.1</td>\n",
       "      <td>53199</td>\n",
       "      <td>443</td>\n",
       "      <td>243533</td>\n",
       "      <td>1610</td>\n",
       "      <td>00c1b114eb31b8ac6f360ba80800</td>\n",
       "      <td>4500003412f440004006b0e3c0a80a33ac100001</td>\n",
       "      <td>cfcf01bb1e1ffa1f167455cb801000fc6fd00000010108...</td>\n",
       "      <td></td>\n",
       "      <td>unknown</td>\n",
       "      <td>0.0</td>\n",
       "      <td>0.0</td>\n",
       "    </tr>\n",
       "  </tbody>\n",
       "</table>\n",
       "</div>"
      ],
      "text/plain": [
       "                    Epoch Time      Source IP         Dst IP  Source Port  \\\n",
       "11426998  1499276130.703252000  192.168.10.51     172.16.0.1        53199   \n",
       "11426999  1499276130.710634000  192.168.10.51     172.16.0.1        53199   \n",
       "11427000  1499276130.710822000     172.16.0.1  192.168.10.51          443   \n",
       "11427001  1499276130.712774000     172.16.0.1  192.168.10.51          443   \n",
       "11427002  1499276130.752354000  192.168.10.51     172.16.0.1        53199   \n",
       "\n",
       "          Dst Port Stream Index Sequence Number                    Eth Header  \\\n",
       "11426998       443       243533             518  00c1b114eb31b8ac6f360ba80800   \n",
       "11426999       443       243533             569  00c1b114eb31b8ac6f360ba80800   \n",
       "11427000     53199       243533             138  b8ac6f360ba800c1b114eb310800   \n",
       "11427001     53199       243533             138  b8ac6f360ba800c1b114eb310800   \n",
       "11427002       443       243533            1610  00c1b114eb31b8ac6f360ba80800   \n",
       "\n",
       "                                         IP Header  \\\n",
       "11426998  4500006712f240004006b0b2c0a80a33ac100001   \n",
       "11426999  4500044512f340004006acd3c0a80a33ac100001   \n",
       "11427000  45000034034f40003f06c188ac100001c0a80a33   \n",
       "11427001  450003ed035040003f06bdceac100001c0a80a33   \n",
       "11427002  4500003412f440004006b0e3c0a80a33ac100001   \n",
       "\n",
       "                                                 TCP Header  \\\n",
       "11426998  cfcf01bb1e1ff5db16745212801800ed10d50000010108...   \n",
       "11426999  cfcf01bb1e1ff60e16745212801800ed240a0000010108...   \n",
       "11427000  01bbcfcf167452121e1ffa1f80100008748a0000010108...   \n",
       "11427001  01bbcfcf167452121e1ffa1f80180008e08c0000010108...   \n",
       "11427002  cfcf01bb1e1ffa1f167455cb801000fc6fd00000010108...   \n",
       "\n",
       "                                                    Payload Direction  \\\n",
       "11426998  1403030001011603030028000000000000000038daafd4...   unknown   \n",
       "11426999  170303040c0000000000000001d8abb5d8f94ba170b7f0...   unknown   \n",
       "11427000                                                      unknown   \n",
       "11427001  17030303b47afae7964293d5a95cafa87c2299917f5a12...   unknown   \n",
       "11427002                                                      unknown   \n",
       "\n",
       "          Binary Label  Class Label  \n",
       "11426998           0.0          0.0  \n",
       "11426999           0.0          0.0  \n",
       "11427000           0.0          0.0  \n",
       "11427001           0.0          0.0  \n",
       "11427002           0.0          0.0  "
      ]
     },
     "execution_count": 232,
     "metadata": {},
     "output_type": "execute_result"
    }
   ],
   "source": [
    "payload_byte_data.tail()"
   ]
  },
  {
   "cell_type": "code",
   "execution_count": null,
   "id": "e5200264",
   "metadata": {},
   "outputs": [],
   "source": []
  },
  {
   "cell_type": "code",
   "execution_count": null,
   "id": "5ae319aa",
   "metadata": {},
   "outputs": [],
   "source": []
  },
  {
   "cell_type": "code",
   "execution_count": 233,
   "id": "bbbc76ff",
   "metadata": {},
   "outputs": [
    {
     "data": {
      "text/plain": [
       "11427003"
      ]
     },
     "execution_count": 233,
     "metadata": {},
     "output_type": "execute_result"
    }
   ],
   "source": [
    "len(payload_byte_data)"
   ]
  },
  {
   "cell_type": "code",
   "execution_count": 234,
   "id": "b4a24fb5",
   "metadata": {},
   "outputs": [
    {
     "data": {
      "text/plain": [
       "unknown    8937464\n",
       "fwd        1411880\n",
       "bwd        1077659\n",
       "Name: Direction, dtype: int64"
      ]
     },
     "execution_count": 234,
     "metadata": {},
     "output_type": "execute_result"
    }
   ],
   "source": [
    "payload_byte_data['Direction'].value_counts()"
   ]
  },
  {
   "cell_type": "code",
   "execution_count": 235,
   "id": "a47b671a",
   "metadata": {},
   "outputs": [
    {
     "data": {
      "text/plain": [
       "Direction  Class Label\n",
       "bwd        3.0            1000016\n",
       "           4.0              39382\n",
       "           5.0              20884\n",
       "           1.0              10350\n",
       "           2.0               7027\n",
       "fwd        3.0            1246802\n",
       "           4.0              66795\n",
       "           1.0              37236\n",
       "           2.0              32635\n",
       "           5.0              28412\n",
       "unknown    0.0            8937464\n",
       "Name: Class Label, dtype: int64"
      ]
     },
     "execution_count": 235,
     "metadata": {},
     "output_type": "execute_result"
    }
   ],
   "source": [
    "payload_byte_data.groupby('Direction')['Class Label'].value_counts()"
   ]
  },
  {
   "cell_type": "code",
   "execution_count": 236,
   "id": "2a63491c",
   "metadata": {},
   "outputs": [],
   "source": [
    "df_b = payload_byte_data[payload_byte_data['Class Label']==0]"
   ]
  },
  {
   "cell_type": "code",
   "execution_count": 237,
   "id": "ed4dbae9",
   "metadata": {},
   "outputs": [],
   "source": [
    "df_a = payload_byte_data[payload_byte_data['Class Label'] != 0]"
   ]
  },
  {
   "cell_type": "code",
   "execution_count": 238,
   "id": "1a2e0be2",
   "metadata": {},
   "outputs": [],
   "source": [
    "df_b = df_b.reset_index(drop = True)"
   ]
  },
  {
   "cell_type": "code",
   "execution_count": 239,
   "id": "915a3ef7",
   "metadata": {},
   "outputs": [],
   "source": [
    "df_a = df_a.reset_index(drop = True)"
   ]
  },
  {
   "cell_type": "code",
   "execution_count": null,
   "id": "9bb78162",
   "metadata": {},
   "outputs": [],
   "source": []
  },
  {
   "cell_type": "code",
   "execution_count": 240,
   "id": "560c4732",
   "metadata": {},
   "outputs": [],
   "source": [
    "df1 = pd.read_csv('troubleshooting dataset/Wednesday-WorkingHours.csv')"
   ]
  },
  {
   "cell_type": "code",
   "execution_count": 241,
   "id": "cacb9331",
   "metadata": {},
   "outputs": [],
   "source": [
    "def df_prep_frwrd_prts(df1):\n",
    "    \n",
    "    df1 = df1[df1['Protocol'] ==6]\n",
    "    df1 = df1[df1['Label'] =='BENIGN']\n",
    "    #df1 = df1[['Src IP', 'Dst IP', 'Src Port', 'Dst Port', 'Timestamp','Label']].copy()\n",
    "    \n",
    "    #unique src prt and dst prt\n",
    "    srcprt_list = df1['Src Port'].unique()\n",
    "    dstprt_list = df1['Dst Port'].unique()\n",
    "    print(len(srcprt_list))\n",
    "    print('-----------')\n",
    "    print(len(dstprt_list))\n",
    "    print('-----------')\n",
    "    intersect = set(srcprt_list).intersection(dstprt_list)\n",
    "    print(len(intersect))\n",
    "    print('-----------')\n",
    "    #print(intersect)\n",
    "    \n",
    "    \n",
    "    df1 = df1[~df1['Src Port'].isin(intersect)]\n",
    "    \n",
    "    #calculate the epoch time from timestamp\n",
    "    #df1['epoch']=df1['Timestamp'].apply(lambda x: (datetime.strptime(x, '%d/%m/%Y %H:%M')) if x.count(':') == 1 else  (datetime.strptime(x, '%d/%m/%Y %H:%M:%S')))\n",
    "    #df1['epoch']=df1['epoch'].apply(lambda x: int((datetime(x.year,x.month,x.day,(x.hour+12),x.minute,x.second)).timestamp()) if (x.hour>=1)&(x.hour<=7) else int((datetime(x.year,x.month,x.day,x.hour,x.minute,x.second)).timestamp()))\n",
    "    \n",
    "    df1 = df1.reset_index(drop=True)\n",
    "    \n",
    "    return df1"
   ]
  },
  {
   "cell_type": "code",
   "execution_count": 242,
   "id": "6f17211c",
   "metadata": {},
   "outputs": [
    {
     "name": "stdout",
     "output_type": "stream",
     "text": [
      "34938\n",
      "-----------\n",
      "681\n",
      "-----------\n",
      "419\n",
      "-----------\n",
      "{40963, 49157, 47110, 20500, 34839, 45080, 53272, 45082, 57370, 22559, 40999, 22567, 53288, 20520, 49202, 16435, 14387, 61497, 36930, 55370, 80, 45139, 20567, 88, 41054, 32864, 49255, 53356, 53358, 14449, 47220, 32886, 36987, 18560, 14467, 51331, 61577, 22666, 41120, 14499, 45224, 53417, 37041, 16572, 53443, 20676, 41157, 35014, 47302, 61644, 47312, 16597, 16605, 20712, 49386, 47342, 49391, 20722, 20724, 22773, 18678, 49400, 53515, 35096, 20761, 51482, 20763, 20768, 49441, 35106, 37152, 45352, 51496, 51498, 47402, 49461, 57653, 51513, 49466, 33083, 14651, 49465, 18755, 22855, 53576, 33097, 14667, 57677, 47440, 16732, 47455, 39273, 47475, 14709, 59775, 389, 35215, 51617, 16820, 22966, 443, 61889, 47556, 59846, 43462, 18889, 14793, 51672, 51676, 41436, 59881, 14839, 45560, 14840, 53754, 51710, 55807, 49666, 33284, 39431, 49671, 53769, 47628, 49678, 21015, 47640, 21025, 16933, 16934, 59950, 49721, 59961, 62012, 47681, 43590, 59976, 59990, 49754, 21094, 23145, 35437, 47726, 51828, 51829, 37501, 62081, 49798, 55944, 47760, 45713, 43666, 53905, 49814, 45724, 17065, 62122, 55981, 51888, 49846, 39607, 41660, 37566, 49856, 37574, 43720, 19152, 35538, 45788, 35555, 23279, 19183, 60147, 43764, 51961, 41725, 54014, 62210, 51976, 43786, 23315, 62228, 49950, 39718, 49961, 45866, 43832, 47930, 60223, 52042, 56144, 52052, 54101, 54109, 45926, 58216, 39790, 15235, 37766, 60296, 15245, 52110, 52121, 39837, 37790, 58269, 21428, 33724, 23486, 60355, 15308, 46037, 21466, 56283, 21471, 60383, 35808, 44002, 33770, 15346, 54261, 48118, 44032, 52237, 52238, 46102, 23581, 35879, 48175, 54334, 44114, 56409, 54365, 19552, 50281, 35949, 46192, 60536, 60555, 21645, 48269, 50320, 56467, 42132, 46229, 56474, 19613, 52404, 46266, 38076, 56519, 48332, 48335, 52440, 36063, 17636, 15593, 56568, 21753, 40186, 19711, 50446, 52496, 46354, 40218, 50460, 54557, 56613, 52538, 50502, 56647, 56654, 52560, 54614, 15703, 42330, 58717, 52575, 46436, 60776, 58732, 17774, 46448, 60784, 44412, 56704, 21889, 17797, 46470, 52619, 52620, 52622, 44432, 36255, 50593, 42408, 44459, 46512, 21936, 44469, 46522, 17852, 54725, 42440, 46563, 52707, 52712, 40425, 40452, 48648, 42509, 40462, 17940, 54823, 48688, 58932, 44601, 38466, 22084, 13900, 38476, 52822, 58969, 50786, 50792, 58987, 52847, 46704, 22131, 42612, 58999, 61047, 42618, 42623, 46722, 46724, 16004, 48776, 42634, 16011, 16017, 36508, 22176, 42658, 20130, 59042, 13991, 59048, 48809, 22187, 52932, 20173, 52943, 52963, 42726, 20199, 44774, 59115, 52973, 38639, 40698, 50946, 18182, 20231, 57096, 14089, 57098, 57095, 57101, 42772, 53014, 59160, 22301, 38686, 40738, 42788, 50985, 44846, 20272, 53044, 51003, 51006, 59201, 53064, 61264, 55125, 53079, 18264, 46941, 36702, 59233, 55139, 51046, 20335, 46960, 22393, 22398, 51079, 59274, 16267, 44946, 38808, 20390, 61354, 14257, 55218, 40890, 55227, 51134, 34756, 53192, 40904, 59346, 51166, 47070, 51168, 55263, 16367, 53237, 47100}\n"
     ]
    }
   ],
   "source": [
    "df1 = df_prep_frwrd_prts(df1)"
   ]
  },
  {
   "cell_type": "code",
   "execution_count": 243,
   "id": "a44ec4e3",
   "metadata": {},
   "outputs": [],
   "source": [
    "df_b_fwd = df_b[df_b['Source Port'].isin(df1['Src Port'].unique())] "
   ]
  },
  {
   "cell_type": "code",
   "execution_count": 244,
   "id": "7d6b6fee",
   "metadata": {},
   "outputs": [],
   "source": [
    "df_b_bwd = df_b[df_b['Dst Port'].isin(df1['Src Port'].unique())] "
   ]
  },
  {
   "cell_type": "code",
   "execution_count": 245,
   "id": "041a5a67",
   "metadata": {},
   "outputs": [
    {
     "name": "stderr",
     "output_type": "stream",
     "text": [
      "C:\\Users\\Jalal\\AppData\\Local\\Temp\\ipykernel_26096\\3752041767.py:1: SettingWithCopyWarning: \n",
      "A value is trying to be set on a copy of a slice from a DataFrame.\n",
      "Try using .loc[row_indexer,col_indexer] = value instead\n",
      "\n",
      "See the caveats in the documentation: https://pandas.pydata.org/pandas-docs/stable/user_guide/indexing.html#returning-a-view-versus-a-copy\n",
      "  df_b_fwd['Direction'] = df_b_fwd['Direction'].replace(['unknown'], 'fwd')\n"
     ]
    }
   ],
   "source": [
    "df_b_fwd['Direction'] = df_b_fwd['Direction'].replace(['unknown'], 'fwd')"
   ]
  },
  {
   "cell_type": "code",
   "execution_count": 246,
   "id": "5a3e65cb",
   "metadata": {},
   "outputs": [
    {
     "name": "stderr",
     "output_type": "stream",
     "text": [
      "C:\\Users\\Jalal\\AppData\\Local\\Temp\\ipykernel_26096\\3888835064.py:1: SettingWithCopyWarning: \n",
      "A value is trying to be set on a copy of a slice from a DataFrame.\n",
      "Try using .loc[row_indexer,col_indexer] = value instead\n",
      "\n",
      "See the caveats in the documentation: https://pandas.pydata.org/pandas-docs/stable/user_guide/indexing.html#returning-a-view-versus-a-copy\n",
      "  df_b_bwd['Direction'] = df_b_bwd['Direction'].replace(['unknown'], 'bwd')\n"
     ]
    }
   ],
   "source": [
    "df_b_bwd['Direction'] = df_b_bwd['Direction'].replace(['unknown'], 'bwd')"
   ]
  },
  {
   "cell_type": "code",
   "execution_count": 248,
   "id": "d279b95e",
   "metadata": {},
   "outputs": [
    {
     "data": {
      "text/html": [
       "<div>\n",
       "<style scoped>\n",
       "    .dataframe tbody tr th:only-of-type {\n",
       "        vertical-align: middle;\n",
       "    }\n",
       "\n",
       "    .dataframe tbody tr th {\n",
       "        vertical-align: top;\n",
       "    }\n",
       "\n",
       "    .dataframe thead th {\n",
       "        text-align: right;\n",
       "    }\n",
       "</style>\n",
       "<table border=\"1\" class=\"dataframe\">\n",
       "  <thead>\n",
       "    <tr style=\"text-align: right;\">\n",
       "      <th></th>\n",
       "      <th>Epoch Time</th>\n",
       "      <th>Source IP</th>\n",
       "      <th>Dst IP</th>\n",
       "      <th>Source Port</th>\n",
       "      <th>Dst Port</th>\n",
       "      <th>Stream Index</th>\n",
       "      <th>Sequence Number</th>\n",
       "      <th>Eth Header</th>\n",
       "      <th>IP Header</th>\n",
       "      <th>TCP Header</th>\n",
       "      <th>Payload</th>\n",
       "      <th>Direction</th>\n",
       "      <th>Binary Label</th>\n",
       "      <th>Class Label</th>\n",
       "    </tr>\n",
       "  </thead>\n",
       "  <tbody>\n",
       "    <tr>\n",
       "      <th>5</th>\n",
       "      <td>1499254962.534975000</td>\n",
       "      <td>40.83.143.209</td>\n",
       "      <td>192.168.10.14</td>\n",
       "      <td>443</td>\n",
       "      <td>49460</td>\n",
       "      <td>1</td>\n",
       "      <td>1</td>\n",
       "      <td>b8ac6f3607ee00c1b114eb310800</td>\n",
       "      <td>45000028003640006b068cbf28538fd1c0a80a0e</td>\n",
       "      <td>01bbc13475a579ec3be07c0a50100201c08c0000</td>\n",
       "      <td>000000000000</td>\n",
       "      <td>bwd</td>\n",
       "      <td>0.0</td>\n",
       "      <td>0.0</td>\n",
       "    </tr>\n",
       "    <tr>\n",
       "      <th>6</th>\n",
       "      <td>1499254962.535235000</td>\n",
       "      <td>40.83.143.209</td>\n",
       "      <td>192.168.10.14</td>\n",
       "      <td>443</td>\n",
       "      <td>49460</td>\n",
       "      <td>1</td>\n",
       "      <td>1</td>\n",
       "      <td>b8ac6f3607ee00c1b114eb310800</td>\n",
       "      <td>45000028003740006b068cbe28538fd1c0a80a0e</td>\n",
       "      <td>01bbc13475a579ec3be0849f50100201b7f70000</td>\n",
       "      <td>000000000000</td>\n",
       "      <td>bwd</td>\n",
       "      <td>0.0</td>\n",
       "      <td>0.0</td>\n",
       "    </tr>\n",
       "    <tr>\n",
       "      <th>7</th>\n",
       "      <td>1499254962.941237000</td>\n",
       "      <td>40.83.143.209</td>\n",
       "      <td>192.168.10.14</td>\n",
       "      <td>443</td>\n",
       "      <td>49460</td>\n",
       "      <td>1</td>\n",
       "      <td>1</td>\n",
       "      <td>b8ac6f3607ee00c1b114eb310800</td>\n",
       "      <td>4500015d003840006b068b8828538fd1c0a80a0e</td>\n",
       "      <td>01bbc13475a579ec3be0849f5018020156020000</td>\n",
       "      <td>1703030130b7ceff6c5a8cca28ff1bd8e241be6d53a9d9...</td>\n",
       "      <td>bwd</td>\n",
       "      <td>0.0</td>\n",
       "      <td>0.0</td>\n",
       "    </tr>\n",
       "    <tr>\n",
       "      <th>18</th>\n",
       "      <td>1499254963.604454000</td>\n",
       "      <td>192.168.10.3</td>\n",
       "      <td>192.168.10.12</td>\n",
       "      <td>3268</td>\n",
       "      <td>59656</td>\n",
       "      <td>2</td>\n",
       "      <td>1</td>\n",
       "      <td>b8ac6f3604e31866da9be37d0800</td>\n",
       "      <td>450002a237a7400080062b4fc0a80a03c0a80a0c</td>\n",
       "      <td>0cc4e9083fdca8bbe2fefe6b8018081c91d70000010108...</td>\n",
       "      <td>0000026a6082026606092a864886f71201020202011100...</td>\n",
       "      <td>bwd</td>\n",
       "      <td>0.0</td>\n",
       "      <td>0.0</td>\n",
       "    </tr>\n",
       "    <tr>\n",
       "      <th>19</th>\n",
       "      <td>1499254963.604456000</td>\n",
       "      <td>192.168.10.3</td>\n",
       "      <td>192.168.10.12</td>\n",
       "      <td>3268</td>\n",
       "      <td>59656</td>\n",
       "      <td>2</td>\n",
       "      <td>1</td>\n",
       "      <td>b8ac6f3604e31866da9be37d0800</td>\n",
       "      <td>450002a237a7400080062b4fc0a80a03c0a80a0c</td>\n",
       "      <td>0cc4e9083fdca8bbe2fefe6b8018081c91d70000010108...</td>\n",
       "      <td>0000026a6082026606092a864886f71201020202011100...</td>\n",
       "      <td>bwd</td>\n",
       "      <td>0.0</td>\n",
       "      <td>0.0</td>\n",
       "    </tr>\n",
       "    <tr>\n",
       "      <th>...</th>\n",
       "      <td>...</td>\n",
       "      <td>...</td>\n",
       "      <td>...</td>\n",
       "      <td>...</td>\n",
       "      <td>...</td>\n",
       "      <td>...</td>\n",
       "      <td>...</td>\n",
       "      <td>...</td>\n",
       "      <td>...</td>\n",
       "      <td>...</td>\n",
       "      <td>...</td>\n",
       "      <td>...</td>\n",
       "      <td>...</td>\n",
       "      <td>...</td>\n",
       "    </tr>\n",
       "    <tr>\n",
       "      <th>8937453</th>\n",
       "      <td>1499276130.701758000</td>\n",
       "      <td>172.16.0.1</td>\n",
       "      <td>192.168.10.51</td>\n",
       "      <td>443</td>\n",
       "      <td>53199</td>\n",
       "      <td>243533</td>\n",
       "      <td>0</td>\n",
       "      <td>b8ac6f360ba800c1b114eb310800</td>\n",
       "      <td>4500003cc45240003f06007dac100001c0a80a33</td>\n",
       "      <td>01bbcfcf167451881e1ff3d6a012fe884e0a0000020405...</td>\n",
       "      <td></td>\n",
       "      <td>bwd</td>\n",
       "      <td>0.0</td>\n",
       "      <td>0.0</td>\n",
       "    </tr>\n",
       "    <tr>\n",
       "      <th>8937456</th>\n",
       "      <td>1499276130.702180000</td>\n",
       "      <td>172.16.0.1</td>\n",
       "      <td>192.168.10.51</td>\n",
       "      <td>443</td>\n",
       "      <td>53199</td>\n",
       "      <td>243533</td>\n",
       "      <td>1</td>\n",
       "      <td>b8ac6f360ba800c1b114eb310800</td>\n",
       "      <td>45000034034d40003f06c18aac100001c0a80a33</td>\n",
       "      <td>01bbcfcf167451891e1ff5db8010000879580000010108...</td>\n",
       "      <td></td>\n",
       "      <td>bwd</td>\n",
       "      <td>0.0</td>\n",
       "      <td>0.0</td>\n",
       "    </tr>\n",
       "    <tr>\n",
       "      <th>8937457</th>\n",
       "      <td>1499276130.702964000</td>\n",
       "      <td>172.16.0.1</td>\n",
       "      <td>192.168.10.51</td>\n",
       "      <td>443</td>\n",
       "      <td>53199</td>\n",
       "      <td>243533</td>\n",
       "      <td>1</td>\n",
       "      <td>b8ac6f360ba800c1b114eb310800</td>\n",
       "      <td>450000bd034e40003f06c100ac100001c0a80a33</td>\n",
       "      <td>01bbcfcf167451891e1ff5db801800084ed60000010108...</td>\n",
       "      <td>16030300510200004d0303587c9e338fe3870b8fd3c17c...</td>\n",
       "      <td>bwd</td>\n",
       "      <td>0.0</td>\n",
       "      <td>0.0</td>\n",
       "    </tr>\n",
       "    <tr>\n",
       "      <th>8937461</th>\n",
       "      <td>1499276130.710822000</td>\n",
       "      <td>172.16.0.1</td>\n",
       "      <td>192.168.10.51</td>\n",
       "      <td>443</td>\n",
       "      <td>53199</td>\n",
       "      <td>243533</td>\n",
       "      <td>138</td>\n",
       "      <td>b8ac6f360ba800c1b114eb310800</td>\n",
       "      <td>45000034034f40003f06c188ac100001c0a80a33</td>\n",
       "      <td>01bbcfcf167452121e1ffa1f80100008748a0000010108...</td>\n",
       "      <td></td>\n",
       "      <td>bwd</td>\n",
       "      <td>0.0</td>\n",
       "      <td>0.0</td>\n",
       "    </tr>\n",
       "    <tr>\n",
       "      <th>8937462</th>\n",
       "      <td>1499276130.712774000</td>\n",
       "      <td>172.16.0.1</td>\n",
       "      <td>192.168.10.51</td>\n",
       "      <td>443</td>\n",
       "      <td>53199</td>\n",
       "      <td>243533</td>\n",
       "      <td>138</td>\n",
       "      <td>b8ac6f360ba800c1b114eb310800</td>\n",
       "      <td>450003ed035040003f06bdceac100001c0a80a33</td>\n",
       "      <td>01bbcfcf167452121e1ffa1f80180008e08c0000010108...</td>\n",
       "      <td>17030303b47afae7964293d5a95cafa87c2299917f5a12...</td>\n",
       "      <td>bwd</td>\n",
       "      <td>0.0</td>\n",
       "      <td>0.0</td>\n",
       "    </tr>\n",
       "  </tbody>\n",
       "</table>\n",
       "<p>4829522 rows × 14 columns</p>\n",
       "</div>"
      ],
      "text/plain": [
       "                   Epoch Time      Source IP         Dst IP  Source Port  \\\n",
       "5        1499254962.534975000  40.83.143.209  192.168.10.14          443   \n",
       "6        1499254962.535235000  40.83.143.209  192.168.10.14          443   \n",
       "7        1499254962.941237000  40.83.143.209  192.168.10.14          443   \n",
       "18       1499254963.604454000   192.168.10.3  192.168.10.12         3268   \n",
       "19       1499254963.604456000   192.168.10.3  192.168.10.12         3268   \n",
       "...                       ...            ...            ...          ...   \n",
       "8937453  1499276130.701758000     172.16.0.1  192.168.10.51          443   \n",
       "8937456  1499276130.702180000     172.16.0.1  192.168.10.51          443   \n",
       "8937457  1499276130.702964000     172.16.0.1  192.168.10.51          443   \n",
       "8937461  1499276130.710822000     172.16.0.1  192.168.10.51          443   \n",
       "8937462  1499276130.712774000     172.16.0.1  192.168.10.51          443   \n",
       "\n",
       "         Dst Port Stream Index Sequence Number                    Eth Header  \\\n",
       "5           49460            1               1  b8ac6f3607ee00c1b114eb310800   \n",
       "6           49460            1               1  b8ac6f3607ee00c1b114eb310800   \n",
       "7           49460            1               1  b8ac6f3607ee00c1b114eb310800   \n",
       "18          59656            2               1  b8ac6f3604e31866da9be37d0800   \n",
       "19          59656            2               1  b8ac6f3604e31866da9be37d0800   \n",
       "...           ...          ...             ...                           ...   \n",
       "8937453     53199       243533               0  b8ac6f360ba800c1b114eb310800   \n",
       "8937456     53199       243533               1  b8ac6f360ba800c1b114eb310800   \n",
       "8937457     53199       243533               1  b8ac6f360ba800c1b114eb310800   \n",
       "8937461     53199       243533             138  b8ac6f360ba800c1b114eb310800   \n",
       "8937462     53199       243533             138  b8ac6f360ba800c1b114eb310800   \n",
       "\n",
       "                                        IP Header  \\\n",
       "5        45000028003640006b068cbf28538fd1c0a80a0e   \n",
       "6        45000028003740006b068cbe28538fd1c0a80a0e   \n",
       "7        4500015d003840006b068b8828538fd1c0a80a0e   \n",
       "18       450002a237a7400080062b4fc0a80a03c0a80a0c   \n",
       "19       450002a237a7400080062b4fc0a80a03c0a80a0c   \n",
       "...                                           ...   \n",
       "8937453  4500003cc45240003f06007dac100001c0a80a33   \n",
       "8937456  45000034034d40003f06c18aac100001c0a80a33   \n",
       "8937457  450000bd034e40003f06c100ac100001c0a80a33   \n",
       "8937461  45000034034f40003f06c188ac100001c0a80a33   \n",
       "8937462  450003ed035040003f06bdceac100001c0a80a33   \n",
       "\n",
       "                                                TCP Header  \\\n",
       "5                 01bbc13475a579ec3be07c0a50100201c08c0000   \n",
       "6                 01bbc13475a579ec3be0849f50100201b7f70000   \n",
       "7                 01bbc13475a579ec3be0849f5018020156020000   \n",
       "18       0cc4e9083fdca8bbe2fefe6b8018081c91d70000010108...   \n",
       "19       0cc4e9083fdca8bbe2fefe6b8018081c91d70000010108...   \n",
       "...                                                    ...   \n",
       "8937453  01bbcfcf167451881e1ff3d6a012fe884e0a0000020405...   \n",
       "8937456  01bbcfcf167451891e1ff5db8010000879580000010108...   \n",
       "8937457  01bbcfcf167451891e1ff5db801800084ed60000010108...   \n",
       "8937461  01bbcfcf167452121e1ffa1f80100008748a0000010108...   \n",
       "8937462  01bbcfcf167452121e1ffa1f80180008e08c0000010108...   \n",
       "\n",
       "                                                   Payload Direction  \\\n",
       "5                                             000000000000       bwd   \n",
       "6                                             000000000000       bwd   \n",
       "7        1703030130b7ceff6c5a8cca28ff1bd8e241be6d53a9d9...       bwd   \n",
       "18       0000026a6082026606092a864886f71201020202011100...       bwd   \n",
       "19       0000026a6082026606092a864886f71201020202011100...       bwd   \n",
       "...                                                    ...       ...   \n",
       "8937453                                                          bwd   \n",
       "8937456                                                          bwd   \n",
       "8937457  16030300510200004d0303587c9e338fe3870b8fd3c17c...       bwd   \n",
       "8937461                                                          bwd   \n",
       "8937462  17030303b47afae7964293d5a95cafa87c2299917f5a12...       bwd   \n",
       "\n",
       "         Binary Label  Class Label  \n",
       "5                 0.0          0.0  \n",
       "6                 0.0          0.0  \n",
       "7                 0.0          0.0  \n",
       "18                0.0          0.0  \n",
       "19                0.0          0.0  \n",
       "...               ...          ...  \n",
       "8937453           0.0          0.0  \n",
       "8937456           0.0          0.0  \n",
       "8937457           0.0          0.0  \n",
       "8937461           0.0          0.0  \n",
       "8937462           0.0          0.0  \n",
       "\n",
       "[4829522 rows x 14 columns]"
      ]
     },
     "execution_count": 248,
     "metadata": {},
     "output_type": "execute_result"
    }
   ],
   "source": [
    "df_b_bwd"
   ]
  },
  {
   "cell_type": "code",
   "execution_count": 251,
   "id": "3874d057",
   "metadata": {},
   "outputs": [],
   "source": [
    "df_all = pd.concat([df_a, df_b_fwd , df_b_bwd])"
   ]
  },
  {
   "cell_type": "code",
   "execution_count": 254,
   "id": "d5ad7572",
   "metadata": {},
   "outputs": [],
   "source": [
    "df_all = df_all.reset_index(drop = True)"
   ]
  },
  {
   "cell_type": "code",
   "execution_count": 255,
   "id": "b48155c1",
   "metadata": {},
   "outputs": [
    {
     "data": {
      "text/html": [
       "<div>\n",
       "<style scoped>\n",
       "    .dataframe tbody tr th:only-of-type {\n",
       "        vertical-align: middle;\n",
       "    }\n",
       "\n",
       "    .dataframe tbody tr th {\n",
       "        vertical-align: top;\n",
       "    }\n",
       "\n",
       "    .dataframe thead th {\n",
       "        text-align: right;\n",
       "    }\n",
       "</style>\n",
       "<table border=\"1\" class=\"dataframe\">\n",
       "  <thead>\n",
       "    <tr style=\"text-align: right;\">\n",
       "      <th></th>\n",
       "      <th>Epoch Time</th>\n",
       "      <th>Source IP</th>\n",
       "      <th>Dst IP</th>\n",
       "      <th>Source Port</th>\n",
       "      <th>Dst Port</th>\n",
       "      <th>Stream Index</th>\n",
       "      <th>Sequence Number</th>\n",
       "      <th>Eth Header</th>\n",
       "      <th>IP Header</th>\n",
       "      <th>TCP Header</th>\n",
       "      <th>Payload</th>\n",
       "      <th>Direction</th>\n",
       "      <th>Binary Label</th>\n",
       "      <th>Class Label</th>\n",
       "    </tr>\n",
       "  </thead>\n",
       "  <tbody>\n",
       "    <tr>\n",
       "      <th>0</th>\n",
       "      <td>1499258820.014743000</td>\n",
       "      <td>23.60.139.27</td>\n",
       "      <td>192.168.10.17</td>\n",
       "      <td>80</td>\n",
       "      <td>47757</td>\n",
       "      <td>12035</td>\n",
       "      <td>1</td>\n",
       "      <td>0023ae9b956700c1b114eb310800</td>\n",
       "      <td>45000034a7b6400037062efd173c8b1bc0a80a11</td>\n",
       "      <td>0050ba8da529957b5d3f78e3801003ab15920000010108...</td>\n",
       "      <td></td>\n",
       "      <td>fwd</td>\n",
       "      <td>1.0</td>\n",
       "      <td>1.0</td>\n",
       "    </tr>\n",
       "    <tr>\n",
       "      <th>1</th>\n",
       "      <td>1499258820.039091000</td>\n",
       "      <td>23.60.139.27</td>\n",
       "      <td>192.168.10.17</td>\n",
       "      <td>80</td>\n",
       "      <td>47757</td>\n",
       "      <td>12035</td>\n",
       "      <td>1</td>\n",
       "      <td>0023ae9b956700c1b114eb310800</td>\n",
       "      <td>45000722a7b740003706280e173c8b1bc0a80a11</td>\n",
       "      <td>0050ba8da529957b5d3f78e3801803ab74250000010108...</td>\n",
       "      <td>485454502f312e3120323030204f4b0d0a536572766572...</td>\n",
       "      <td>bwd</td>\n",
       "      <td>1.0</td>\n",
       "      <td>1.0</td>\n",
       "    </tr>\n",
       "    <tr>\n",
       "      <th>2</th>\n",
       "      <td>1499258820.039116000</td>\n",
       "      <td>192.168.10.17</td>\n",
       "      <td>23.60.139.27</td>\n",
       "      <td>47757</td>\n",
       "      <td>80</td>\n",
       "      <td>12035</td>\n",
       "      <td>435</td>\n",
       "      <td>00c1b114eb310023ae9b95670800</td>\n",
       "      <td>45000034fcd740004006d0dbc0a80a11173c8b1b</td>\n",
       "      <td>ba8d00505d3f78e3a5299c698010010011280000010108...</td>\n",
       "      <td></td>\n",
       "      <td>fwd</td>\n",
       "      <td>1.0</td>\n",
       "      <td>1.0</td>\n",
       "    </tr>\n",
       "    <tr>\n",
       "      <th>3</th>\n",
       "      <td>1499258820.082489000</td>\n",
       "      <td>192.168.10.12</td>\n",
       "      <td>208.185.50.90</td>\n",
       "      <td>51774</td>\n",
       "      <td>443</td>\n",
       "      <td>11808</td>\n",
       "      <td>4580</td>\n",
       "      <td>00c1b114eb31b8ac6f3604e30800</td>\n",
       "      <td>4500002804414000400668c7c0a80a0cd0b9325a</td>\n",
       "      <td>ca3e01bb4c69a4a67cf3967050109eb472ea0000</td>\n",
       "      <td>000000000000</td>\n",
       "      <td>fwd</td>\n",
       "      <td>1.0</td>\n",
       "      <td>1.0</td>\n",
       "    </tr>\n",
       "    <tr>\n",
       "      <th>4</th>\n",
       "      <td>1499258820.084153000</td>\n",
       "      <td>192.168.10.17</td>\n",
       "      <td>23.208.97.23</td>\n",
       "      <td>37115</td>\n",
       "      <td>443</td>\n",
       "      <td>12034</td>\n",
       "      <td>349</td>\n",
       "      <td>00c1b114eb310023ae9b95670800</td>\n",
       "      <td>4500017a021640004006f3c7c0a80a1117d06117</td>\n",
       "      <td>90fb01bb96268b0ed08217e7801801356d9e0000010108...</td>\n",
       "      <td>1703030141000000000000000174b7a44755da49b50c35...</td>\n",
       "      <td>fwd</td>\n",
       "      <td>1.0</td>\n",
       "      <td>1.0</td>\n",
       "    </tr>\n",
       "    <tr>\n",
       "      <th>...</th>\n",
       "      <td>...</td>\n",
       "      <td>...</td>\n",
       "      <td>...</td>\n",
       "      <td>...</td>\n",
       "      <td>...</td>\n",
       "      <td>...</td>\n",
       "      <td>...</td>\n",
       "      <td>...</td>\n",
       "      <td>...</td>\n",
       "      <td>...</td>\n",
       "      <td>...</td>\n",
       "      <td>...</td>\n",
       "      <td>...</td>\n",
       "      <td>...</td>\n",
       "    </tr>\n",
       "    <tr>\n",
       "      <th>11334902</th>\n",
       "      <td>1499276130.701758000</td>\n",
       "      <td>172.16.0.1</td>\n",
       "      <td>192.168.10.51</td>\n",
       "      <td>443</td>\n",
       "      <td>53199</td>\n",
       "      <td>243533</td>\n",
       "      <td>0</td>\n",
       "      <td>b8ac6f360ba800c1b114eb310800</td>\n",
       "      <td>4500003cc45240003f06007dac100001c0a80a33</td>\n",
       "      <td>01bbcfcf167451881e1ff3d6a012fe884e0a0000020405...</td>\n",
       "      <td></td>\n",
       "      <td>bwd</td>\n",
       "      <td>0.0</td>\n",
       "      <td>0.0</td>\n",
       "    </tr>\n",
       "    <tr>\n",
       "      <th>11334903</th>\n",
       "      <td>1499276130.702180000</td>\n",
       "      <td>172.16.0.1</td>\n",
       "      <td>192.168.10.51</td>\n",
       "      <td>443</td>\n",
       "      <td>53199</td>\n",
       "      <td>243533</td>\n",
       "      <td>1</td>\n",
       "      <td>b8ac6f360ba800c1b114eb310800</td>\n",
       "      <td>45000034034d40003f06c18aac100001c0a80a33</td>\n",
       "      <td>01bbcfcf167451891e1ff5db8010000879580000010108...</td>\n",
       "      <td></td>\n",
       "      <td>bwd</td>\n",
       "      <td>0.0</td>\n",
       "      <td>0.0</td>\n",
       "    </tr>\n",
       "    <tr>\n",
       "      <th>11334904</th>\n",
       "      <td>1499276130.702964000</td>\n",
       "      <td>172.16.0.1</td>\n",
       "      <td>192.168.10.51</td>\n",
       "      <td>443</td>\n",
       "      <td>53199</td>\n",
       "      <td>243533</td>\n",
       "      <td>1</td>\n",
       "      <td>b8ac6f360ba800c1b114eb310800</td>\n",
       "      <td>450000bd034e40003f06c100ac100001c0a80a33</td>\n",
       "      <td>01bbcfcf167451891e1ff5db801800084ed60000010108...</td>\n",
       "      <td>16030300510200004d0303587c9e338fe3870b8fd3c17c...</td>\n",
       "      <td>bwd</td>\n",
       "      <td>0.0</td>\n",
       "      <td>0.0</td>\n",
       "    </tr>\n",
       "    <tr>\n",
       "      <th>11334905</th>\n",
       "      <td>1499276130.710822000</td>\n",
       "      <td>172.16.0.1</td>\n",
       "      <td>192.168.10.51</td>\n",
       "      <td>443</td>\n",
       "      <td>53199</td>\n",
       "      <td>243533</td>\n",
       "      <td>138</td>\n",
       "      <td>b8ac6f360ba800c1b114eb310800</td>\n",
       "      <td>45000034034f40003f06c188ac100001c0a80a33</td>\n",
       "      <td>01bbcfcf167452121e1ffa1f80100008748a0000010108...</td>\n",
       "      <td></td>\n",
       "      <td>bwd</td>\n",
       "      <td>0.0</td>\n",
       "      <td>0.0</td>\n",
       "    </tr>\n",
       "    <tr>\n",
       "      <th>11334906</th>\n",
       "      <td>1499276130.712774000</td>\n",
       "      <td>172.16.0.1</td>\n",
       "      <td>192.168.10.51</td>\n",
       "      <td>443</td>\n",
       "      <td>53199</td>\n",
       "      <td>243533</td>\n",
       "      <td>138</td>\n",
       "      <td>b8ac6f360ba800c1b114eb310800</td>\n",
       "      <td>450003ed035040003f06bdceac100001c0a80a33</td>\n",
       "      <td>01bbcfcf167452121e1ffa1f80180008e08c0000010108...</td>\n",
       "      <td>17030303b47afae7964293d5a95cafa87c2299917f5a12...</td>\n",
       "      <td>bwd</td>\n",
       "      <td>0.0</td>\n",
       "      <td>0.0</td>\n",
       "    </tr>\n",
       "  </tbody>\n",
       "</table>\n",
       "<p>11334907 rows × 14 columns</p>\n",
       "</div>"
      ],
      "text/plain": [
       "                    Epoch Time      Source IP         Dst IP  Source Port  \\\n",
       "0         1499258820.014743000   23.60.139.27  192.168.10.17           80   \n",
       "1         1499258820.039091000   23.60.139.27  192.168.10.17           80   \n",
       "2         1499258820.039116000  192.168.10.17   23.60.139.27        47757   \n",
       "3         1499258820.082489000  192.168.10.12  208.185.50.90        51774   \n",
       "4         1499258820.084153000  192.168.10.17   23.208.97.23        37115   \n",
       "...                        ...            ...            ...          ...   \n",
       "11334902  1499276130.701758000     172.16.0.1  192.168.10.51          443   \n",
       "11334903  1499276130.702180000     172.16.0.1  192.168.10.51          443   \n",
       "11334904  1499276130.702964000     172.16.0.1  192.168.10.51          443   \n",
       "11334905  1499276130.710822000     172.16.0.1  192.168.10.51          443   \n",
       "11334906  1499276130.712774000     172.16.0.1  192.168.10.51          443   \n",
       "\n",
       "          Dst Port Stream Index Sequence Number                    Eth Header  \\\n",
       "0            47757        12035               1  0023ae9b956700c1b114eb310800   \n",
       "1            47757        12035               1  0023ae9b956700c1b114eb310800   \n",
       "2               80        12035             435  00c1b114eb310023ae9b95670800   \n",
       "3              443        11808            4580  00c1b114eb31b8ac6f3604e30800   \n",
       "4              443        12034             349  00c1b114eb310023ae9b95670800   \n",
       "...            ...          ...             ...                           ...   \n",
       "11334902     53199       243533               0  b8ac6f360ba800c1b114eb310800   \n",
       "11334903     53199       243533               1  b8ac6f360ba800c1b114eb310800   \n",
       "11334904     53199       243533               1  b8ac6f360ba800c1b114eb310800   \n",
       "11334905     53199       243533             138  b8ac6f360ba800c1b114eb310800   \n",
       "11334906     53199       243533             138  b8ac6f360ba800c1b114eb310800   \n",
       "\n",
       "                                         IP Header  \\\n",
       "0         45000034a7b6400037062efd173c8b1bc0a80a11   \n",
       "1         45000722a7b740003706280e173c8b1bc0a80a11   \n",
       "2         45000034fcd740004006d0dbc0a80a11173c8b1b   \n",
       "3         4500002804414000400668c7c0a80a0cd0b9325a   \n",
       "4         4500017a021640004006f3c7c0a80a1117d06117   \n",
       "...                                            ...   \n",
       "11334902  4500003cc45240003f06007dac100001c0a80a33   \n",
       "11334903  45000034034d40003f06c18aac100001c0a80a33   \n",
       "11334904  450000bd034e40003f06c100ac100001c0a80a33   \n",
       "11334905  45000034034f40003f06c188ac100001c0a80a33   \n",
       "11334906  450003ed035040003f06bdceac100001c0a80a33   \n",
       "\n",
       "                                                 TCP Header  \\\n",
       "0         0050ba8da529957b5d3f78e3801003ab15920000010108...   \n",
       "1         0050ba8da529957b5d3f78e3801803ab74250000010108...   \n",
       "2         ba8d00505d3f78e3a5299c698010010011280000010108...   \n",
       "3                  ca3e01bb4c69a4a67cf3967050109eb472ea0000   \n",
       "4         90fb01bb96268b0ed08217e7801801356d9e0000010108...   \n",
       "...                                                     ...   \n",
       "11334902  01bbcfcf167451881e1ff3d6a012fe884e0a0000020405...   \n",
       "11334903  01bbcfcf167451891e1ff5db8010000879580000010108...   \n",
       "11334904  01bbcfcf167451891e1ff5db801800084ed60000010108...   \n",
       "11334905  01bbcfcf167452121e1ffa1f80100008748a0000010108...   \n",
       "11334906  01bbcfcf167452121e1ffa1f80180008e08c0000010108...   \n",
       "\n",
       "                                                    Payload Direction  \\\n",
       "0                                                                 fwd   \n",
       "1         485454502f312e3120323030204f4b0d0a536572766572...       bwd   \n",
       "2                                                                 fwd   \n",
       "3                                              000000000000       fwd   \n",
       "4         1703030141000000000000000174b7a44755da49b50c35...       fwd   \n",
       "...                                                     ...       ...   \n",
       "11334902                                                          bwd   \n",
       "11334903                                                          bwd   \n",
       "11334904  16030300510200004d0303587c9e338fe3870b8fd3c17c...       bwd   \n",
       "11334905                                                          bwd   \n",
       "11334906  17030303b47afae7964293d5a95cafa87c2299917f5a12...       bwd   \n",
       "\n",
       "          Binary Label  Class Label  \n",
       "0                  1.0          1.0  \n",
       "1                  1.0          1.0  \n",
       "2                  1.0          1.0  \n",
       "3                  1.0          1.0  \n",
       "4                  1.0          1.0  \n",
       "...                ...          ...  \n",
       "11334902           0.0          0.0  \n",
       "11334903           0.0          0.0  \n",
       "11334904           0.0          0.0  \n",
       "11334905           0.0          0.0  \n",
       "11334906           0.0          0.0  \n",
       "\n",
       "[11334907 rows x 14 columns]"
      ]
     },
     "execution_count": 255,
     "metadata": {},
     "output_type": "execute_result"
    }
   ],
   "source": [
    "df_all"
   ]
  },
  {
   "cell_type": "code",
   "execution_count": 256,
   "id": "d07268b0",
   "metadata": {},
   "outputs": [
    {
     "data": {
      "text/plain": [
       "Direction  Class Label\n",
       "bwd        0.0            4829522\n",
       "           3.0            1000016\n",
       "           4.0              39382\n",
       "           5.0              20884\n",
       "           1.0              10350\n",
       "           2.0               7027\n",
       "fwd        0.0            4015846\n",
       "           3.0            1246802\n",
       "           4.0              66795\n",
       "           1.0              37236\n",
       "           2.0              32635\n",
       "           5.0              28412\n",
       "Name: Class Label, dtype: int64"
      ]
     },
     "execution_count": 256,
     "metadata": {},
     "output_type": "execute_result"
    }
   ],
   "source": [
    "df_all.groupby('Direction')['Class Label'].value_counts()"
   ]
  },
  {
   "cell_type": "code",
   "execution_count": 257,
   "id": "1926e03a",
   "metadata": {},
   "outputs": [],
   "source": [
    "df_all.to_pickle(\"Wednsdy_Packet_Level_Data.pkl\")"
   ]
  },
  {
   "cell_type": "code",
   "execution_count": null,
   "id": "4f9e8138",
   "metadata": {},
   "outputs": [],
   "source": []
  }
 ],
 "metadata": {
  "kernelspec": {
   "display_name": "Python 3 (ipykernel)",
   "language": "python",
   "name": "python3"
  },
  "language_info": {
   "codemirror_mode": {
    "name": "ipython",
    "version": 3
   },
   "file_extension": ".py",
   "mimetype": "text/x-python",
   "name": "python",
   "nbconvert_exporter": "python",
   "pygments_lexer": "ipython3",
   "version": "3.9.7"
  }
 },
 "nbformat": 4,
 "nbformat_minor": 5
}
