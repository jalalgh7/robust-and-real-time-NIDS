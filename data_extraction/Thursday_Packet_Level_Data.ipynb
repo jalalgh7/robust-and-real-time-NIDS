{
 "cells": [
  {
   "cell_type": "code",
   "execution_count": 1,
   "id": "1364dda4",
   "metadata": {},
   "outputs": [],
   "source": [
    "import json\n",
    "import pandas as pd\n",
    "import ijson\n",
    "from datetime import datetime\n",
    "import time"
   ]
  },
  {
   "cell_type": "code",
   "execution_count": 2,
   "id": "e88194ec",
   "metadata": {},
   "outputs": [],
   "source": [
    "webattack_brute_start = 1499343600"
   ]
  },
  {
   "cell_type": "code",
   "execution_count": 3,
   "id": "4d9dc91a",
   "metadata": {},
   "outputs": [],
   "source": [
    "webattack_brute_end = 1499346060"
   ]
  },
  {
   "cell_type": "code",
   "execution_count": 4,
   "id": "03a54345",
   "metadata": {},
   "outputs": [],
   "source": [
    "webattack_xss_start = 1499346900"
   ]
  },
  {
   "cell_type": "code",
   "execution_count": 5,
   "id": "a22d015c",
   "metadata": {},
   "outputs": [],
   "source": [
    "webattack_xss_end = 1499348160"
   ]
  },
  {
   "cell_type": "code",
   "execution_count": 6,
   "id": "66bc6df1",
   "metadata": {},
   "outputs": [],
   "source": [
    "webattack_sql_start = 1499348400"
   ]
  },
  {
   "cell_type": "code",
   "execution_count": 7,
   "id": "e2d7a170",
   "metadata": {},
   "outputs": [],
   "source": [
    "webattack_sql_end = 1499348580"
   ]
  },
  {
   "cell_type": "code",
   "execution_count": 10,
   "id": "ae53decd",
   "metadata": {},
   "outputs": [
    {
     "name": "stdout",
     "output_type": "stream",
     "text": [
      "7.7259566105641175 220.86252188682556\n",
      "15.451913221128235 416.04026889801025\n",
      "23.17786983169235 585.3335721492767\n",
      "30.90382644225647 754.6190311908722\n",
      "38.629783052820585 922.6306359767914\n",
      "46.3557396633847 1099.1261599063873\n",
      "54.08169627394882 1272.0716280937195\n",
      "61.80765288451294 1439.1168267726898\n",
      "1535.9713053703308\n"
     ]
    }
   ],
   "source": [
    "start_time = time.time()\n",
    "\n",
    "dict_epochtime = {}\n",
    "dict_source_ip = {}\n",
    "dict_dst_ip = {}\n",
    "dict_source_port = {}\n",
    "dict_dst_port = {}\n",
    "dict_stream = {}\n",
    "dict_sequence = {}\n",
    "dict_eth_header = {}\n",
    "dict_ip_header = {}\n",
    "dict_tcp_header = {}\n",
    "dict_payload = {}\n",
    "dict_direction = {}\n",
    "dict_b_labels ={}\n",
    "dict_d_labels = {}\n",
    "\n",
    "\n",
    "total_no = 0\n",
    "packets = 0\n",
    "with open(\"Thursday.json\", \"rb\") as f:\n",
    "    for record in ijson.items(f, \"item\"):\n",
    "        total_no += 1\n",
    "        if 'eth:ethertype:ip:tcp' in record[\"_source\"][\"layers\"][\"frame\"][\"frame.protocols\"]:\n",
    "            packets += 1\n",
    "            \n",
    "            if (packets % 1000000) == 0:\n",
    "                print((packets/12943381)*100,(time.time() - start_time))\n",
    "                \n",
    "            epoch_time = record[\"_source\"]['layers']['frame']['frame.time_epoch']\n",
    "            source_ip = record[\"_source\"][\"layers\"]['ip']['ip.src']\n",
    "            dst_ip = record[\"_source\"][\"layers\"]['ip']['ip.dst']\n",
    "            eth_raw = record[\"_source\"]['layers']['eth_raw'][0]\n",
    "            ip_raw = record[\"_source\"]['layers']['ip_raw'][0]\n",
    "            tcp_raw = record[\"_source\"]['layers']['tcp_raw'][0]\n",
    "            all_hex_raw = record[\"_source\"][\"layers\"][\"frame_raw\"][0]\n",
    "            \n",
    "            all_header_raw = eth_raw + ip_raw + tcp_raw\n",
    "            \n",
    "            len_header = len(all_header_raw)\n",
    "            \n",
    "            payload_raw = all_hex_raw[len_header:]\n",
    "\n",
    "            dict_epochtime[packets] = epoch_time\n",
    "            dict_source_ip[packets] = source_ip\n",
    "            dict_dst_ip[packets] = dst_ip\n",
    "            dict_source_port[packets] = record[\"_source\"]['layers']['tcp']['tcp.srcport']\n",
    "            dict_dst_port[packets] = record[\"_source\"]['layers']['tcp']['tcp.dstport']\n",
    "            dict_stream[packets] = record[\"_source\"]['layers']['tcp']['tcp.stream']\n",
    "            dict_sequence[packets] = record[\"_source\"]['layers']['tcp']['tcp.seq']\n",
    "            dict_eth_header[packets] = eth_raw\n",
    "            dict_ip_header[packets] = ip_raw\n",
    "            dict_tcp_header[packets] = tcp_raw\n",
    "            dict_payload[packets] = payload_raw\n",
    "\n",
    "\n",
    "\n",
    "            if  float(epoch_time) >= webattack_brute_start and float(epoch_time) <= webattack_brute_end:\n",
    "                ##webattack-brute = 8\n",
    "                if source_ip == '172.16.0.1' and dst_ip == '192.168.10.50':\n",
    "\n",
    "                    dict_direction[packets]= 'fwd'\n",
    "                    dict_d_labels[packets] = 8\n",
    "                    dict_b_labels[packets] = 1\n",
    "                elif source_ip =='192.168.10.50' and dst_ip == '172.16.0.1':\n",
    "                    dict_direction[packets]= 'bwd'\n",
    "                    dict_d_labels[packets] = 8\n",
    "                    dict_b_labels[packets] = 1\n",
    "\n",
    "            elif  float(epoch_time) >= webattack_xss_start and float(epoch_time) <= webattack_xss_end:\n",
    "                ##webattack-xss = 9\n",
    "                if source_ip == '172.16.0.1' and dst_ip == '192.168.10.50':\n",
    "                    dict_direction[packets]= 'fwd'\n",
    "                    dict_d_labels[packets] = 9\n",
    "                    dict_b_labels[packets] = 1 \n",
    "                elif source_ip == '192.168.10.50' and dst_ip == '172.16.0.1':\n",
    "                    dict_direction[packets]= 'bwd'\n",
    "                    dict_d_labels[packets] = 9\n",
    "                    dict_b_labels[packets] = 1 \n",
    "\n",
    "            elif float(epoch_time) >= webattack_sql_start and float(epoch_time) <= webattack_sql_end:\n",
    "                ##webattack_sql =10\n",
    "                if source_ip == '172.16.0.1' and dst_ip == '192.168.10.50':\n",
    "                    dict_direction[packets]= 'fwd'\n",
    "                    dict_d_labels[packets] = 10\n",
    "                    dict_b_labels[packets] = 1 \n",
    "                elif source_ip == '192.168.10.50' and dst_ip == '172.16.0.1':\n",
    "\n",
    "                    dict_direction[packets]= 'bwd'\n",
    "                    dict_d_labels[packets] = 10\n",
    "                    dict_b_labels[packets] = 1 \n",
    "\n",
    "            #infiltration = 11\n",
    "            elif source_ip == '192.168.10.8' and dst_ip == '205.174.165.73':\n",
    "                dict_direction[packets]= 'fwd'\n",
    "                dict_d_labels[packets] = 11\n",
    "                dict_b_labels[packets] = 1 \n",
    "            elif source_ip == '205.174.165.73' and dst_ip == '192.168.10.8':\n",
    "                dict_direction[packets]= 'bwd'\n",
    "                dict_d_labels[packets] = 11\n",
    "                dict_b_labels[packets] = 1 \n",
    "\n",
    "            \n",
    "            else:\n",
    "                dict_direction[packets]= 'unknown'\n",
    "                dict_d_labels[packets] = 0\n",
    "                dict_b_labels[packets] = 0\n",
    "\n",
    "                \n",
    "print(time.time() - start_time)"
   ]
  },
  {
   "cell_type": "code",
   "execution_count": 17,
   "id": "661c247f",
   "metadata": {},
   "outputs": [
    {
     "data": {
      "text/plain": [
       "0     7222359\n",
       "11      59754\n",
       "8       30059\n",
       "9        9638\n",
       "10        126\n",
       "dtype: int64"
      ]
     },
     "execution_count": 17,
     "metadata": {},
     "output_type": "execute_result"
    }
   ],
   "source": [
    "pd.DataFrame(dict_d_labels.values()).value_counts()"
   ]
  },
  {
   "cell_type": "code",
   "execution_count": 18,
   "id": "691abddd",
   "metadata": {},
   "outputs": [
    {
     "data": {
      "text/plain": [
       "8538148"
      ]
     },
     "execution_count": 18,
     "metadata": {},
     "output_type": "execute_result"
    }
   ],
   "source": [
    "packets"
   ]
  },
  {
   "cell_type": "code",
   "execution_count": 19,
   "id": "a8a8ca9d",
   "metadata": {},
   "outputs": [
    {
     "data": {
      "text/plain": [
       "8538185"
      ]
     },
     "execution_count": 19,
     "metadata": {},
     "output_type": "execute_result"
    }
   ],
   "source": [
    "total_no"
   ]
  },
  {
   "cell_type": "code",
   "execution_count": 20,
   "id": "cbc988fd",
   "metadata": {},
   "outputs": [],
   "source": [
    "payload_byte_data = pd.DataFrame()"
   ]
  },
  {
   "cell_type": "code",
   "execution_count": 21,
   "id": "9fc454ae",
   "metadata": {},
   "outputs": [],
   "source": [
    "epoch_times_ = pd.DataFrame(dict_epochtime.values())"
   ]
  },
  {
   "cell_type": "code",
   "execution_count": 22,
   "id": "faa20fd2",
   "metadata": {},
   "outputs": [],
   "source": [
    "source_ips_ = pd.DataFrame(dict_source_ip.values())"
   ]
  },
  {
   "cell_type": "code",
   "execution_count": 23,
   "id": "ecc3a9cf",
   "metadata": {},
   "outputs": [],
   "source": [
    "dst_ips_ = pd.DataFrame(dict_dst_ip.values())"
   ]
  },
  {
   "cell_type": "code",
   "execution_count": 24,
   "id": "c71c9c6d",
   "metadata": {},
   "outputs": [],
   "source": [
    "source_ports_ = pd.DataFrame(dict_source_port.values())"
   ]
  },
  {
   "cell_type": "code",
   "execution_count": 25,
   "id": "3c5f6083",
   "metadata": {},
   "outputs": [],
   "source": [
    "dst_ports_ = pd.DataFrame(dict_dst_port.values())"
   ]
  },
  {
   "cell_type": "code",
   "execution_count": 26,
   "id": "868ecd10",
   "metadata": {},
   "outputs": [],
   "source": [
    "streams_ = pd.DataFrame(dict_stream.values())"
   ]
  },
  {
   "cell_type": "code",
   "execution_count": 27,
   "id": "41e19b1a",
   "metadata": {},
   "outputs": [],
   "source": [
    "seq_ = pd.DataFrame(dict_sequence.values())"
   ]
  },
  {
   "cell_type": "code",
   "execution_count": 28,
   "id": "1864ebfd",
   "metadata": {},
   "outputs": [],
   "source": [
    "eth_ = pd.DataFrame(dict_eth_header.values())"
   ]
  },
  {
   "cell_type": "code",
   "execution_count": 29,
   "id": "713e1088",
   "metadata": {},
   "outputs": [],
   "source": [
    "ip_ = pd.DataFrame(dict_ip_header.values())"
   ]
  },
  {
   "cell_type": "code",
   "execution_count": 30,
   "id": "bcfc89d5",
   "metadata": {},
   "outputs": [],
   "source": [
    "tcp_ = pd.DataFrame(dict_tcp_header.values())"
   ]
  },
  {
   "cell_type": "code",
   "execution_count": 31,
   "id": "57ff26cd",
   "metadata": {},
   "outputs": [],
   "source": [
    "payload_ = pd.DataFrame(dict_payload.values())"
   ]
  },
  {
   "cell_type": "code",
   "execution_count": 32,
   "id": "ac424349",
   "metadata": {},
   "outputs": [],
   "source": [
    "direction_ = pd.DataFrame(dict_direction.values())"
   ]
  },
  {
   "cell_type": "code",
   "execution_count": 33,
   "id": "d4c9b3a9",
   "metadata": {},
   "outputs": [],
   "source": [
    "d_labels_ = pd.DataFrame(dict_d_labels.values())\n",
    "b_labels_ = pd.DataFrame(dict_b_labels.values())"
   ]
  },
  {
   "cell_type": "code",
   "execution_count": null,
   "id": "16d1a38c",
   "metadata": {},
   "outputs": [],
   "source": []
  },
  {
   "cell_type": "code",
   "execution_count": 34,
   "id": "302448c3",
   "metadata": {},
   "outputs": [],
   "source": [
    "payload_byte_data['Epoch Time'] = epoch_times_"
   ]
  },
  {
   "cell_type": "code",
   "execution_count": 35,
   "id": "5339c713",
   "metadata": {},
   "outputs": [],
   "source": [
    "payload_byte_data['Source IP'] = source_ips_"
   ]
  },
  {
   "cell_type": "code",
   "execution_count": 36,
   "id": "a1343e20",
   "metadata": {},
   "outputs": [],
   "source": [
    "payload_byte_data['Dst IP'] = dst_ips_"
   ]
  },
  {
   "cell_type": "code",
   "execution_count": 37,
   "id": "bd16b278",
   "metadata": {},
   "outputs": [],
   "source": [
    "payload_byte_data['Source Port'] = source_ports_"
   ]
  },
  {
   "cell_type": "code",
   "execution_count": 38,
   "id": "d9cd2eea",
   "metadata": {},
   "outputs": [],
   "source": [
    "payload_byte_data['Dst Port'] = dst_ports_"
   ]
  },
  {
   "cell_type": "code",
   "execution_count": 39,
   "id": "3e9f2b17",
   "metadata": {},
   "outputs": [],
   "source": [
    "payload_byte_data['Stream Index'] = streams_"
   ]
  },
  {
   "cell_type": "code",
   "execution_count": 40,
   "id": "a5d4199b",
   "metadata": {},
   "outputs": [],
   "source": [
    "payload_byte_data['Sequence Number'] = seq_"
   ]
  },
  {
   "cell_type": "code",
   "execution_count": 41,
   "id": "7deda819",
   "metadata": {},
   "outputs": [],
   "source": [
    "payload_byte_data['Eth Header'] = eth_"
   ]
  },
  {
   "cell_type": "code",
   "execution_count": 42,
   "id": "2da4aefc",
   "metadata": {},
   "outputs": [],
   "source": [
    "payload_byte_data['IP Header'] = ip_"
   ]
  },
  {
   "cell_type": "code",
   "execution_count": 43,
   "id": "5267db1a",
   "metadata": {},
   "outputs": [],
   "source": [
    "payload_byte_data['TCP Header'] = tcp_"
   ]
  },
  {
   "cell_type": "code",
   "execution_count": 44,
   "id": "50145dad",
   "metadata": {},
   "outputs": [],
   "source": [
    "payload_byte_data['Payload'] = payload_"
   ]
  },
  {
   "cell_type": "code",
   "execution_count": 45,
   "id": "0644d4fd",
   "metadata": {},
   "outputs": [],
   "source": [
    "payload_byte_data['Direction'] = direction_"
   ]
  },
  {
   "cell_type": "code",
   "execution_count": 46,
   "id": "8e0ace80",
   "metadata": {},
   "outputs": [],
   "source": [
    "payload_byte_data['Binary Label'] = b_labels_"
   ]
  },
  {
   "cell_type": "code",
   "execution_count": 47,
   "id": "49ce9a5d",
   "metadata": {},
   "outputs": [],
   "source": [
    "payload_byte_data['Class Label'] = d_labels_"
   ]
  },
  {
   "cell_type": "code",
   "execution_count": null,
   "id": "0b71a9f6",
   "metadata": {},
   "outputs": [],
   "source": []
  },
  {
   "cell_type": "code",
   "execution_count": 48,
   "id": "d5e1eed5",
   "metadata": {},
   "outputs": [],
   "source": [
    "payload_byte_data = payload_byte_data.dropna()"
   ]
  },
  {
   "cell_type": "code",
   "execution_count": 49,
   "id": "8b67fdaf",
   "metadata": {},
   "outputs": [],
   "source": [
    "payload_byte_data = payload_byte_data.reset_index(drop = True)"
   ]
  },
  {
   "cell_type": "code",
   "execution_count": 50,
   "id": "5d160996",
   "metadata": {},
   "outputs": [],
   "source": [
    "payload_byte_data = payload_byte_data.astype({\"Source Port\": int, \"Dst Port\": int})"
   ]
  },
  {
   "cell_type": "code",
   "execution_count": 51,
   "id": "f736c9ab",
   "metadata": {},
   "outputs": [
    {
     "data": {
      "text/html": [
       "<div>\n",
       "<style scoped>\n",
       "    .dataframe tbody tr th:only-of-type {\n",
       "        vertical-align: middle;\n",
       "    }\n",
       "\n",
       "    .dataframe tbody tr th {\n",
       "        vertical-align: top;\n",
       "    }\n",
       "\n",
       "    .dataframe thead th {\n",
       "        text-align: right;\n",
       "    }\n",
       "</style>\n",
       "<table border=\"1\" class=\"dataframe\">\n",
       "  <thead>\n",
       "    <tr style=\"text-align: right;\">\n",
       "      <th></th>\n",
       "      <th>Epoch Time</th>\n",
       "      <th>Source IP</th>\n",
       "      <th>Dst IP</th>\n",
       "      <th>Source Port</th>\n",
       "      <th>Dst Port</th>\n",
       "      <th>Stream Index</th>\n",
       "      <th>Sequence Number</th>\n",
       "      <th>Eth Header</th>\n",
       "      <th>IP Header</th>\n",
       "      <th>TCP Header</th>\n",
       "      <th>Payload</th>\n",
       "      <th>Direction</th>\n",
       "      <th>Binary Label</th>\n",
       "      <th>Class Label</th>\n",
       "    </tr>\n",
       "  </thead>\n",
       "  <tbody>\n",
       "    <tr>\n",
       "      <th>7321931</th>\n",
       "      <td>1499365265.817911000</td>\n",
       "      <td>206.126.112.142</td>\n",
       "      <td>192.168.10.16</td>\n",
       "      <td>443</td>\n",
       "      <td>42198</td>\n",
       "      <td>99781</td>\n",
       "      <td>4909563</td>\n",
       "      <td>0023ae9b8abf00c1b114eb310800</td>\n",
       "      <td>450005dcf0ae0000390681a8ce7e708ec0a80a10</td>\n",
       "      <td>01bba4d6f40edf7af598c863801000b7b3290000010108...</td>\n",
       "      <td>59210587b21ed3a8d3c3c35f16fa39c781507dfc743cfc...</td>\n",
       "      <td>unknown</td>\n",
       "      <td>0.0</td>\n",
       "      <td>0.0</td>\n",
       "    </tr>\n",
       "    <tr>\n",
       "      <th>7321932</th>\n",
       "      <td>1499365265.818102000</td>\n",
       "      <td>206.126.112.142</td>\n",
       "      <td>192.168.10.16</td>\n",
       "      <td>443</td>\n",
       "      <td>42198</td>\n",
       "      <td>99781</td>\n",
       "      <td>4911011</td>\n",
       "      <td>0023ae9b8abf00c1b114eb310800</td>\n",
       "      <td>450005dcf0af0000390681a7ce7e708ec0a80a10</td>\n",
       "      <td>01bba4d6f40ee522f598c863801000b7168a0000010108...</td>\n",
       "      <td>c92242f4b3a7d9a4c9cc0a701d995a7ac4c682158dadd2...</td>\n",
       "      <td>unknown</td>\n",
       "      <td>0.0</td>\n",
       "      <td>0.0</td>\n",
       "    </tr>\n",
       "    <tr>\n",
       "      <th>7321933</th>\n",
       "      <td>1499365265.818295000</td>\n",
       "      <td>206.126.112.142</td>\n",
       "      <td>192.168.10.16</td>\n",
       "      <td>443</td>\n",
       "      <td>42198</td>\n",
       "      <td>99781</td>\n",
       "      <td>4912459</td>\n",
       "      <td>0023ae9b8abf00c1b114eb310800</td>\n",
       "      <td>45000b84f0b0000039067bfece7e708ec0a80a10</td>\n",
       "      <td>01bba4d6f40eeacaf598c863801000b7153c0000010108...</td>\n",
       "      <td>988822bedfd4cf1c3958c978619bf4fa79fcdd10d45749...</td>\n",
       "      <td>unknown</td>\n",
       "      <td>0.0</td>\n",
       "      <td>0.0</td>\n",
       "    </tr>\n",
       "    <tr>\n",
       "      <th>7321934</th>\n",
       "      <td>1499365265.818487000</td>\n",
       "      <td>206.126.112.142</td>\n",
       "      <td>192.168.10.16</td>\n",
       "      <td>443</td>\n",
       "      <td>42198</td>\n",
       "      <td>99781</td>\n",
       "      <td>4915355</td>\n",
       "      <td>0023ae9b8abf00c1b114eb310800</td>\n",
       "      <td>45000b84f0b2000039067bfcce7e708ec0a80a10</td>\n",
       "      <td>01bba4d6f40ef61af598c863801000b7153c0000010108...</td>\n",
       "      <td>7c8dcb764403b28792b82bce3b6e9fb9a86771a3093069...</td>\n",
       "      <td>unknown</td>\n",
       "      <td>0.0</td>\n",
       "      <td>0.0</td>\n",
       "    </tr>\n",
       "    <tr>\n",
       "      <th>7321935</th>\n",
       "      <td>1499365265.818679000</td>\n",
       "      <td>206.126.112.142</td>\n",
       "      <td>192.168.10.16</td>\n",
       "      <td>443</td>\n",
       "      <td>42198</td>\n",
       "      <td>99781</td>\n",
       "      <td>4918251</td>\n",
       "      <td>0023ae9b8abf00c1b114eb310800</td>\n",
       "      <td>45000b84f0b4000039067bface7e708ec0a80a10</td>\n",
       "      <td>01bba4d6f40f016af598c863801000b7153c0000010108...</td>\n",
       "      <td>cabe1f26a52e6f7dafe3dc0711c14e8b92012d526ab4f6...</td>\n",
       "      <td>unknown</td>\n",
       "      <td>0.0</td>\n",
       "      <td>0.0</td>\n",
       "    </tr>\n",
       "  </tbody>\n",
       "</table>\n",
       "</div>"
      ],
      "text/plain": [
       "                   Epoch Time        Source IP         Dst IP  Source Port  \\\n",
       "7321931  1499365265.817911000  206.126.112.142  192.168.10.16          443   \n",
       "7321932  1499365265.818102000  206.126.112.142  192.168.10.16          443   \n",
       "7321933  1499365265.818295000  206.126.112.142  192.168.10.16          443   \n",
       "7321934  1499365265.818487000  206.126.112.142  192.168.10.16          443   \n",
       "7321935  1499365265.818679000  206.126.112.142  192.168.10.16          443   \n",
       "\n",
       "         Dst Port Stream Index Sequence Number                    Eth Header  \\\n",
       "7321931     42198        99781         4909563  0023ae9b8abf00c1b114eb310800   \n",
       "7321932     42198        99781         4911011  0023ae9b8abf00c1b114eb310800   \n",
       "7321933     42198        99781         4912459  0023ae9b8abf00c1b114eb310800   \n",
       "7321934     42198        99781         4915355  0023ae9b8abf00c1b114eb310800   \n",
       "7321935     42198        99781         4918251  0023ae9b8abf00c1b114eb310800   \n",
       "\n",
       "                                        IP Header  \\\n",
       "7321931  450005dcf0ae0000390681a8ce7e708ec0a80a10   \n",
       "7321932  450005dcf0af0000390681a7ce7e708ec0a80a10   \n",
       "7321933  45000b84f0b0000039067bfece7e708ec0a80a10   \n",
       "7321934  45000b84f0b2000039067bfcce7e708ec0a80a10   \n",
       "7321935  45000b84f0b4000039067bface7e708ec0a80a10   \n",
       "\n",
       "                                                TCP Header  \\\n",
       "7321931  01bba4d6f40edf7af598c863801000b7b3290000010108...   \n",
       "7321932  01bba4d6f40ee522f598c863801000b7168a0000010108...   \n",
       "7321933  01bba4d6f40eeacaf598c863801000b7153c0000010108...   \n",
       "7321934  01bba4d6f40ef61af598c863801000b7153c0000010108...   \n",
       "7321935  01bba4d6f40f016af598c863801000b7153c0000010108...   \n",
       "\n",
       "                                                   Payload Direction  \\\n",
       "7321931  59210587b21ed3a8d3c3c35f16fa39c781507dfc743cfc...   unknown   \n",
       "7321932  c92242f4b3a7d9a4c9cc0a701d995a7ac4c682158dadd2...   unknown   \n",
       "7321933  988822bedfd4cf1c3958c978619bf4fa79fcdd10d45749...   unknown   \n",
       "7321934  7c8dcb764403b28792b82bce3b6e9fb9a86771a3093069...   unknown   \n",
       "7321935  cabe1f26a52e6f7dafe3dc0711c14e8b92012d526ab4f6...   unknown   \n",
       "\n",
       "         Binary Label  Class Label  \n",
       "7321931           0.0          0.0  \n",
       "7321932           0.0          0.0  \n",
       "7321933           0.0          0.0  \n",
       "7321934           0.0          0.0  \n",
       "7321935           0.0          0.0  "
      ]
     },
     "execution_count": 51,
     "metadata": {},
     "output_type": "execute_result"
    }
   ],
   "source": [
    "payload_byte_data.tail()"
   ]
  },
  {
   "cell_type": "code",
   "execution_count": null,
   "id": "e5200264",
   "metadata": {},
   "outputs": [],
   "source": []
  },
  {
   "cell_type": "code",
   "execution_count": null,
   "id": "5ae319aa",
   "metadata": {},
   "outputs": [],
   "source": []
  },
  {
   "cell_type": "code",
   "execution_count": 52,
   "id": "bbbc76ff",
   "metadata": {},
   "outputs": [
    {
     "data": {
      "text/plain": [
       "7321936"
      ]
     },
     "execution_count": 52,
     "metadata": {},
     "output_type": "execute_result"
    }
   ],
   "source": [
    "len(payload_byte_data)"
   ]
  },
  {
   "cell_type": "code",
   "execution_count": 53,
   "id": "b4a24fb5",
   "metadata": {},
   "outputs": [
    {
     "data": {
      "text/plain": [
       "unknown    7222359\n",
       "fwd          56064\n",
       "bwd          43513\n",
       "Name: Direction, dtype: int64"
      ]
     },
     "execution_count": 53,
     "metadata": {},
     "output_type": "execute_result"
    }
   ],
   "source": [
    "payload_byte_data['Direction'].value_counts()"
   ]
  },
  {
   "cell_type": "code",
   "execution_count": 54,
   "id": "a47b671a",
   "metadata": {},
   "outputs": [
    {
     "data": {
      "text/plain": [
       "Direction  Class Label\n",
       "bwd        11.0             29873\n",
       "           8.0              10304\n",
       "           9.0               3277\n",
       "           10.0                59\n",
       "fwd        11.0             29881\n",
       "           8.0              19755\n",
       "           9.0               6361\n",
       "           10.0                67\n",
       "unknown    0.0            7222359\n",
       "Name: Class Label, dtype: int64"
      ]
     },
     "execution_count": 54,
     "metadata": {},
     "output_type": "execute_result"
    }
   ],
   "source": [
    "payload_byte_data.groupby('Direction')['Class Label'].value_counts()"
   ]
  },
  {
   "cell_type": "code",
   "execution_count": 55,
   "id": "2a63491c",
   "metadata": {},
   "outputs": [],
   "source": [
    "df_b = payload_byte_data[payload_byte_data['Class Label']==0]"
   ]
  },
  {
   "cell_type": "code",
   "execution_count": 56,
   "id": "ed4dbae9",
   "metadata": {},
   "outputs": [],
   "source": [
    "df_a = payload_byte_data[payload_byte_data['Class Label'] != 0]"
   ]
  },
  {
   "cell_type": "code",
   "execution_count": 57,
   "id": "1a2e0be2",
   "metadata": {},
   "outputs": [],
   "source": [
    "df_b = df_b.reset_index(drop = True)"
   ]
  },
  {
   "cell_type": "code",
   "execution_count": 58,
   "id": "915a3ef7",
   "metadata": {},
   "outputs": [],
   "source": [
    "df_a = df_a.reset_index(drop = True)"
   ]
  },
  {
   "cell_type": "code",
   "execution_count": null,
   "id": "9bb78162",
   "metadata": {},
   "outputs": [],
   "source": []
  },
  {
   "cell_type": "code",
   "execution_count": 59,
   "id": "560c4732",
   "metadata": {},
   "outputs": [],
   "source": [
    "df1 = pd.read_csv('troubleshooting dataset/Thursday-WorkingHours.csv')"
   ]
  },
  {
   "cell_type": "code",
   "execution_count": 60,
   "id": "cacb9331",
   "metadata": {},
   "outputs": [],
   "source": [
    "def df_prep_frwrd_prts(df1):\n",
    "    \n",
    "    df1 = df1[df1['Protocol'] ==6]\n",
    "    df1 = df1[df1['Label'] =='BENIGN']\n",
    "    #df1 = df1[['Src IP', 'Dst IP', 'Src Port', 'Dst Port', 'Timestamp','Label']].copy()\n",
    "    \n",
    "    #unique src prt and dst prt\n",
    "    srcprt_list = df1['Src Port'].unique()\n",
    "    dstprt_list = df1['Dst Port'].unique()\n",
    "    print(len(srcprt_list))\n",
    "    print('-----------')\n",
    "    print(len(dstprt_list))\n",
    "    print('-----------')\n",
    "    intersect = set(srcprt_list).intersection(dstprt_list)\n",
    "    print(len(intersect))\n",
    "    print('-----------')\n",
    "    #print(intersect)\n",
    "    \n",
    "    \n",
    "    df1 = df1[~df1['Src Port'].isin(intersect)]\n",
    "    \n",
    "    #calculate the epoch time from timestamp\n",
    "    #df1['epoch']=df1['Timestamp'].apply(lambda x: (datetime.strptime(x, '%d/%m/%Y %H:%M')) if x.count(':') == 1 else  (datetime.strptime(x, '%d/%m/%Y %H:%M:%S')))\n",
    "    #df1['epoch']=df1['epoch'].apply(lambda x: int((datetime(x.year,x.month,x.day,(x.hour+12),x.minute,x.second)).timestamp()) if (x.hour>=1)&(x.hour<=7) else int((datetime(x.year,x.month,x.day,x.hour,x.minute,x.second)).timestamp()))\n",
    "    \n",
    "    df1 = df1.reset_index(drop=True)\n",
    "    \n",
    "    return df1"
   ]
  },
  {
   "cell_type": "code",
   "execution_count": 61,
   "id": "6f17211c",
   "metadata": {},
   "outputs": [
    {
     "name": "stdout",
     "output_type": "stream",
     "text": [
      "36561\n",
      "-----------\n",
      "1640\n",
      "-----------\n",
      "1317\n",
      "-----------\n"
     ]
    }
   ],
   "source": [
    "df1 = df_prep_frwrd_prts(df1)"
   ]
  },
  {
   "cell_type": "code",
   "execution_count": 62,
   "id": "a44ec4e3",
   "metadata": {},
   "outputs": [],
   "source": [
    "df_b_fwd = df_b[df_b['Source Port'].isin(df1['Src Port'].unique())] "
   ]
  },
  {
   "cell_type": "code",
   "execution_count": 63,
   "id": "7d6b6fee",
   "metadata": {},
   "outputs": [],
   "source": [
    "df_b_bwd = df_b[df_b['Dst Port'].isin(df1['Src Port'].unique())] "
   ]
  },
  {
   "cell_type": "code",
   "execution_count": 64,
   "id": "041a5a67",
   "metadata": {},
   "outputs": [
    {
     "name": "stderr",
     "output_type": "stream",
     "text": [
      "C:\\Users\\Jalal\\AppData\\Local\\Temp\\ipykernel_12768\\3752041767.py:1: SettingWithCopyWarning: \n",
      "A value is trying to be set on a copy of a slice from a DataFrame.\n",
      "Try using .loc[row_indexer,col_indexer] = value instead\n",
      "\n",
      "See the caveats in the documentation: https://pandas.pydata.org/pandas-docs/stable/user_guide/indexing.html#returning-a-view-versus-a-copy\n",
      "  df_b_fwd['Direction'] = df_b_fwd['Direction'].replace(['unknown'], 'fwd')\n"
     ]
    }
   ],
   "source": [
    "df_b_fwd['Direction'] = df_b_fwd['Direction'].replace(['unknown'], 'fwd')"
   ]
  },
  {
   "cell_type": "code",
   "execution_count": 65,
   "id": "5a3e65cb",
   "metadata": {},
   "outputs": [
    {
     "name": "stderr",
     "output_type": "stream",
     "text": [
      "C:\\Users\\Jalal\\AppData\\Local\\Temp\\ipykernel_12768\\3888835064.py:1: SettingWithCopyWarning: \n",
      "A value is trying to be set on a copy of a slice from a DataFrame.\n",
      "Try using .loc[row_indexer,col_indexer] = value instead\n",
      "\n",
      "See the caveats in the documentation: https://pandas.pydata.org/pandas-docs/stable/user_guide/indexing.html#returning-a-view-versus-a-copy\n",
      "  df_b_bwd['Direction'] = df_b_bwd['Direction'].replace(['unknown'], 'bwd')\n"
     ]
    }
   ],
   "source": [
    "df_b_bwd['Direction'] = df_b_bwd['Direction'].replace(['unknown'], 'bwd')"
   ]
  },
  {
   "cell_type": "code",
   "execution_count": 66,
   "id": "d279b95e",
   "metadata": {},
   "outputs": [
    {
     "data": {
      "text/html": [
       "<div>\n",
       "<style scoped>\n",
       "    .dataframe tbody tr th:only-of-type {\n",
       "        vertical-align: middle;\n",
       "    }\n",
       "\n",
       "    .dataframe tbody tr th {\n",
       "        vertical-align: top;\n",
       "    }\n",
       "\n",
       "    .dataframe thead th {\n",
       "        text-align: right;\n",
       "    }\n",
       "</style>\n",
       "<table border=\"1\" class=\"dataframe\">\n",
       "  <thead>\n",
       "    <tr style=\"text-align: right;\">\n",
       "      <th></th>\n",
       "      <th>Epoch Time</th>\n",
       "      <th>Source IP</th>\n",
       "      <th>Dst IP</th>\n",
       "      <th>Source Port</th>\n",
       "      <th>Dst Port</th>\n",
       "      <th>Stream Index</th>\n",
       "      <th>Sequence Number</th>\n",
       "      <th>Eth Header</th>\n",
       "      <th>IP Header</th>\n",
       "      <th>TCP Header</th>\n",
       "      <th>Payload</th>\n",
       "      <th>Direction</th>\n",
       "      <th>Binary Label</th>\n",
       "      <th>Class Label</th>\n",
       "    </tr>\n",
       "  </thead>\n",
       "  <tbody>\n",
       "    <tr>\n",
       "      <th>2</th>\n",
       "      <td>1499342340.490456000</td>\n",
       "      <td>192.168.10.3</td>\n",
       "      <td>192.168.10.50</td>\n",
       "      <td>389</td>\n",
       "      <td>33898</td>\n",
       "      <td>0</td>\n",
       "      <td>1</td>\n",
       "      <td>0019b90a69f11866da9be37d0800</td>\n",
       "      <td>450001703efa400080062508c0a80a03c0a80a32</td>\n",
       "      <td>0185846a48f86a5e6b268b9f8018081d32070000010108...</td>\n",
       "      <td>000001386082013406092a864886f71201020202011100...</td>\n",
       "      <td>bwd</td>\n",
       "      <td>0.0</td>\n",
       "      <td>0.0</td>\n",
       "    </tr>\n",
       "    <tr>\n",
       "      <th>3</th>\n",
       "      <td>1499342340.490460000</td>\n",
       "      <td>192.168.10.3</td>\n",
       "      <td>192.168.10.50</td>\n",
       "      <td>389</td>\n",
       "      <td>33898</td>\n",
       "      <td>0</td>\n",
       "      <td>1</td>\n",
       "      <td>0019b90a69f11866da9be37d0800</td>\n",
       "      <td>450001703efa400080062508c0a80a03c0a80a32</td>\n",
       "      <td>0185846a48f86a5e6b268b9f8018081d32070000010108...</td>\n",
       "      <td>000001386082013406092a864886f71201020202011100...</td>\n",
       "      <td>bwd</td>\n",
       "      <td>0.0</td>\n",
       "      <td>0.0</td>\n",
       "    </tr>\n",
       "    <tr>\n",
       "      <th>8</th>\n",
       "      <td>1499342340.491375000</td>\n",
       "      <td>192.168.10.3</td>\n",
       "      <td>192.168.10.50</td>\n",
       "      <td>389</td>\n",
       "      <td>33904</td>\n",
       "      <td>1</td>\n",
       "      <td>1</td>\n",
       "      <td>0019b90a69f11866da9be37d0800</td>\n",
       "      <td>450001703efb400080062507c0a80a03c0a80a32</td>\n",
       "      <td>0185847054c096a6540cfc558018081bb47f0000010108...</td>\n",
       "      <td>000001386082013406092a864886f71201020202011100...</td>\n",
       "      <td>bwd</td>\n",
       "      <td>0.0</td>\n",
       "      <td>0.0</td>\n",
       "    </tr>\n",
       "    <tr>\n",
       "      <th>9</th>\n",
       "      <td>1499342340.491379000</td>\n",
       "      <td>192.168.10.3</td>\n",
       "      <td>192.168.10.50</td>\n",
       "      <td>389</td>\n",
       "      <td>33904</td>\n",
       "      <td>1</td>\n",
       "      <td>1</td>\n",
       "      <td>0019b90a69f11866da9be37d0800</td>\n",
       "      <td>450001703efb400080062507c0a80a03c0a80a32</td>\n",
       "      <td>0185847054c096a6540cfc558018081bb47f0000010108...</td>\n",
       "      <td>000001386082013406092a864886f71201020202011100...</td>\n",
       "      <td>bwd</td>\n",
       "      <td>0.0</td>\n",
       "      <td>0.0</td>\n",
       "    </tr>\n",
       "    <tr>\n",
       "      <th>14</th>\n",
       "      <td>1499342356.973670000</td>\n",
       "      <td>192.168.10.3</td>\n",
       "      <td>192.168.10.50</td>\n",
       "      <td>389</td>\n",
       "      <td>33898</td>\n",
       "      <td>0</td>\n",
       "      <td>317</td>\n",
       "      <td>0019b90a69f11866da9be37d0800</td>\n",
       "      <td>450001703efc400080062506c0a80a03c0a80a32</td>\n",
       "      <td>0185846a48f86b9a6b268d328018081c23c90000010108...</td>\n",
       "      <td>000001386082013406092a864886f71201020202011100...</td>\n",
       "      <td>bwd</td>\n",
       "      <td>0.0</td>\n",
       "      <td>0.0</td>\n",
       "    </tr>\n",
       "    <tr>\n",
       "      <th>...</th>\n",
       "      <td>...</td>\n",
       "      <td>...</td>\n",
       "      <td>...</td>\n",
       "      <td>...</td>\n",
       "      <td>...</td>\n",
       "      <td>...</td>\n",
       "      <td>...</td>\n",
       "      <td>...</td>\n",
       "      <td>...</td>\n",
       "      <td>...</td>\n",
       "      <td>...</td>\n",
       "      <td>...</td>\n",
       "      <td>...</td>\n",
       "      <td>...</td>\n",
       "    </tr>\n",
       "    <tr>\n",
       "      <th>7222354</th>\n",
       "      <td>1499365265.817911000</td>\n",
       "      <td>206.126.112.142</td>\n",
       "      <td>192.168.10.16</td>\n",
       "      <td>443</td>\n",
       "      <td>42198</td>\n",
       "      <td>99781</td>\n",
       "      <td>4909563</td>\n",
       "      <td>0023ae9b8abf00c1b114eb310800</td>\n",
       "      <td>450005dcf0ae0000390681a8ce7e708ec0a80a10</td>\n",
       "      <td>01bba4d6f40edf7af598c863801000b7b3290000010108...</td>\n",
       "      <td>59210587b21ed3a8d3c3c35f16fa39c781507dfc743cfc...</td>\n",
       "      <td>bwd</td>\n",
       "      <td>0.0</td>\n",
       "      <td>0.0</td>\n",
       "    </tr>\n",
       "    <tr>\n",
       "      <th>7222355</th>\n",
       "      <td>1499365265.818102000</td>\n",
       "      <td>206.126.112.142</td>\n",
       "      <td>192.168.10.16</td>\n",
       "      <td>443</td>\n",
       "      <td>42198</td>\n",
       "      <td>99781</td>\n",
       "      <td>4911011</td>\n",
       "      <td>0023ae9b8abf00c1b114eb310800</td>\n",
       "      <td>450005dcf0af0000390681a7ce7e708ec0a80a10</td>\n",
       "      <td>01bba4d6f40ee522f598c863801000b7168a0000010108...</td>\n",
       "      <td>c92242f4b3a7d9a4c9cc0a701d995a7ac4c682158dadd2...</td>\n",
       "      <td>bwd</td>\n",
       "      <td>0.0</td>\n",
       "      <td>0.0</td>\n",
       "    </tr>\n",
       "    <tr>\n",
       "      <th>7222356</th>\n",
       "      <td>1499365265.818295000</td>\n",
       "      <td>206.126.112.142</td>\n",
       "      <td>192.168.10.16</td>\n",
       "      <td>443</td>\n",
       "      <td>42198</td>\n",
       "      <td>99781</td>\n",
       "      <td>4912459</td>\n",
       "      <td>0023ae9b8abf00c1b114eb310800</td>\n",
       "      <td>45000b84f0b0000039067bfece7e708ec0a80a10</td>\n",
       "      <td>01bba4d6f40eeacaf598c863801000b7153c0000010108...</td>\n",
       "      <td>988822bedfd4cf1c3958c978619bf4fa79fcdd10d45749...</td>\n",
       "      <td>bwd</td>\n",
       "      <td>0.0</td>\n",
       "      <td>0.0</td>\n",
       "    </tr>\n",
       "    <tr>\n",
       "      <th>7222357</th>\n",
       "      <td>1499365265.818487000</td>\n",
       "      <td>206.126.112.142</td>\n",
       "      <td>192.168.10.16</td>\n",
       "      <td>443</td>\n",
       "      <td>42198</td>\n",
       "      <td>99781</td>\n",
       "      <td>4915355</td>\n",
       "      <td>0023ae9b8abf00c1b114eb310800</td>\n",
       "      <td>45000b84f0b2000039067bfcce7e708ec0a80a10</td>\n",
       "      <td>01bba4d6f40ef61af598c863801000b7153c0000010108...</td>\n",
       "      <td>7c8dcb764403b28792b82bce3b6e9fb9a86771a3093069...</td>\n",
       "      <td>bwd</td>\n",
       "      <td>0.0</td>\n",
       "      <td>0.0</td>\n",
       "    </tr>\n",
       "    <tr>\n",
       "      <th>7222358</th>\n",
       "      <td>1499365265.818679000</td>\n",
       "      <td>206.126.112.142</td>\n",
       "      <td>192.168.10.16</td>\n",
       "      <td>443</td>\n",
       "      <td>42198</td>\n",
       "      <td>99781</td>\n",
       "      <td>4918251</td>\n",
       "      <td>0023ae9b8abf00c1b114eb310800</td>\n",
       "      <td>45000b84f0b4000039067bface7e708ec0a80a10</td>\n",
       "      <td>01bba4d6f40f016af598c863801000b7153c0000010108...</td>\n",
       "      <td>cabe1f26a52e6f7dafe3dc0711c14e8b92012d526ab4f6...</td>\n",
       "      <td>bwd</td>\n",
       "      <td>0.0</td>\n",
       "      <td>0.0</td>\n",
       "    </tr>\n",
       "  </tbody>\n",
       "</table>\n",
       "<p>3892921 rows × 14 columns</p>\n",
       "</div>"
      ],
      "text/plain": [
       "                   Epoch Time        Source IP         Dst IP  Source Port  \\\n",
       "2        1499342340.490456000     192.168.10.3  192.168.10.50          389   \n",
       "3        1499342340.490460000     192.168.10.3  192.168.10.50          389   \n",
       "8        1499342340.491375000     192.168.10.3  192.168.10.50          389   \n",
       "9        1499342340.491379000     192.168.10.3  192.168.10.50          389   \n",
       "14       1499342356.973670000     192.168.10.3  192.168.10.50          389   \n",
       "...                       ...              ...            ...          ...   \n",
       "7222354  1499365265.817911000  206.126.112.142  192.168.10.16          443   \n",
       "7222355  1499365265.818102000  206.126.112.142  192.168.10.16          443   \n",
       "7222356  1499365265.818295000  206.126.112.142  192.168.10.16          443   \n",
       "7222357  1499365265.818487000  206.126.112.142  192.168.10.16          443   \n",
       "7222358  1499365265.818679000  206.126.112.142  192.168.10.16          443   \n",
       "\n",
       "         Dst Port Stream Index Sequence Number                    Eth Header  \\\n",
       "2           33898            0               1  0019b90a69f11866da9be37d0800   \n",
       "3           33898            0               1  0019b90a69f11866da9be37d0800   \n",
       "8           33904            1               1  0019b90a69f11866da9be37d0800   \n",
       "9           33904            1               1  0019b90a69f11866da9be37d0800   \n",
       "14          33898            0             317  0019b90a69f11866da9be37d0800   \n",
       "...           ...          ...             ...                           ...   \n",
       "7222354     42198        99781         4909563  0023ae9b8abf00c1b114eb310800   \n",
       "7222355     42198        99781         4911011  0023ae9b8abf00c1b114eb310800   \n",
       "7222356     42198        99781         4912459  0023ae9b8abf00c1b114eb310800   \n",
       "7222357     42198        99781         4915355  0023ae9b8abf00c1b114eb310800   \n",
       "7222358     42198        99781         4918251  0023ae9b8abf00c1b114eb310800   \n",
       "\n",
       "                                        IP Header  \\\n",
       "2        450001703efa400080062508c0a80a03c0a80a32   \n",
       "3        450001703efa400080062508c0a80a03c0a80a32   \n",
       "8        450001703efb400080062507c0a80a03c0a80a32   \n",
       "9        450001703efb400080062507c0a80a03c0a80a32   \n",
       "14       450001703efc400080062506c0a80a03c0a80a32   \n",
       "...                                           ...   \n",
       "7222354  450005dcf0ae0000390681a8ce7e708ec0a80a10   \n",
       "7222355  450005dcf0af0000390681a7ce7e708ec0a80a10   \n",
       "7222356  45000b84f0b0000039067bfece7e708ec0a80a10   \n",
       "7222357  45000b84f0b2000039067bfcce7e708ec0a80a10   \n",
       "7222358  45000b84f0b4000039067bface7e708ec0a80a10   \n",
       "\n",
       "                                                TCP Header  \\\n",
       "2        0185846a48f86a5e6b268b9f8018081d32070000010108...   \n",
       "3        0185846a48f86a5e6b268b9f8018081d32070000010108...   \n",
       "8        0185847054c096a6540cfc558018081bb47f0000010108...   \n",
       "9        0185847054c096a6540cfc558018081bb47f0000010108...   \n",
       "14       0185846a48f86b9a6b268d328018081c23c90000010108...   \n",
       "...                                                    ...   \n",
       "7222354  01bba4d6f40edf7af598c863801000b7b3290000010108...   \n",
       "7222355  01bba4d6f40ee522f598c863801000b7168a0000010108...   \n",
       "7222356  01bba4d6f40eeacaf598c863801000b7153c0000010108...   \n",
       "7222357  01bba4d6f40ef61af598c863801000b7153c0000010108...   \n",
       "7222358  01bba4d6f40f016af598c863801000b7153c0000010108...   \n",
       "\n",
       "                                                   Payload Direction  \\\n",
       "2        000001386082013406092a864886f71201020202011100...       bwd   \n",
       "3        000001386082013406092a864886f71201020202011100...       bwd   \n",
       "8        000001386082013406092a864886f71201020202011100...       bwd   \n",
       "9        000001386082013406092a864886f71201020202011100...       bwd   \n",
       "14       000001386082013406092a864886f71201020202011100...       bwd   \n",
       "...                                                    ...       ...   \n",
       "7222354  59210587b21ed3a8d3c3c35f16fa39c781507dfc743cfc...       bwd   \n",
       "7222355  c92242f4b3a7d9a4c9cc0a701d995a7ac4c682158dadd2...       bwd   \n",
       "7222356  988822bedfd4cf1c3958c978619bf4fa79fcdd10d45749...       bwd   \n",
       "7222357  7c8dcb764403b28792b82bce3b6e9fb9a86771a3093069...       bwd   \n",
       "7222358  cabe1f26a52e6f7dafe3dc0711c14e8b92012d526ab4f6...       bwd   \n",
       "\n",
       "         Binary Label  Class Label  \n",
       "2                 0.0          0.0  \n",
       "3                 0.0          0.0  \n",
       "8                 0.0          0.0  \n",
       "9                 0.0          0.0  \n",
       "14                0.0          0.0  \n",
       "...               ...          ...  \n",
       "7222354           0.0          0.0  \n",
       "7222355           0.0          0.0  \n",
       "7222356           0.0          0.0  \n",
       "7222357           0.0          0.0  \n",
       "7222358           0.0          0.0  \n",
       "\n",
       "[3892921 rows x 14 columns]"
      ]
     },
     "execution_count": 66,
     "metadata": {},
     "output_type": "execute_result"
    }
   ],
   "source": [
    "df_b_bwd"
   ]
  },
  {
   "cell_type": "code",
   "execution_count": 67,
   "id": "3874d057",
   "metadata": {},
   "outputs": [],
   "source": [
    "df_all = pd.concat([df_a, df_b_fwd , df_b_bwd])"
   ]
  },
  {
   "cell_type": "code",
   "execution_count": 68,
   "id": "d5ad7572",
   "metadata": {},
   "outputs": [],
   "source": [
    "df_all = df_all.reset_index(drop = True)"
   ]
  },
  {
   "cell_type": "code",
   "execution_count": 69,
   "id": "b48155c1",
   "metadata": {},
   "outputs": [
    {
     "data": {
      "text/html": [
       "<div>\n",
       "<style scoped>\n",
       "    .dataframe tbody tr th:only-of-type {\n",
       "        vertical-align: middle;\n",
       "    }\n",
       "\n",
       "    .dataframe tbody tr th {\n",
       "        vertical-align: top;\n",
       "    }\n",
       "\n",
       "    .dataframe thead th {\n",
       "        text-align: right;\n",
       "    }\n",
       "</style>\n",
       "<table border=\"1\" class=\"dataframe\">\n",
       "  <thead>\n",
       "    <tr style=\"text-align: right;\">\n",
       "      <th></th>\n",
       "      <th>Epoch Time</th>\n",
       "      <th>Source IP</th>\n",
       "      <th>Dst IP</th>\n",
       "      <th>Source Port</th>\n",
       "      <th>Dst Port</th>\n",
       "      <th>Stream Index</th>\n",
       "      <th>Sequence Number</th>\n",
       "      <th>Eth Header</th>\n",
       "      <th>IP Header</th>\n",
       "      <th>TCP Header</th>\n",
       "      <th>Payload</th>\n",
       "      <th>Direction</th>\n",
       "      <th>Binary Label</th>\n",
       "      <th>Class Label</th>\n",
       "    </tr>\n",
       "  </thead>\n",
       "  <tbody>\n",
       "    <tr>\n",
       "      <th>0</th>\n",
       "      <td>1499343600.000989000</td>\n",
       "      <td>192.168.10.16</td>\n",
       "      <td>209.58.128.160</td>\n",
       "      <td>39846</td>\n",
       "      <td>443</td>\n",
       "      <td>3529</td>\n",
       "      <td>897</td>\n",
       "      <td>00c1b114eb310023ae9b8abf0800</td>\n",
       "      <td>4500003445b240004006d87ec0a80a10d13a80a0</td>\n",
       "      <td>9ba601bb201715c34e47065b8010015cc3a60000010108...</td>\n",
       "      <td></td>\n",
       "      <td>fwd</td>\n",
       "      <td>1.0</td>\n",
       "      <td>8.0</td>\n",
       "    </tr>\n",
       "    <tr>\n",
       "      <th>1</th>\n",
       "      <td>1499343600.000991000</td>\n",
       "      <td>192.168.10.16</td>\n",
       "      <td>23.60.139.27</td>\n",
       "      <td>46500</td>\n",
       "      <td>80</td>\n",
       "      <td>3537</td>\n",
       "      <td>432</td>\n",
       "      <td>00c1b114eb310023ae9b8abf0800</td>\n",
       "      <td>45000034574e400040067666c0a80a10173c8b1b</td>\n",
       "      <td>b5a40050562f11268d8528b680100112f4ee0000010108...</td>\n",
       "      <td></td>\n",
       "      <td>bwd</td>\n",
       "      <td>1.0</td>\n",
       "      <td>8.0</td>\n",
       "    </tr>\n",
       "    <tr>\n",
       "      <th>2</th>\n",
       "      <td>1499343600.001028000</td>\n",
       "      <td>192.168.10.16</td>\n",
       "      <td>23.60.139.27</td>\n",
       "      <td>46498</td>\n",
       "      <td>80</td>\n",
       "      <td>3536</td>\n",
       "      <td>432</td>\n",
       "      <td>00c1b114eb310023ae9b8abf0800</td>\n",
       "      <td>45000034cee640004006fecdc0a80a10173c8b1b</td>\n",
       "      <td>b5a200500271988f98a44e71801001008b460000010108...</td>\n",
       "      <td></td>\n",
       "      <td>fwd</td>\n",
       "      <td>1.0</td>\n",
       "      <td>8.0</td>\n",
       "    </tr>\n",
       "    <tr>\n",
       "      <th>3</th>\n",
       "      <td>1499343600.001547000</td>\n",
       "      <td>216.58.219.226</td>\n",
       "      <td>192.168.10.25</td>\n",
       "      <td>443</td>\n",
       "      <td>49221</td>\n",
       "      <td>3561</td>\n",
       "      <td>3500</td>\n",
       "      <td>002500a8c46000c1b114eb310800</td>\n",
       "      <td>450005b92a8100003506d6dfd83adbe2c0a80a19</td>\n",
       "      <td>01bbc045d127a8cca9a506308018015d92590000010108...</td>\n",
       "      <td>170301058065e6491e2fc3dc9d004ef8bc528b237ab74f...</td>\n",
       "      <td>fwd</td>\n",
       "      <td>1.0</td>\n",
       "      <td>8.0</td>\n",
       "    </tr>\n",
       "    <tr>\n",
       "      <th>4</th>\n",
       "      <td>1499343600.001577000</td>\n",
       "      <td>192.168.10.25</td>\n",
       "      <td>216.58.219.226</td>\n",
       "      <td>49221</td>\n",
       "      <td>443</td>\n",
       "      <td>3561</td>\n",
       "      <td>806</td>\n",
       "      <td>00c1b114eb31002500a8c4600800</td>\n",
       "      <td>450000345e9f400040065d46c0a80a19d83adbe2</td>\n",
       "      <td>c04501bba9a50630d127ae518010ffcfc92d0000010108...</td>\n",
       "      <td></td>\n",
       "      <td>bwd</td>\n",
       "      <td>1.0</td>\n",
       "      <td>8.0</td>\n",
       "    </tr>\n",
       "    <tr>\n",
       "      <th>...</th>\n",
       "      <td>...</td>\n",
       "      <td>...</td>\n",
       "      <td>...</td>\n",
       "      <td>...</td>\n",
       "      <td>...</td>\n",
       "      <td>...</td>\n",
       "      <td>...</td>\n",
       "      <td>...</td>\n",
       "      <td>...</td>\n",
       "      <td>...</td>\n",
       "      <td>...</td>\n",
       "      <td>...</td>\n",
       "      <td>...</td>\n",
       "      <td>...</td>\n",
       "    </tr>\n",
       "    <tr>\n",
       "      <th>7187244</th>\n",
       "      <td>1499365265.817911000</td>\n",
       "      <td>206.126.112.142</td>\n",
       "      <td>192.168.10.16</td>\n",
       "      <td>443</td>\n",
       "      <td>42198</td>\n",
       "      <td>99781</td>\n",
       "      <td>4909563</td>\n",
       "      <td>0023ae9b8abf00c1b114eb310800</td>\n",
       "      <td>450005dcf0ae0000390681a8ce7e708ec0a80a10</td>\n",
       "      <td>01bba4d6f40edf7af598c863801000b7b3290000010108...</td>\n",
       "      <td>59210587b21ed3a8d3c3c35f16fa39c781507dfc743cfc...</td>\n",
       "      <td>bwd</td>\n",
       "      <td>0.0</td>\n",
       "      <td>0.0</td>\n",
       "    </tr>\n",
       "    <tr>\n",
       "      <th>7187245</th>\n",
       "      <td>1499365265.818102000</td>\n",
       "      <td>206.126.112.142</td>\n",
       "      <td>192.168.10.16</td>\n",
       "      <td>443</td>\n",
       "      <td>42198</td>\n",
       "      <td>99781</td>\n",
       "      <td>4911011</td>\n",
       "      <td>0023ae9b8abf00c1b114eb310800</td>\n",
       "      <td>450005dcf0af0000390681a7ce7e708ec0a80a10</td>\n",
       "      <td>01bba4d6f40ee522f598c863801000b7168a0000010108...</td>\n",
       "      <td>c92242f4b3a7d9a4c9cc0a701d995a7ac4c682158dadd2...</td>\n",
       "      <td>bwd</td>\n",
       "      <td>0.0</td>\n",
       "      <td>0.0</td>\n",
       "    </tr>\n",
       "    <tr>\n",
       "      <th>7187246</th>\n",
       "      <td>1499365265.818295000</td>\n",
       "      <td>206.126.112.142</td>\n",
       "      <td>192.168.10.16</td>\n",
       "      <td>443</td>\n",
       "      <td>42198</td>\n",
       "      <td>99781</td>\n",
       "      <td>4912459</td>\n",
       "      <td>0023ae9b8abf00c1b114eb310800</td>\n",
       "      <td>45000b84f0b0000039067bfece7e708ec0a80a10</td>\n",
       "      <td>01bba4d6f40eeacaf598c863801000b7153c0000010108...</td>\n",
       "      <td>988822bedfd4cf1c3958c978619bf4fa79fcdd10d45749...</td>\n",
       "      <td>bwd</td>\n",
       "      <td>0.0</td>\n",
       "      <td>0.0</td>\n",
       "    </tr>\n",
       "    <tr>\n",
       "      <th>7187247</th>\n",
       "      <td>1499365265.818487000</td>\n",
       "      <td>206.126.112.142</td>\n",
       "      <td>192.168.10.16</td>\n",
       "      <td>443</td>\n",
       "      <td>42198</td>\n",
       "      <td>99781</td>\n",
       "      <td>4915355</td>\n",
       "      <td>0023ae9b8abf00c1b114eb310800</td>\n",
       "      <td>45000b84f0b2000039067bfcce7e708ec0a80a10</td>\n",
       "      <td>01bba4d6f40ef61af598c863801000b7153c0000010108...</td>\n",
       "      <td>7c8dcb764403b28792b82bce3b6e9fb9a86771a3093069...</td>\n",
       "      <td>bwd</td>\n",
       "      <td>0.0</td>\n",
       "      <td>0.0</td>\n",
       "    </tr>\n",
       "    <tr>\n",
       "      <th>7187248</th>\n",
       "      <td>1499365265.818679000</td>\n",
       "      <td>206.126.112.142</td>\n",
       "      <td>192.168.10.16</td>\n",
       "      <td>443</td>\n",
       "      <td>42198</td>\n",
       "      <td>99781</td>\n",
       "      <td>4918251</td>\n",
       "      <td>0023ae9b8abf00c1b114eb310800</td>\n",
       "      <td>45000b84f0b4000039067bface7e708ec0a80a10</td>\n",
       "      <td>01bba4d6f40f016af598c863801000b7153c0000010108...</td>\n",
       "      <td>cabe1f26a52e6f7dafe3dc0711c14e8b92012d526ab4f6...</td>\n",
       "      <td>bwd</td>\n",
       "      <td>0.0</td>\n",
       "      <td>0.0</td>\n",
       "    </tr>\n",
       "  </tbody>\n",
       "</table>\n",
       "<p>7187249 rows × 14 columns</p>\n",
       "</div>"
      ],
      "text/plain": [
       "                   Epoch Time        Source IP          Dst IP  Source Port  \\\n",
       "0        1499343600.000989000    192.168.10.16  209.58.128.160        39846   \n",
       "1        1499343600.000991000    192.168.10.16    23.60.139.27        46500   \n",
       "2        1499343600.001028000    192.168.10.16    23.60.139.27        46498   \n",
       "3        1499343600.001547000   216.58.219.226   192.168.10.25          443   \n",
       "4        1499343600.001577000    192.168.10.25  216.58.219.226        49221   \n",
       "...                       ...              ...             ...          ...   \n",
       "7187244  1499365265.817911000  206.126.112.142   192.168.10.16          443   \n",
       "7187245  1499365265.818102000  206.126.112.142   192.168.10.16          443   \n",
       "7187246  1499365265.818295000  206.126.112.142   192.168.10.16          443   \n",
       "7187247  1499365265.818487000  206.126.112.142   192.168.10.16          443   \n",
       "7187248  1499365265.818679000  206.126.112.142   192.168.10.16          443   \n",
       "\n",
       "         Dst Port Stream Index Sequence Number                    Eth Header  \\\n",
       "0             443         3529             897  00c1b114eb310023ae9b8abf0800   \n",
       "1              80         3537             432  00c1b114eb310023ae9b8abf0800   \n",
       "2              80         3536             432  00c1b114eb310023ae9b8abf0800   \n",
       "3           49221         3561            3500  002500a8c46000c1b114eb310800   \n",
       "4             443         3561             806  00c1b114eb31002500a8c4600800   \n",
       "...           ...          ...             ...                           ...   \n",
       "7187244     42198        99781         4909563  0023ae9b8abf00c1b114eb310800   \n",
       "7187245     42198        99781         4911011  0023ae9b8abf00c1b114eb310800   \n",
       "7187246     42198        99781         4912459  0023ae9b8abf00c1b114eb310800   \n",
       "7187247     42198        99781         4915355  0023ae9b8abf00c1b114eb310800   \n",
       "7187248     42198        99781         4918251  0023ae9b8abf00c1b114eb310800   \n",
       "\n",
       "                                        IP Header  \\\n",
       "0        4500003445b240004006d87ec0a80a10d13a80a0   \n",
       "1        45000034574e400040067666c0a80a10173c8b1b   \n",
       "2        45000034cee640004006fecdc0a80a10173c8b1b   \n",
       "3        450005b92a8100003506d6dfd83adbe2c0a80a19   \n",
       "4        450000345e9f400040065d46c0a80a19d83adbe2   \n",
       "...                                           ...   \n",
       "7187244  450005dcf0ae0000390681a8ce7e708ec0a80a10   \n",
       "7187245  450005dcf0af0000390681a7ce7e708ec0a80a10   \n",
       "7187246  45000b84f0b0000039067bfece7e708ec0a80a10   \n",
       "7187247  45000b84f0b2000039067bfcce7e708ec0a80a10   \n",
       "7187248  45000b84f0b4000039067bface7e708ec0a80a10   \n",
       "\n",
       "                                                TCP Header  \\\n",
       "0        9ba601bb201715c34e47065b8010015cc3a60000010108...   \n",
       "1        b5a40050562f11268d8528b680100112f4ee0000010108...   \n",
       "2        b5a200500271988f98a44e71801001008b460000010108...   \n",
       "3        01bbc045d127a8cca9a506308018015d92590000010108...   \n",
       "4        c04501bba9a50630d127ae518010ffcfc92d0000010108...   \n",
       "...                                                    ...   \n",
       "7187244  01bba4d6f40edf7af598c863801000b7b3290000010108...   \n",
       "7187245  01bba4d6f40ee522f598c863801000b7168a0000010108...   \n",
       "7187246  01bba4d6f40eeacaf598c863801000b7153c0000010108...   \n",
       "7187247  01bba4d6f40ef61af598c863801000b7153c0000010108...   \n",
       "7187248  01bba4d6f40f016af598c863801000b7153c0000010108...   \n",
       "\n",
       "                                                   Payload Direction  \\\n",
       "0                                                                fwd   \n",
       "1                                                                bwd   \n",
       "2                                                                fwd   \n",
       "3        170301058065e6491e2fc3dc9d004ef8bc528b237ab74f...       fwd   \n",
       "4                                                                bwd   \n",
       "...                                                    ...       ...   \n",
       "7187244  59210587b21ed3a8d3c3c35f16fa39c781507dfc743cfc...       bwd   \n",
       "7187245  c92242f4b3a7d9a4c9cc0a701d995a7ac4c682158dadd2...       bwd   \n",
       "7187246  988822bedfd4cf1c3958c978619bf4fa79fcdd10d45749...       bwd   \n",
       "7187247  7c8dcb764403b28792b82bce3b6e9fb9a86771a3093069...       bwd   \n",
       "7187248  cabe1f26a52e6f7dafe3dc0711c14e8b92012d526ab4f6...       bwd   \n",
       "\n",
       "         Binary Label  Class Label  \n",
       "0                 1.0          8.0  \n",
       "1                 1.0          8.0  \n",
       "2                 1.0          8.0  \n",
       "3                 1.0          8.0  \n",
       "4                 1.0          8.0  \n",
       "...               ...          ...  \n",
       "7187244           0.0          0.0  \n",
       "7187245           0.0          0.0  \n",
       "7187246           0.0          0.0  \n",
       "7187247           0.0          0.0  \n",
       "7187248           0.0          0.0  \n",
       "\n",
       "[7187249 rows x 14 columns]"
      ]
     },
     "execution_count": 69,
     "metadata": {},
     "output_type": "execute_result"
    }
   ],
   "source": [
    "df_all"
   ]
  },
  {
   "cell_type": "code",
   "execution_count": 70,
   "id": "d07268b0",
   "metadata": {},
   "outputs": [
    {
     "data": {
      "text/plain": [
       "Direction  Class Label\n",
       "bwd        0.0            3892921\n",
       "           11.0             29873\n",
       "           8.0              10304\n",
       "           9.0               3277\n",
       "           10.0                59\n",
       "fwd        0.0            3194751\n",
       "           11.0             29881\n",
       "           8.0              19755\n",
       "           9.0               6361\n",
       "           10.0                67\n",
       "Name: Class Label, dtype: int64"
      ]
     },
     "execution_count": 70,
     "metadata": {},
     "output_type": "execute_result"
    }
   ],
   "source": [
    "df_all.groupby('Direction')['Class Label'].value_counts()"
   ]
  },
  {
   "cell_type": "code",
   "execution_count": 71,
   "id": "1926e03a",
   "metadata": {},
   "outputs": [],
   "source": [
    "df_all.to_pickle(\"Thursday_Packet_Level_Data.pkl\")"
   ]
  },
  {
   "cell_type": "code",
   "execution_count": null,
   "id": "4f9e8138",
   "metadata": {},
   "outputs": [],
   "source": []
  }
 ],
 "metadata": {
  "kernelspec": {
   "display_name": "Python 3 (ipykernel)",
   "language": "python",
   "name": "python3"
  },
  "language_info": {
   "codemirror_mode": {
    "name": "ipython",
    "version": 3
   },
   "file_extension": ".py",
   "mimetype": "text/x-python",
   "name": "python",
   "nbconvert_exporter": "python",
   "pygments_lexer": "ipython3",
   "version": "3.9.7"
  }
 },
 "nbformat": 4,
 "nbformat_minor": 5
}
