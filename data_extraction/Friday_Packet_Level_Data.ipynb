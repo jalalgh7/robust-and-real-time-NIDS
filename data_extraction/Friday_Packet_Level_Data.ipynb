{
 "cells": [
  {
   "cell_type": "code",
   "execution_count": 1,
   "id": "1364dda4",
   "metadata": {},
   "outputs": [],
   "source": [
    "import json\n",
    "import pandas as pd\n",
    "import ijson\n",
    "from datetime import datetime\n",
    "import time"
   ]
  },
  {
   "cell_type": "code",
   "execution_count": 2,
   "id": "ae53decd",
   "metadata": {},
   "outputs": [
    {
     "name": "stdout",
     "output_type": "stream",
     "text": [
      "7.7259566105641175 257.4408550262451\n",
      "15.451913221128235 494.7444894313812\n",
      "23.17786983169235 766.6948356628418\n",
      "30.90382644225647 1057.8163964748383\n",
      "38.629783052820585 1367.6279389858246\n",
      "46.3557396633847 1685.2661125659943\n",
      "54.08169627394882 1971.105350971222\n",
      "61.80765288451294 2266.1512382030487\n",
      "69.53360949507706 2583.5044555664062\n",
      "2643.7741479873657\n"
     ]
    }
   ],
   "source": [
    "start_time = time.time()\n",
    "\n",
    "dict_epochtime = {}\n",
    "dict_source_ip = {}\n",
    "dict_dst_ip = {}\n",
    "dict_source_port = {}\n",
    "dict_dst_port = {}\n",
    "dict_stream = {}\n",
    "dict_sequence = {}\n",
    "dict_eth_header = {}\n",
    "dict_ip_header = {}\n",
    "dict_tcp_header = {}\n",
    "dict_payload = {}\n",
    "dict_direction = {}\n",
    "dict_b_labels ={}\n",
    "dict_d_labels = {}\n",
    "\n",
    "\n",
    "total_no = 0\n",
    "packets = 0\n",
    "with open(\"Friday.json\", \"rb\") as f:\n",
    "    for record in ijson.items(f, \"item\"):\n",
    "        total_no += 1\n",
    "        if 'eth:ethertype:ip:tcp' in record[\"_source\"][\"layers\"][\"frame\"][\"frame.protocols\"]:\n",
    "            packets += 1\n",
    "            \n",
    "            if (packets % 1000000) == 0:\n",
    "                print((packets/12943381)*100,(time.time() - start_time))\n",
    "                \n",
    "            epoch_time = record[\"_source\"]['layers']['frame']['frame.time_epoch']\n",
    "            source_ip = record[\"_source\"][\"layers\"]['ip']['ip.src']\n",
    "            dst_ip = record[\"_source\"][\"layers\"]['ip']['ip.dst']\n",
    "            eth_raw = record[\"_source\"]['layers']['eth_raw'][0]\n",
    "            ip_raw = record[\"_source\"]['layers']['ip_raw'][0]\n",
    "            tcp_raw = record[\"_source\"]['layers']['tcp_raw'][0]\n",
    "            all_hex_raw = record[\"_source\"][\"layers\"][\"frame_raw\"][0]\n",
    "            \n",
    "            all_header_raw = eth_raw + ip_raw + tcp_raw\n",
    "            \n",
    "            len_header = len(all_header_raw)\n",
    "            \n",
    "            payload_raw = all_hex_raw[len_header:]\n",
    "\n",
    "            dict_epochtime[packets] = epoch_time\n",
    "            dict_source_ip[packets] = source_ip\n",
    "            dict_dst_ip[packets] = dst_ip\n",
    "            dict_source_port[packets] = record[\"_source\"]['layers']['tcp']['tcp.srcport']\n",
    "            dict_dst_port[packets] = record[\"_source\"]['layers']['tcp']['tcp.dstport']\n",
    "            dict_stream[packets] = record[\"_source\"]['layers']['tcp']['tcp.stream']\n",
    "            dict_sequence[packets] = record[\"_source\"]['layers']['tcp']['tcp.seq']\n",
    "            dict_eth_header[packets] = eth_raw\n",
    "            dict_ip_header[packets] = ip_raw\n",
    "            dict_tcp_header[packets] = tcp_raw\n",
    "            dict_payload[packets] = payload_raw\n",
    "\n",
    "            \n",
    "            if ((source_ip =='192.168.10.12') | (source_ip =='192.168.10.14')|(source_ip =='192.168.10.15')|\n",
    "                 (source_ip =='192.168.10.17')|(source_ip ==  '192.168.10.5')| (source_ip =='192.168.10.8')| \n",
    "                  (source_ip =='192.168.10.9')) & ((dst_ip =='205.174.165.73')|(dst_ip =='52.6.13.28')|\n",
    "                    (dst_ip =='52.7.235.158')) & (float(epoch_time) >=1499432520) & (float(epoch_time) <= 1499436180):\n",
    "                    \n",
    "                    #bot forward=12\n",
    "                    dict_direction[packets]= 'fwd'\n",
    "                    dict_d_labels[packets] = 12\n",
    "                    dict_b_labels[packets] = 1\n",
    "\n",
    "            elif ((dst_ip =='192.168.10.12') | (dst_ip =='192.168.10.14')|(dst_ip =='192.168.10.15')|\n",
    "                 (dst_ip =='192.168.10.17')|(dst_ip ==  '192.168.10.5')| (dst_ip =='192.168.10.8')| \n",
    "                  (dst_ip =='192.168.10.9')) & ((source_ip =='205.174.165.73')|(source_ip =='52.6.13.28')|\n",
    "                    (source_ip =='52.7.235.158')) & (float(epoch_time) >=1499432520) & (float(epoch_time) <= 1499436180):\n",
    "                    \n",
    "                    #bot backward=12\n",
    "                    dict_direction[packets]= 'bwd'\n",
    "                    dict_d_labels[packets] = 12\n",
    "                    dict_b_labels[packets] = 1                    \n",
    "                    \n",
    "\n",
    "            elif  float(epoch_time) >= 1499446500 and float(epoch_time) <= 1499452140:\n",
    "                ##port scan forward= 13\n",
    "                if source_ip == '172.16.0.1' and dst_ip == '192.168.10.50':\n",
    "                    dict_direction[packets]= 'fwd'\n",
    "                    dict_d_labels[packets] = 13\n",
    "                    dict_b_labels[packets] = 1 \n",
    "                ##port scan backward= 13\n",
    "                elif source_ip == '192.168.10.50' and dst_ip == '172.16.0.1':\n",
    "                    dict_direction[packets]= 'bwd'\n",
    "                    dict_d_labels[packets] = 13\n",
    "                    dict_b_labels[packets] = 1 \n",
    "\n",
    "            elif float(epoch_time) >= 1499453760 and float(epoch_time) <= 1499454960:\n",
    "                ##ddos =14\n",
    "                if source_ip == '172.16.0.1' and dst_ip == '192.168.10.50':\n",
    "                    dict_direction[packets]= 'fwd'\n",
    "                    dict_d_labels[packets] = 14\n",
    "                    dict_b_labels[packets] = 1 \n",
    "                elif source_ip == '192.168.10.50' and dst_ip == '172.16.0.1':\n",
    "\n",
    "                    dict_direction[packets]= 'bwd'\n",
    "                    dict_d_labels[packets] = 14\n",
    "                    dict_b_labels[packets] = 1 \n",
    "\n",
    "            \n",
    "            else:\n",
    "                dict_direction[packets]= 'unknown'\n",
    "                dict_d_labels[packets] = 0\n",
    "                dict_b_labels[packets] = 0\n",
    "\n",
    "                \n",
    "print(time.time() - start_time)"
   ]
  },
  {
   "cell_type": "code",
   "execution_count": 3,
   "id": "661c247f",
   "metadata": {},
   "outputs": [
    {
     "data": {
      "text/plain": [
       "0     6453606\n",
       "14    1265657\n",
       "13     323307\n",
       "12       9871\n",
       "dtype: int64"
      ]
     },
     "execution_count": 3,
     "metadata": {},
     "output_type": "execute_result"
    }
   ],
   "source": [
    "pd.DataFrame(dict_d_labels.values()).value_counts()"
   ]
  },
  {
   "cell_type": "code",
   "execution_count": 4,
   "id": "691abddd",
   "metadata": {},
   "outputs": [
    {
     "data": {
      "text/plain": [
       "9191727"
      ]
     },
     "execution_count": 4,
     "metadata": {},
     "output_type": "execute_result"
    }
   ],
   "source": [
    "packets"
   ]
  },
  {
   "cell_type": "code",
   "execution_count": 5,
   "id": "a8a8ca9d",
   "metadata": {},
   "outputs": [
    {
     "data": {
      "text/plain": [
       "9192354"
      ]
     },
     "execution_count": 5,
     "metadata": {},
     "output_type": "execute_result"
    }
   ],
   "source": [
    "total_no"
   ]
  },
  {
   "cell_type": "code",
   "execution_count": 6,
   "id": "cbc988fd",
   "metadata": {},
   "outputs": [],
   "source": [
    "payload_byte_data = pd.DataFrame()"
   ]
  },
  {
   "cell_type": "code",
   "execution_count": 7,
   "id": "9fc454ae",
   "metadata": {},
   "outputs": [],
   "source": [
    "epoch_times_ = pd.DataFrame(dict_epochtime.values())"
   ]
  },
  {
   "cell_type": "code",
   "execution_count": 8,
   "id": "faa20fd2",
   "metadata": {},
   "outputs": [],
   "source": [
    "source_ips_ = pd.DataFrame(dict_source_ip.values())"
   ]
  },
  {
   "cell_type": "code",
   "execution_count": 9,
   "id": "ecc3a9cf",
   "metadata": {},
   "outputs": [],
   "source": [
    "dst_ips_ = pd.DataFrame(dict_dst_ip.values())"
   ]
  },
  {
   "cell_type": "code",
   "execution_count": 10,
   "id": "c71c9c6d",
   "metadata": {},
   "outputs": [],
   "source": [
    "source_ports_ = pd.DataFrame(dict_source_port.values())"
   ]
  },
  {
   "cell_type": "code",
   "execution_count": 11,
   "id": "3c5f6083",
   "metadata": {},
   "outputs": [],
   "source": [
    "dst_ports_ = pd.DataFrame(dict_dst_port.values())"
   ]
  },
  {
   "cell_type": "code",
   "execution_count": 12,
   "id": "868ecd10",
   "metadata": {},
   "outputs": [],
   "source": [
    "streams_ = pd.DataFrame(dict_stream.values())"
   ]
  },
  {
   "cell_type": "code",
   "execution_count": 13,
   "id": "41e19b1a",
   "metadata": {},
   "outputs": [],
   "source": [
    "seq_ = pd.DataFrame(dict_sequence.values())"
   ]
  },
  {
   "cell_type": "code",
   "execution_count": 14,
   "id": "1864ebfd",
   "metadata": {},
   "outputs": [],
   "source": [
    "eth_ = pd.DataFrame(dict_eth_header.values())"
   ]
  },
  {
   "cell_type": "code",
   "execution_count": 15,
   "id": "713e1088",
   "metadata": {},
   "outputs": [],
   "source": [
    "ip_ = pd.DataFrame(dict_ip_header.values())"
   ]
  },
  {
   "cell_type": "code",
   "execution_count": 16,
   "id": "bcfc89d5",
   "metadata": {},
   "outputs": [],
   "source": [
    "tcp_ = pd.DataFrame(dict_tcp_header.values())"
   ]
  },
  {
   "cell_type": "code",
   "execution_count": 17,
   "id": "57ff26cd",
   "metadata": {},
   "outputs": [],
   "source": [
    "payload_ = pd.DataFrame(dict_payload.values())"
   ]
  },
  {
   "cell_type": "code",
   "execution_count": 18,
   "id": "ac424349",
   "metadata": {},
   "outputs": [],
   "source": [
    "direction_ = pd.DataFrame(dict_direction.values())"
   ]
  },
  {
   "cell_type": "code",
   "execution_count": 19,
   "id": "d4c9b3a9",
   "metadata": {},
   "outputs": [],
   "source": [
    "d_labels_ = pd.DataFrame(dict_d_labels.values())\n",
    "b_labels_ = pd.DataFrame(dict_b_labels.values())"
   ]
  },
  {
   "cell_type": "code",
   "execution_count": null,
   "id": "16d1a38c",
   "metadata": {},
   "outputs": [],
   "source": []
  },
  {
   "cell_type": "code",
   "execution_count": 20,
   "id": "302448c3",
   "metadata": {},
   "outputs": [],
   "source": [
    "payload_byte_data['Epoch Time'] = epoch_times_"
   ]
  },
  {
   "cell_type": "code",
   "execution_count": 21,
   "id": "5339c713",
   "metadata": {},
   "outputs": [],
   "source": [
    "payload_byte_data['Source IP'] = source_ips_"
   ]
  },
  {
   "cell_type": "code",
   "execution_count": 22,
   "id": "a1343e20",
   "metadata": {},
   "outputs": [],
   "source": [
    "payload_byte_data['Dst IP'] = dst_ips_"
   ]
  },
  {
   "cell_type": "code",
   "execution_count": 23,
   "id": "bd16b278",
   "metadata": {},
   "outputs": [],
   "source": [
    "payload_byte_data['Source Port'] = source_ports_"
   ]
  },
  {
   "cell_type": "code",
   "execution_count": 24,
   "id": "d9cd2eea",
   "metadata": {},
   "outputs": [],
   "source": [
    "payload_byte_data['Dst Port'] = dst_ports_"
   ]
  },
  {
   "cell_type": "code",
   "execution_count": 25,
   "id": "3e9f2b17",
   "metadata": {},
   "outputs": [],
   "source": [
    "payload_byte_data['Stream Index'] = streams_"
   ]
  },
  {
   "cell_type": "code",
   "execution_count": 26,
   "id": "a5d4199b",
   "metadata": {},
   "outputs": [],
   "source": [
    "payload_byte_data['Sequence Number'] = seq_"
   ]
  },
  {
   "cell_type": "code",
   "execution_count": 27,
   "id": "7deda819",
   "metadata": {},
   "outputs": [],
   "source": [
    "payload_byte_data['Eth Header'] = eth_"
   ]
  },
  {
   "cell_type": "code",
   "execution_count": 28,
   "id": "2da4aefc",
   "metadata": {},
   "outputs": [],
   "source": [
    "payload_byte_data['IP Header'] = ip_"
   ]
  },
  {
   "cell_type": "code",
   "execution_count": 29,
   "id": "5267db1a",
   "metadata": {},
   "outputs": [],
   "source": [
    "payload_byte_data['TCP Header'] = tcp_"
   ]
  },
  {
   "cell_type": "code",
   "execution_count": 30,
   "id": "50145dad",
   "metadata": {},
   "outputs": [],
   "source": [
    "payload_byte_data['Payload'] = payload_"
   ]
  },
  {
   "cell_type": "code",
   "execution_count": 31,
   "id": "0644d4fd",
   "metadata": {},
   "outputs": [],
   "source": [
    "payload_byte_data['Direction'] = direction_"
   ]
  },
  {
   "cell_type": "code",
   "execution_count": 32,
   "id": "8e0ace80",
   "metadata": {},
   "outputs": [],
   "source": [
    "payload_byte_data['Binary Label'] = b_labels_"
   ]
  },
  {
   "cell_type": "code",
   "execution_count": 33,
   "id": "49ce9a5d",
   "metadata": {},
   "outputs": [],
   "source": [
    "payload_byte_data['Class Label'] = d_labels_"
   ]
  },
  {
   "cell_type": "code",
   "execution_count": null,
   "id": "0b71a9f6",
   "metadata": {},
   "outputs": [],
   "source": []
  },
  {
   "cell_type": "code",
   "execution_count": 34,
   "id": "d5e1eed5",
   "metadata": {},
   "outputs": [],
   "source": [
    "payload_byte_data = payload_byte_data.dropna()"
   ]
  },
  {
   "cell_type": "code",
   "execution_count": 35,
   "id": "8b67fdaf",
   "metadata": {},
   "outputs": [],
   "source": [
    "payload_byte_data = payload_byte_data.reset_index(drop = True)"
   ]
  },
  {
   "cell_type": "code",
   "execution_count": 36,
   "id": "5d160996",
   "metadata": {},
   "outputs": [],
   "source": [
    "payload_byte_data = payload_byte_data.astype({\"Source Port\": int, \"Dst Port\": int})"
   ]
  },
  {
   "cell_type": "code",
   "execution_count": 37,
   "id": "f736c9ab",
   "metadata": {},
   "outputs": [
    {
     "data": {
      "text/html": [
       "<div>\n",
       "<style scoped>\n",
       "    .dataframe tbody tr th:only-of-type {\n",
       "        vertical-align: middle;\n",
       "    }\n",
       "\n",
       "    .dataframe tbody tr th {\n",
       "        vertical-align: top;\n",
       "    }\n",
       "\n",
       "    .dataframe thead th {\n",
       "        text-align: right;\n",
       "    }\n",
       "</style>\n",
       "<table border=\"1\" class=\"dataframe\">\n",
       "  <thead>\n",
       "    <tr style=\"text-align: right;\">\n",
       "      <th></th>\n",
       "      <th>Epoch Time</th>\n",
       "      <th>Source IP</th>\n",
       "      <th>Dst IP</th>\n",
       "      <th>Source Port</th>\n",
       "      <th>Dst Port</th>\n",
       "      <th>Stream Index</th>\n",
       "      <th>Sequence Number</th>\n",
       "      <th>Eth Header</th>\n",
       "      <th>IP Header</th>\n",
       "      <th>TCP Header</th>\n",
       "      <th>Payload</th>\n",
       "      <th>Direction</th>\n",
       "      <th>Binary Label</th>\n",
       "      <th>Class Label</th>\n",
       "    </tr>\n",
       "  </thead>\n",
       "  <tbody>\n",
       "    <tr>\n",
       "      <th>8052436</th>\n",
       "      <td>1499454300.224545000</td>\n",
       "      <td>192.168.10.50</td>\n",
       "      <td>172.16.0.1</td>\n",
       "      <td>80</td>\n",
       "      <td>65483</td>\n",
       "      <td>280737</td>\n",
       "      <td>4381</td>\n",
       "      <td>00c1b114eb310019b90a69f10800</td>\n",
       "      <td>45001c57e4c240004006c2f2c0a80a32ac100001</td>\n",
       "      <td>0050ffcb67a3fcb949e931bc501800e593350000</td>\n",
       "      <td>2020202020203c6120687265663d222373636f7065223e...</td>\n",
       "      <td>unknown</td>\n",
       "      <td>0.0</td>\n",
       "      <td>0.0</td>\n",
       "    </tr>\n",
       "    <tr>\n",
       "      <th>8052437</th>\n",
       "      <td>1499454300.224548000</td>\n",
       "      <td>192.168.10.50</td>\n",
       "      <td>172.16.0.1</td>\n",
       "      <td>80</td>\n",
       "      <td>65483</td>\n",
       "      <td>280737</td>\n",
       "      <td>11596</td>\n",
       "      <td>00c1b114eb310019b90a69f10800</td>\n",
       "      <td>45000028e4c740004006df1cc0a80a32ac100001</td>\n",
       "      <td>0050ffcb67a418e849e931bc501100e53bb50000</td>\n",
       "      <td>000000000000</td>\n",
       "      <td>unknown</td>\n",
       "      <td>0.0</td>\n",
       "      <td>0.0</td>\n",
       "    </tr>\n",
       "    <tr>\n",
       "      <th>8052438</th>\n",
       "      <td>1499454300.224610000</td>\n",
       "      <td>192.168.10.50</td>\n",
       "      <td>172.16.0.1</td>\n",
       "      <td>80</td>\n",
       "      <td>65484</td>\n",
       "      <td>280738</td>\n",
       "      <td>1</td>\n",
       "      <td>00c1b114eb310019b90a69f10800</td>\n",
       "      <td>45002d7356e9400040063fb0c0a80a32ac100001</td>\n",
       "      <td>0050ffcc76d259cb355a61d7501800e5a4510000</td>\n",
       "      <td>485454502f312e3120323030204f4b0d0a446174653a20...</td>\n",
       "      <td>unknown</td>\n",
       "      <td>0.0</td>\n",
       "      <td>0.0</td>\n",
       "    </tr>\n",
       "    <tr>\n",
       "      <th>8052439</th>\n",
       "      <td>1499454300.224615000</td>\n",
       "      <td>192.168.10.50</td>\n",
       "      <td>172.16.0.1</td>\n",
       "      <td>80</td>\n",
       "      <td>65484</td>\n",
       "      <td>280738</td>\n",
       "      <td>11596</td>\n",
       "      <td>00c1b114eb310019b90a69f10800</td>\n",
       "      <td>4500002856f1400040066cf3c0a80a32ac100001</td>\n",
       "      <td>0050ffcc76d28716355a61d7501100e5a2cb0000</td>\n",
       "      <td>000000000000</td>\n",
       "      <td>unknown</td>\n",
       "      <td>0.0</td>\n",
       "      <td>0.0</td>\n",
       "    </tr>\n",
       "    <tr>\n",
       "      <th>8052440</th>\n",
       "      <td>1499454300.224733000</td>\n",
       "      <td>192.168.10.50</td>\n",
       "      <td>172.16.0.1</td>\n",
       "      <td>80</td>\n",
       "      <td>65485</td>\n",
       "      <td>280739</td>\n",
       "      <td>1</td>\n",
       "      <td>00c1b114eb310019b90a69f10800</td>\n",
       "      <td>45002d7308ba400040068ddfc0a80a32ac100001</td>\n",
       "      <td>0050ffcd6e6e079a800de44c501800e5a4510000</td>\n",
       "      <td>485454502f312e3120323030204f4b0d0a446174653a20...</td>\n",
       "      <td>unknown</td>\n",
       "      <td>0.0</td>\n",
       "      <td>0.0</td>\n",
       "    </tr>\n",
       "  </tbody>\n",
       "</table>\n",
       "</div>"
      ],
      "text/plain": [
       "                   Epoch Time      Source IP      Dst IP  Source Port  \\\n",
       "8052436  1499454300.224545000  192.168.10.50  172.16.0.1           80   \n",
       "8052437  1499454300.224548000  192.168.10.50  172.16.0.1           80   \n",
       "8052438  1499454300.224610000  192.168.10.50  172.16.0.1           80   \n",
       "8052439  1499454300.224615000  192.168.10.50  172.16.0.1           80   \n",
       "8052440  1499454300.224733000  192.168.10.50  172.16.0.1           80   \n",
       "\n",
       "         Dst Port Stream Index Sequence Number                    Eth Header  \\\n",
       "8052436     65483       280737            4381  00c1b114eb310019b90a69f10800   \n",
       "8052437     65483       280737           11596  00c1b114eb310019b90a69f10800   \n",
       "8052438     65484       280738               1  00c1b114eb310019b90a69f10800   \n",
       "8052439     65484       280738           11596  00c1b114eb310019b90a69f10800   \n",
       "8052440     65485       280739               1  00c1b114eb310019b90a69f10800   \n",
       "\n",
       "                                        IP Header  \\\n",
       "8052436  45001c57e4c240004006c2f2c0a80a32ac100001   \n",
       "8052437  45000028e4c740004006df1cc0a80a32ac100001   \n",
       "8052438  45002d7356e9400040063fb0c0a80a32ac100001   \n",
       "8052439  4500002856f1400040066cf3c0a80a32ac100001   \n",
       "8052440  45002d7308ba400040068ddfc0a80a32ac100001   \n",
       "\n",
       "                                       TCP Header  \\\n",
       "8052436  0050ffcb67a3fcb949e931bc501800e593350000   \n",
       "8052437  0050ffcb67a418e849e931bc501100e53bb50000   \n",
       "8052438  0050ffcc76d259cb355a61d7501800e5a4510000   \n",
       "8052439  0050ffcc76d28716355a61d7501100e5a2cb0000   \n",
       "8052440  0050ffcd6e6e079a800de44c501800e5a4510000   \n",
       "\n",
       "                                                   Payload Direction  \\\n",
       "8052436  2020202020203c6120687265663d222373636f7065223e...   unknown   \n",
       "8052437                                       000000000000   unknown   \n",
       "8052438  485454502f312e3120323030204f4b0d0a446174653a20...   unknown   \n",
       "8052439                                       000000000000   unknown   \n",
       "8052440  485454502f312e3120323030204f4b0d0a446174653a20...   unknown   \n",
       "\n",
       "         Binary Label  Class Label  \n",
       "8052436           0.0          0.0  \n",
       "8052437           0.0          0.0  \n",
       "8052438           0.0          0.0  \n",
       "8052439           0.0          0.0  \n",
       "8052440           0.0          0.0  "
      ]
     },
     "execution_count": 37,
     "metadata": {},
     "output_type": "execute_result"
    }
   ],
   "source": [
    "payload_byte_data.tail()"
   ]
  },
  {
   "cell_type": "code",
   "execution_count": null,
   "id": "e5200264",
   "metadata": {},
   "outputs": [],
   "source": []
  },
  {
   "cell_type": "code",
   "execution_count": null,
   "id": "5ae319aa",
   "metadata": {},
   "outputs": [],
   "source": []
  },
  {
   "cell_type": "code",
   "execution_count": 38,
   "id": "bbbc76ff",
   "metadata": {},
   "outputs": [
    {
     "data": {
      "text/plain": [
       "8052441"
      ]
     },
     "execution_count": 38,
     "metadata": {},
     "output_type": "execute_result"
    }
   ],
   "source": [
    "len(payload_byte_data)"
   ]
  },
  {
   "cell_type": "code",
   "execution_count": 39,
   "id": "b4a24fb5",
   "metadata": {},
   "outputs": [
    {
     "data": {
      "text/plain": [
       "unknown    6453606\n",
       "fwd         922153\n",
       "bwd         676682\n",
       "Name: Direction, dtype: int64"
      ]
     },
     "execution_count": 39,
     "metadata": {},
     "output_type": "execute_result"
    }
   ],
   "source": [
    "payload_byte_data['Direction'].value_counts()"
   ]
  },
  {
   "cell_type": "code",
   "execution_count": 40,
   "id": "a47b671a",
   "metadata": {},
   "outputs": [
    {
     "data": {
      "text/plain": [
       "Direction  Class Label\n",
       "bwd        14.0            510922\n",
       "           13.0            160677\n",
       "           12.0              5083\n",
       "fwd        14.0            754735\n",
       "           13.0            162630\n",
       "           12.0              4788\n",
       "unknown    0.0            6453606\n",
       "Name: Class Label, dtype: int64"
      ]
     },
     "execution_count": 40,
     "metadata": {},
     "output_type": "execute_result"
    }
   ],
   "source": [
    "payload_byte_data.groupby('Direction')['Class Label'].value_counts()"
   ]
  },
  {
   "cell_type": "code",
   "execution_count": 41,
   "id": "2a63491c",
   "metadata": {},
   "outputs": [],
   "source": [
    "df_b = payload_byte_data[payload_byte_data['Class Label']==0]"
   ]
  },
  {
   "cell_type": "code",
   "execution_count": 42,
   "id": "ed4dbae9",
   "metadata": {},
   "outputs": [],
   "source": [
    "df_a = payload_byte_data[payload_byte_data['Class Label'] != 0]"
   ]
  },
  {
   "cell_type": "code",
   "execution_count": 43,
   "id": "1a2e0be2",
   "metadata": {},
   "outputs": [],
   "source": [
    "df_b = df_b.reset_index(drop = True)"
   ]
  },
  {
   "cell_type": "code",
   "execution_count": 44,
   "id": "915a3ef7",
   "metadata": {},
   "outputs": [],
   "source": [
    "df_a = df_a.reset_index(drop = True)"
   ]
  },
  {
   "cell_type": "code",
   "execution_count": null,
   "id": "9bb78162",
   "metadata": {},
   "outputs": [],
   "source": []
  },
  {
   "cell_type": "code",
   "execution_count": 45,
   "id": "560c4732",
   "metadata": {},
   "outputs": [],
   "source": [
    "df1 = pd.read_csv('troubleshooting dataset/Friday-WorkingHours.csv')"
   ]
  },
  {
   "cell_type": "code",
   "execution_count": 46,
   "id": "cacb9331",
   "metadata": {},
   "outputs": [],
   "source": [
    "def df_prep_frwrd_prts(df1):\n",
    "    \n",
    "    df1 = df1[df1['Protocol'] ==6]\n",
    "    df1 = df1[df1['Label'] =='BENIGN']\n",
    "    #df1 = df1[['Src IP', 'Dst IP', 'Src Port', 'Dst Port', 'Timestamp','Label']].copy()\n",
    "    \n",
    "    #unique src prt and dst prt\n",
    "    srcprt_list = df1['Src Port'].unique()\n",
    "    dstprt_list = df1['Dst Port'].unique()\n",
    "    print(len(srcprt_list))\n",
    "    print('-----------')\n",
    "    print(len(dstprt_list))\n",
    "    print('-----------')\n",
    "    intersect = set(srcprt_list).intersection(dstprt_list)\n",
    "    print(len(intersect))\n",
    "    print('-----------')\n",
    "    #print(intersect)\n",
    "    \n",
    "    \n",
    "    df1 = df1[~df1['Src Port'].isin(intersect)]\n",
    "    \n",
    "    #calculate the epoch time from timestamp\n",
    "    #df1['epoch']=df1['Timestamp'].apply(lambda x: (datetime.strptime(x, '%d/%m/%Y %H:%M')) if x.count(':') == 1 else  (datetime.strptime(x, '%d/%m/%Y %H:%M:%S')))\n",
    "    #df1['epoch']=df1['epoch'].apply(lambda x: int((datetime(x.year,x.month,x.day,(x.hour+12),x.minute,x.second)).timestamp()) if (x.hour>=1)&(x.hour<=7) else int((datetime(x.year,x.month,x.day,x.hour,x.minute,x.second)).timestamp()))\n",
    "    \n",
    "    df1 = df1.reset_index(drop=True)\n",
    "    \n",
    "    return df1"
   ]
  },
  {
   "cell_type": "code",
   "execution_count": 47,
   "id": "6f17211c",
   "metadata": {},
   "outputs": [
    {
     "name": "stdout",
     "output_type": "stream",
     "text": [
      "32086\n",
      "-----------\n",
      "1570\n",
      "-----------\n",
      "911\n",
      "-----------\n"
     ]
    }
   ],
   "source": [
    "df1 = df_prep_frwrd_prts(df1)"
   ]
  },
  {
   "cell_type": "code",
   "execution_count": 48,
   "id": "a44ec4e3",
   "metadata": {},
   "outputs": [],
   "source": [
    "df_b_fwd = df_b[df_b['Source Port'].isin(df1['Src Port'].unique())] "
   ]
  },
  {
   "cell_type": "code",
   "execution_count": 49,
   "id": "7d6b6fee",
   "metadata": {},
   "outputs": [],
   "source": [
    "df_b_bwd = df_b[df_b['Dst Port'].isin(df1['Src Port'].unique())] "
   ]
  },
  {
   "cell_type": "code",
   "execution_count": 50,
   "id": "041a5a67",
   "metadata": {},
   "outputs": [
    {
     "name": "stderr",
     "output_type": "stream",
     "text": [
      "C:\\Users\\Jalal\\AppData\\Local\\Temp\\ipykernel_22404\\3752041767.py:1: SettingWithCopyWarning: \n",
      "A value is trying to be set on a copy of a slice from a DataFrame.\n",
      "Try using .loc[row_indexer,col_indexer] = value instead\n",
      "\n",
      "See the caveats in the documentation: https://pandas.pydata.org/pandas-docs/stable/user_guide/indexing.html#returning-a-view-versus-a-copy\n",
      "  df_b_fwd['Direction'] = df_b_fwd['Direction'].replace(['unknown'], 'fwd')\n"
     ]
    }
   ],
   "source": [
    "df_b_fwd['Direction'] = df_b_fwd['Direction'].replace(['unknown'], 'fwd')"
   ]
  },
  {
   "cell_type": "code",
   "execution_count": 51,
   "id": "5a3e65cb",
   "metadata": {},
   "outputs": [
    {
     "name": "stderr",
     "output_type": "stream",
     "text": [
      "C:\\Users\\Jalal\\AppData\\Local\\Temp\\ipykernel_22404\\3888835064.py:1: SettingWithCopyWarning: \n",
      "A value is trying to be set on a copy of a slice from a DataFrame.\n",
      "Try using .loc[row_indexer,col_indexer] = value instead\n",
      "\n",
      "See the caveats in the documentation: https://pandas.pydata.org/pandas-docs/stable/user_guide/indexing.html#returning-a-view-versus-a-copy\n",
      "  df_b_bwd['Direction'] = df_b_bwd['Direction'].replace(['unknown'], 'bwd')\n"
     ]
    }
   ],
   "source": [
    "df_b_bwd['Direction'] = df_b_bwd['Direction'].replace(['unknown'], 'bwd')"
   ]
  },
  {
   "cell_type": "code",
   "execution_count": 52,
   "id": "d279b95e",
   "metadata": {},
   "outputs": [
    {
     "data": {
      "text/html": [
       "<div>\n",
       "<style scoped>\n",
       "    .dataframe tbody tr th:only-of-type {\n",
       "        vertical-align: middle;\n",
       "    }\n",
       "\n",
       "    .dataframe tbody tr th {\n",
       "        vertical-align: top;\n",
       "    }\n",
       "\n",
       "    .dataframe thead th {\n",
       "        text-align: right;\n",
       "    }\n",
       "</style>\n",
       "<table border=\"1\" class=\"dataframe\">\n",
       "  <thead>\n",
       "    <tr style=\"text-align: right;\">\n",
       "      <th></th>\n",
       "      <th>Epoch Time</th>\n",
       "      <th>Source IP</th>\n",
       "      <th>Dst IP</th>\n",
       "      <th>Source Port</th>\n",
       "      <th>Dst Port</th>\n",
       "      <th>Stream Index</th>\n",
       "      <th>Sequence Number</th>\n",
       "      <th>Eth Header</th>\n",
       "      <th>IP Header</th>\n",
       "      <th>TCP Header</th>\n",
       "      <th>Payload</th>\n",
       "      <th>Direction</th>\n",
       "      <th>Binary Label</th>\n",
       "      <th>Class Label</th>\n",
       "    </tr>\n",
       "  </thead>\n",
       "  <tbody>\n",
       "    <tr>\n",
       "      <th>2</th>\n",
       "      <td>1499428790.315459000</td>\n",
       "      <td>192.168.10.3</td>\n",
       "      <td>192.168.10.50</td>\n",
       "      <td>3268</td>\n",
       "      <td>56108</td>\n",
       "      <td>0</td>\n",
       "      <td>1</td>\n",
       "      <td>0019b90a69f11866da9be37d0800</td>\n",
       "      <td>4500007c5ff6400080060500c0a80a03c0a80a32</td>\n",
       "      <td>0cc4db2c3630dfa96a70feef8018081ecac30000010108...</td>\n",
       "      <td>00000044604206092a864886f712010202020111001000...</td>\n",
       "      <td>bwd</td>\n",
       "      <td>0.0</td>\n",
       "      <td>0.0</td>\n",
       "    </tr>\n",
       "    <tr>\n",
       "      <th>3</th>\n",
       "      <td>1499428790.315463000</td>\n",
       "      <td>192.168.10.3</td>\n",
       "      <td>192.168.10.50</td>\n",
       "      <td>3268</td>\n",
       "      <td>56108</td>\n",
       "      <td>0</td>\n",
       "      <td>1</td>\n",
       "      <td>0019b90a69f11866da9be37d0800</td>\n",
       "      <td>4500007c5ff6400080060500c0a80a03c0a80a32</td>\n",
       "      <td>0cc4db2c3630dfa96a70feef8018081ecac30000010108...</td>\n",
       "      <td>00000044604206092a864886f712010202020111001000...</td>\n",
       "      <td>bwd</td>\n",
       "      <td>0.0</td>\n",
       "      <td>0.0</td>\n",
       "    </tr>\n",
       "    <tr>\n",
       "      <th>8</th>\n",
       "      <td>1499428790.316526000</td>\n",
       "      <td>192.168.10.3</td>\n",
       "      <td>192.168.10.50</td>\n",
       "      <td>389</td>\n",
       "      <td>42144</td>\n",
       "      <td>1</td>\n",
       "      <td>1</td>\n",
       "      <td>0019b90a69f11866da9be37d0800</td>\n",
       "      <td>450001705ff740008006040bc0a80a03c0a80a32</td>\n",
       "      <td>0185a4a0ff37c390541759938018081e0c130000010108...</td>\n",
       "      <td>000001386082013406092a864886f71201020202011100...</td>\n",
       "      <td>bwd</td>\n",
       "      <td>0.0</td>\n",
       "      <td>0.0</td>\n",
       "    </tr>\n",
       "    <tr>\n",
       "      <th>9</th>\n",
       "      <td>1499428790.316531000</td>\n",
       "      <td>192.168.10.3</td>\n",
       "      <td>192.168.10.50</td>\n",
       "      <td>389</td>\n",
       "      <td>42144</td>\n",
       "      <td>1</td>\n",
       "      <td>1</td>\n",
       "      <td>0019b90a69f11866da9be37d0800</td>\n",
       "      <td>450001705ff740008006040bc0a80a03c0a80a32</td>\n",
       "      <td>0185a4a0ff37c390541759938018081e0c130000010108...</td>\n",
       "      <td>000001386082013406092a864886f71201020202011100...</td>\n",
       "      <td>bwd</td>\n",
       "      <td>0.0</td>\n",
       "      <td>0.0</td>\n",
       "    </tr>\n",
       "    <tr>\n",
       "      <th>14</th>\n",
       "      <td>1499428806.714219000</td>\n",
       "      <td>192.168.10.3</td>\n",
       "      <td>192.168.10.50</td>\n",
       "      <td>3268</td>\n",
       "      <td>56108</td>\n",
       "      <td>0</td>\n",
       "      <td>73</td>\n",
       "      <td>0019b90a69f11866da9be37d0800</td>\n",
       "      <td>4500007c5ff84000800604fec0a80a03c0a80a32</td>\n",
       "      <td>0cc4db2c3630dff16a7100828018081cdcfc0000010108...</td>\n",
       "      <td>00000044604206092a864886f712010202020111001000...</td>\n",
       "      <td>bwd</td>\n",
       "      <td>0.0</td>\n",
       "      <td>0.0</td>\n",
       "    </tr>\n",
       "    <tr>\n",
       "      <th>...</th>\n",
       "      <td>...</td>\n",
       "      <td>...</td>\n",
       "      <td>...</td>\n",
       "      <td>...</td>\n",
       "      <td>...</td>\n",
       "      <td>...</td>\n",
       "      <td>...</td>\n",
       "      <td>...</td>\n",
       "      <td>...</td>\n",
       "      <td>...</td>\n",
       "      <td>...</td>\n",
       "      <td>...</td>\n",
       "      <td>...</td>\n",
       "      <td>...</td>\n",
       "    </tr>\n",
       "    <tr>\n",
       "      <th>6453484</th>\n",
       "      <td>1499454300.212460000</td>\n",
       "      <td>172.217.12.205</td>\n",
       "      <td>192.168.10.14</td>\n",
       "      <td>443</td>\n",
       "      <td>58093</td>\n",
       "      <td>280715</td>\n",
       "      <td>3982</td>\n",
       "      <td>b8ac6f3607ee00c1b114eb310800</td>\n",
       "      <td>450000f7dfe60000340621beacd90ccdc0a80a0e</td>\n",
       "      <td>01bbe2eda84cbf47d787ec2350180169decb0000</td>\n",
       "      <td>17030300ca0000000000000003b9423a0b5901a1d34005...</td>\n",
       "      <td>bwd</td>\n",
       "      <td>0.0</td>\n",
       "      <td>0.0</td>\n",
       "    </tr>\n",
       "    <tr>\n",
       "      <th>6453486</th>\n",
       "      <td>1499454300.212688000</td>\n",
       "      <td>172.217.12.205</td>\n",
       "      <td>192.168.10.14</td>\n",
       "      <td>443</td>\n",
       "      <td>58093</td>\n",
       "      <td>280715</td>\n",
       "      <td>4189</td>\n",
       "      <td>b8ac6f3607ee00c1b114eb310800</td>\n",
       "      <td>4500019ddfe7000034062117acd90ccdc0a80a0e</td>\n",
       "      <td>01bbe2eda84cc016d787ec2350180169e0870000</td>\n",
       "      <td>1703030170000000000000000427cfa8c91d47cda4d459...</td>\n",
       "      <td>bwd</td>\n",
       "      <td>0.0</td>\n",
       "      <td>0.0</td>\n",
       "    </tr>\n",
       "    <tr>\n",
       "      <th>6453488</th>\n",
       "      <td>1499454300.212736000</td>\n",
       "      <td>172.217.12.205</td>\n",
       "      <td>192.168.10.14</td>\n",
       "      <td>443</td>\n",
       "      <td>58093</td>\n",
       "      <td>280715</td>\n",
       "      <td>4562</td>\n",
       "      <td>b8ac6f3607ee00c1b114eb310800</td>\n",
       "      <td>450000acdfe8000034062207acd90ccdc0a80a0e</td>\n",
       "      <td>01bbe2eda84cc18bd787ec235018016903ef0000</td>\n",
       "      <td>170303007f000000000000000529465b5b09e2c6a7bf19...</td>\n",
       "      <td>bwd</td>\n",
       "      <td>0.0</td>\n",
       "      <td>0.0</td>\n",
       "    </tr>\n",
       "    <tr>\n",
       "      <th>6453489</th>\n",
       "      <td>1499454300.212738000</td>\n",
       "      <td>172.217.12.205</td>\n",
       "      <td>192.168.10.14</td>\n",
       "      <td>443</td>\n",
       "      <td>58093</td>\n",
       "      <td>280715</td>\n",
       "      <td>4694</td>\n",
       "      <td>b8ac6f3607ee00c1b114eb310800</td>\n",
       "      <td>45000056dfe900003406225cacd90ccdc0a80a0e</td>\n",
       "      <td>01bbe2eda84cc20fd787ec2350180169e55a0000</td>\n",
       "      <td>170303002900000000000000066521f26029ac678a3244...</td>\n",
       "      <td>bwd</td>\n",
       "      <td>0.0</td>\n",
       "      <td>0.0</td>\n",
       "    </tr>\n",
       "    <tr>\n",
       "      <th>6453491</th>\n",
       "      <td>1499454300.214231000</td>\n",
       "      <td>93.184.216.172</td>\n",
       "      <td>192.168.10.14</td>\n",
       "      <td>443</td>\n",
       "      <td>58096</td>\n",
       "      <td>280754</td>\n",
       "      <td>5501</td>\n",
       "      <td>b8ac6f3607ee00c1b114eb310800</td>\n",
       "      <td>4500012a1b104000370626a35db8d8acc0a80a0e</td>\n",
       "      <td>01bbe2f014324df0b28987bb501801203b4a0000</td>\n",
       "      <td>16030300ca040000c60000012c00c0a905c333f9859839...</td>\n",
       "      <td>bwd</td>\n",
       "      <td>0.0</td>\n",
       "      <td>0.0</td>\n",
       "    </tr>\n",
       "  </tbody>\n",
       "</table>\n",
       "<p>1950805 rows × 14 columns</p>\n",
       "</div>"
      ],
      "text/plain": [
       "                   Epoch Time       Source IP         Dst IP  Source Port  \\\n",
       "2        1499428790.315459000    192.168.10.3  192.168.10.50         3268   \n",
       "3        1499428790.315463000    192.168.10.3  192.168.10.50         3268   \n",
       "8        1499428790.316526000    192.168.10.3  192.168.10.50          389   \n",
       "9        1499428790.316531000    192.168.10.3  192.168.10.50          389   \n",
       "14       1499428806.714219000    192.168.10.3  192.168.10.50         3268   \n",
       "...                       ...             ...            ...          ...   \n",
       "6453484  1499454300.212460000  172.217.12.205  192.168.10.14          443   \n",
       "6453486  1499454300.212688000  172.217.12.205  192.168.10.14          443   \n",
       "6453488  1499454300.212736000  172.217.12.205  192.168.10.14          443   \n",
       "6453489  1499454300.212738000  172.217.12.205  192.168.10.14          443   \n",
       "6453491  1499454300.214231000  93.184.216.172  192.168.10.14          443   \n",
       "\n",
       "         Dst Port Stream Index Sequence Number                    Eth Header  \\\n",
       "2           56108            0               1  0019b90a69f11866da9be37d0800   \n",
       "3           56108            0               1  0019b90a69f11866da9be37d0800   \n",
       "8           42144            1               1  0019b90a69f11866da9be37d0800   \n",
       "9           42144            1               1  0019b90a69f11866da9be37d0800   \n",
       "14          56108            0              73  0019b90a69f11866da9be37d0800   \n",
       "...           ...          ...             ...                           ...   \n",
       "6453484     58093       280715            3982  b8ac6f3607ee00c1b114eb310800   \n",
       "6453486     58093       280715            4189  b8ac6f3607ee00c1b114eb310800   \n",
       "6453488     58093       280715            4562  b8ac6f3607ee00c1b114eb310800   \n",
       "6453489     58093       280715            4694  b8ac6f3607ee00c1b114eb310800   \n",
       "6453491     58096       280754            5501  b8ac6f3607ee00c1b114eb310800   \n",
       "\n",
       "                                        IP Header  \\\n",
       "2        4500007c5ff6400080060500c0a80a03c0a80a32   \n",
       "3        4500007c5ff6400080060500c0a80a03c0a80a32   \n",
       "8        450001705ff740008006040bc0a80a03c0a80a32   \n",
       "9        450001705ff740008006040bc0a80a03c0a80a32   \n",
       "14       4500007c5ff84000800604fec0a80a03c0a80a32   \n",
       "...                                           ...   \n",
       "6453484  450000f7dfe60000340621beacd90ccdc0a80a0e   \n",
       "6453486  4500019ddfe7000034062117acd90ccdc0a80a0e   \n",
       "6453488  450000acdfe8000034062207acd90ccdc0a80a0e   \n",
       "6453489  45000056dfe900003406225cacd90ccdc0a80a0e   \n",
       "6453491  4500012a1b104000370626a35db8d8acc0a80a0e   \n",
       "\n",
       "                                                TCP Header  \\\n",
       "2        0cc4db2c3630dfa96a70feef8018081ecac30000010108...   \n",
       "3        0cc4db2c3630dfa96a70feef8018081ecac30000010108...   \n",
       "8        0185a4a0ff37c390541759938018081e0c130000010108...   \n",
       "9        0185a4a0ff37c390541759938018081e0c130000010108...   \n",
       "14       0cc4db2c3630dff16a7100828018081cdcfc0000010108...   \n",
       "...                                                    ...   \n",
       "6453484           01bbe2eda84cbf47d787ec2350180169decb0000   \n",
       "6453486           01bbe2eda84cc016d787ec2350180169e0870000   \n",
       "6453488           01bbe2eda84cc18bd787ec235018016903ef0000   \n",
       "6453489           01bbe2eda84cc20fd787ec2350180169e55a0000   \n",
       "6453491           01bbe2f014324df0b28987bb501801203b4a0000   \n",
       "\n",
       "                                                   Payload Direction  \\\n",
       "2        00000044604206092a864886f712010202020111001000...       bwd   \n",
       "3        00000044604206092a864886f712010202020111001000...       bwd   \n",
       "8        000001386082013406092a864886f71201020202011100...       bwd   \n",
       "9        000001386082013406092a864886f71201020202011100...       bwd   \n",
       "14       00000044604206092a864886f712010202020111001000...       bwd   \n",
       "...                                                    ...       ...   \n",
       "6453484  17030300ca0000000000000003b9423a0b5901a1d34005...       bwd   \n",
       "6453486  1703030170000000000000000427cfa8c91d47cda4d459...       bwd   \n",
       "6453488  170303007f000000000000000529465b5b09e2c6a7bf19...       bwd   \n",
       "6453489  170303002900000000000000066521f26029ac678a3244...       bwd   \n",
       "6453491  16030300ca040000c60000012c00c0a905c333f9859839...       bwd   \n",
       "\n",
       "         Binary Label  Class Label  \n",
       "2                 0.0          0.0  \n",
       "3                 0.0          0.0  \n",
       "8                 0.0          0.0  \n",
       "9                 0.0          0.0  \n",
       "14                0.0          0.0  \n",
       "...               ...          ...  \n",
       "6453484           0.0          0.0  \n",
       "6453486           0.0          0.0  \n",
       "6453488           0.0          0.0  \n",
       "6453489           0.0          0.0  \n",
       "6453491           0.0          0.0  \n",
       "\n",
       "[1950805 rows x 14 columns]"
      ]
     },
     "execution_count": 52,
     "metadata": {},
     "output_type": "execute_result"
    }
   ],
   "source": [
    "df_b_bwd"
   ]
  },
  {
   "cell_type": "code",
   "execution_count": 53,
   "id": "3874d057",
   "metadata": {},
   "outputs": [],
   "source": [
    "df_all = pd.concat([df_a, df_b_fwd , df_b_bwd])"
   ]
  },
  {
   "cell_type": "code",
   "execution_count": 54,
   "id": "d5ad7572",
   "metadata": {},
   "outputs": [],
   "source": [
    "df_all = df_all.reset_index(drop = True)"
   ]
  },
  {
   "cell_type": "code",
   "execution_count": 55,
   "id": "b48155c1",
   "metadata": {},
   "outputs": [
    {
     "data": {
      "text/html": [
       "<div>\n",
       "<style scoped>\n",
       "    .dataframe tbody tr th:only-of-type {\n",
       "        vertical-align: middle;\n",
       "    }\n",
       "\n",
       "    .dataframe tbody tr th {\n",
       "        vertical-align: top;\n",
       "    }\n",
       "\n",
       "    .dataframe thead th {\n",
       "        text-align: right;\n",
       "    }\n",
       "</style>\n",
       "<table border=\"1\" class=\"dataframe\">\n",
       "  <thead>\n",
       "    <tr style=\"text-align: right;\">\n",
       "      <th></th>\n",
       "      <th>Epoch Time</th>\n",
       "      <th>Source IP</th>\n",
       "      <th>Dst IP</th>\n",
       "      <th>Source Port</th>\n",
       "      <th>Dst Port</th>\n",
       "      <th>Stream Index</th>\n",
       "      <th>Sequence Number</th>\n",
       "      <th>Eth Header</th>\n",
       "      <th>IP Header</th>\n",
       "      <th>TCP Header</th>\n",
       "      <th>Payload</th>\n",
       "      <th>Direction</th>\n",
       "      <th>Binary Label</th>\n",
       "      <th>Class Label</th>\n",
       "    </tr>\n",
       "  </thead>\n",
       "  <tbody>\n",
       "    <tr>\n",
       "      <th>0</th>\n",
       "      <td>1499432653.990571000</td>\n",
       "      <td>192.168.10.9</td>\n",
       "      <td>205.174.165.73</td>\n",
       "      <td>1841</td>\n",
       "      <td>8080</td>\n",
       "      <td>13099</td>\n",
       "      <td>0</td>\n",
       "      <td>00c1b114eb31b8ac6f1d1f6c0800</td>\n",
       "      <td>450000346c8f40008006508bc0a80a09cdaea549</td>\n",
       "      <td>07311f905c691851000000008002200075eb0000020405...</td>\n",
       "      <td></td>\n",
       "      <td>fwd</td>\n",
       "      <td>1.0</td>\n",
       "      <td>12.0</td>\n",
       "    </tr>\n",
       "    <tr>\n",
       "      <th>1</th>\n",
       "      <td>1499432653.991397000</td>\n",
       "      <td>205.174.165.73</td>\n",
       "      <td>192.168.10.9</td>\n",
       "      <td>8080</td>\n",
       "      <td>1841</td>\n",
       "      <td>13099</td>\n",
       "      <td>0</td>\n",
       "      <td>b8ac6f1d1f6c00c1b114eb310800</td>\n",
       "      <td>45000034000040003e06ff1acdaea549c0a80a09</td>\n",
       "      <td>1f90073113dd44cb5c69185280127210cb220000020405...</td>\n",
       "      <td></td>\n",
       "      <td>bwd</td>\n",
       "      <td>1.0</td>\n",
       "      <td>12.0</td>\n",
       "    </tr>\n",
       "    <tr>\n",
       "      <th>2</th>\n",
       "      <td>1499432653.991520000</td>\n",
       "      <td>192.168.10.9</td>\n",
       "      <td>205.174.165.73</td>\n",
       "      <td>1841</td>\n",
       "      <td>8080</td>\n",
       "      <td>13099</td>\n",
       "      <td>1</td>\n",
       "      <td>00c1b114eb31b8ac6f1d1f6c0800</td>\n",
       "      <td>450000286c90400080065096c0a80a09cdaea549</td>\n",
       "      <td>07311f905c69185213dd44cc501001007d050000</td>\n",
       "      <td>000000000000</td>\n",
       "      <td>fwd</td>\n",
       "      <td>1.0</td>\n",
       "      <td>12.0</td>\n",
       "    </tr>\n",
       "    <tr>\n",
       "      <th>3</th>\n",
       "      <td>1499432653.992542000</td>\n",
       "      <td>192.168.10.9</td>\n",
       "      <td>205.174.165.73</td>\n",
       "      <td>1841</td>\n",
       "      <td>8080</td>\n",
       "      <td>13099</td>\n",
       "      <td>1</td>\n",
       "      <td>00c1b114eb31b8ac6f1d1f6c0800</td>\n",
       "      <td>450000ea6c91400080064fd3c0a80a09cdaea549</td>\n",
       "      <td>07311f905c69185213dd44cc50180100307c0000</td>\n",
       "      <td>474554202f6170692f706f703f626f7469643d6d697461...</td>\n",
       "      <td>fwd</td>\n",
       "      <td>1.0</td>\n",
       "      <td>12.0</td>\n",
       "    </tr>\n",
       "    <tr>\n",
       "      <th>4</th>\n",
       "      <td>1499432653.993057000</td>\n",
       "      <td>205.174.165.73</td>\n",
       "      <td>192.168.10.9</td>\n",
       "      <td>8080</td>\n",
       "      <td>1841</td>\n",
       "      <td>13099</td>\n",
       "      <td>1</td>\n",
       "      <td>b8ac6f1d1f6c00c1b114eb310800</td>\n",
       "      <td>45000028822a40003e067cfccdaea549c0a80a09</td>\n",
       "      <td>1f90073113dd44cc5c691914501000ed7c560000</td>\n",
       "      <td>000000000000</td>\n",
       "      <td>bwd</td>\n",
       "      <td>1.0</td>\n",
       "      <td>12.0</td>\n",
       "    </tr>\n",
       "    <tr>\n",
       "      <th>...</th>\n",
       "      <td>...</td>\n",
       "      <td>...</td>\n",
       "      <td>...</td>\n",
       "      <td>...</td>\n",
       "      <td>...</td>\n",
       "      <td>...</td>\n",
       "      <td>...</td>\n",
       "      <td>...</td>\n",
       "      <td>...</td>\n",
       "      <td>...</td>\n",
       "      <td>...</td>\n",
       "      <td>...</td>\n",
       "      <td>...</td>\n",
       "      <td>...</td>\n",
       "    </tr>\n",
       "    <tr>\n",
       "      <th>5260217</th>\n",
       "      <td>1499454300.212460000</td>\n",
       "      <td>172.217.12.205</td>\n",
       "      <td>192.168.10.14</td>\n",
       "      <td>443</td>\n",
       "      <td>58093</td>\n",
       "      <td>280715</td>\n",
       "      <td>3982</td>\n",
       "      <td>b8ac6f3607ee00c1b114eb310800</td>\n",
       "      <td>450000f7dfe60000340621beacd90ccdc0a80a0e</td>\n",
       "      <td>01bbe2eda84cbf47d787ec2350180169decb0000</td>\n",
       "      <td>17030300ca0000000000000003b9423a0b5901a1d34005...</td>\n",
       "      <td>bwd</td>\n",
       "      <td>0.0</td>\n",
       "      <td>0.0</td>\n",
       "    </tr>\n",
       "    <tr>\n",
       "      <th>5260218</th>\n",
       "      <td>1499454300.212688000</td>\n",
       "      <td>172.217.12.205</td>\n",
       "      <td>192.168.10.14</td>\n",
       "      <td>443</td>\n",
       "      <td>58093</td>\n",
       "      <td>280715</td>\n",
       "      <td>4189</td>\n",
       "      <td>b8ac6f3607ee00c1b114eb310800</td>\n",
       "      <td>4500019ddfe7000034062117acd90ccdc0a80a0e</td>\n",
       "      <td>01bbe2eda84cc016d787ec2350180169e0870000</td>\n",
       "      <td>1703030170000000000000000427cfa8c91d47cda4d459...</td>\n",
       "      <td>bwd</td>\n",
       "      <td>0.0</td>\n",
       "      <td>0.0</td>\n",
       "    </tr>\n",
       "    <tr>\n",
       "      <th>5260219</th>\n",
       "      <td>1499454300.212736000</td>\n",
       "      <td>172.217.12.205</td>\n",
       "      <td>192.168.10.14</td>\n",
       "      <td>443</td>\n",
       "      <td>58093</td>\n",
       "      <td>280715</td>\n",
       "      <td>4562</td>\n",
       "      <td>b8ac6f3607ee00c1b114eb310800</td>\n",
       "      <td>450000acdfe8000034062207acd90ccdc0a80a0e</td>\n",
       "      <td>01bbe2eda84cc18bd787ec235018016903ef0000</td>\n",
       "      <td>170303007f000000000000000529465b5b09e2c6a7bf19...</td>\n",
       "      <td>bwd</td>\n",
       "      <td>0.0</td>\n",
       "      <td>0.0</td>\n",
       "    </tr>\n",
       "    <tr>\n",
       "      <th>5260220</th>\n",
       "      <td>1499454300.212738000</td>\n",
       "      <td>172.217.12.205</td>\n",
       "      <td>192.168.10.14</td>\n",
       "      <td>443</td>\n",
       "      <td>58093</td>\n",
       "      <td>280715</td>\n",
       "      <td>4694</td>\n",
       "      <td>b8ac6f3607ee00c1b114eb310800</td>\n",
       "      <td>45000056dfe900003406225cacd90ccdc0a80a0e</td>\n",
       "      <td>01bbe2eda84cc20fd787ec2350180169e55a0000</td>\n",
       "      <td>170303002900000000000000066521f26029ac678a3244...</td>\n",
       "      <td>bwd</td>\n",
       "      <td>0.0</td>\n",
       "      <td>0.0</td>\n",
       "    </tr>\n",
       "    <tr>\n",
       "      <th>5260221</th>\n",
       "      <td>1499454300.214231000</td>\n",
       "      <td>93.184.216.172</td>\n",
       "      <td>192.168.10.14</td>\n",
       "      <td>443</td>\n",
       "      <td>58096</td>\n",
       "      <td>280754</td>\n",
       "      <td>5501</td>\n",
       "      <td>b8ac6f3607ee00c1b114eb310800</td>\n",
       "      <td>4500012a1b104000370626a35db8d8acc0a80a0e</td>\n",
       "      <td>01bbe2f014324df0b28987bb501801203b4a0000</td>\n",
       "      <td>16030300ca040000c60000012c00c0a905c333f9859839...</td>\n",
       "      <td>bwd</td>\n",
       "      <td>0.0</td>\n",
       "      <td>0.0</td>\n",
       "    </tr>\n",
       "  </tbody>\n",
       "</table>\n",
       "<p>5260222 rows × 14 columns</p>\n",
       "</div>"
      ],
      "text/plain": [
       "                   Epoch Time       Source IP          Dst IP  Source Port  \\\n",
       "0        1499432653.990571000    192.168.10.9  205.174.165.73         1841   \n",
       "1        1499432653.991397000  205.174.165.73    192.168.10.9         8080   \n",
       "2        1499432653.991520000    192.168.10.9  205.174.165.73         1841   \n",
       "3        1499432653.992542000    192.168.10.9  205.174.165.73         1841   \n",
       "4        1499432653.993057000  205.174.165.73    192.168.10.9         8080   \n",
       "...                       ...             ...             ...          ...   \n",
       "5260217  1499454300.212460000  172.217.12.205   192.168.10.14          443   \n",
       "5260218  1499454300.212688000  172.217.12.205   192.168.10.14          443   \n",
       "5260219  1499454300.212736000  172.217.12.205   192.168.10.14          443   \n",
       "5260220  1499454300.212738000  172.217.12.205   192.168.10.14          443   \n",
       "5260221  1499454300.214231000  93.184.216.172   192.168.10.14          443   \n",
       "\n",
       "         Dst Port Stream Index Sequence Number                    Eth Header  \\\n",
       "0            8080        13099               0  00c1b114eb31b8ac6f1d1f6c0800   \n",
       "1            1841        13099               0  b8ac6f1d1f6c00c1b114eb310800   \n",
       "2            8080        13099               1  00c1b114eb31b8ac6f1d1f6c0800   \n",
       "3            8080        13099               1  00c1b114eb31b8ac6f1d1f6c0800   \n",
       "4            1841        13099               1  b8ac6f1d1f6c00c1b114eb310800   \n",
       "...           ...          ...             ...                           ...   \n",
       "5260217     58093       280715            3982  b8ac6f3607ee00c1b114eb310800   \n",
       "5260218     58093       280715            4189  b8ac6f3607ee00c1b114eb310800   \n",
       "5260219     58093       280715            4562  b8ac6f3607ee00c1b114eb310800   \n",
       "5260220     58093       280715            4694  b8ac6f3607ee00c1b114eb310800   \n",
       "5260221     58096       280754            5501  b8ac6f3607ee00c1b114eb310800   \n",
       "\n",
       "                                        IP Header  \\\n",
       "0        450000346c8f40008006508bc0a80a09cdaea549   \n",
       "1        45000034000040003e06ff1acdaea549c0a80a09   \n",
       "2        450000286c90400080065096c0a80a09cdaea549   \n",
       "3        450000ea6c91400080064fd3c0a80a09cdaea549   \n",
       "4        45000028822a40003e067cfccdaea549c0a80a09   \n",
       "...                                           ...   \n",
       "5260217  450000f7dfe60000340621beacd90ccdc0a80a0e   \n",
       "5260218  4500019ddfe7000034062117acd90ccdc0a80a0e   \n",
       "5260219  450000acdfe8000034062207acd90ccdc0a80a0e   \n",
       "5260220  45000056dfe900003406225cacd90ccdc0a80a0e   \n",
       "5260221  4500012a1b104000370626a35db8d8acc0a80a0e   \n",
       "\n",
       "                                                TCP Header  \\\n",
       "0        07311f905c691851000000008002200075eb0000020405...   \n",
       "1        1f90073113dd44cb5c69185280127210cb220000020405...   \n",
       "2                 07311f905c69185213dd44cc501001007d050000   \n",
       "3                 07311f905c69185213dd44cc50180100307c0000   \n",
       "4                 1f90073113dd44cc5c691914501000ed7c560000   \n",
       "...                                                    ...   \n",
       "5260217           01bbe2eda84cbf47d787ec2350180169decb0000   \n",
       "5260218           01bbe2eda84cc016d787ec2350180169e0870000   \n",
       "5260219           01bbe2eda84cc18bd787ec235018016903ef0000   \n",
       "5260220           01bbe2eda84cc20fd787ec2350180169e55a0000   \n",
       "5260221           01bbe2f014324df0b28987bb501801203b4a0000   \n",
       "\n",
       "                                                   Payload Direction  \\\n",
       "0                                                                fwd   \n",
       "1                                                                bwd   \n",
       "2                                             000000000000       fwd   \n",
       "3        474554202f6170692f706f703f626f7469643d6d697461...       fwd   \n",
       "4                                             000000000000       bwd   \n",
       "...                                                    ...       ...   \n",
       "5260217  17030300ca0000000000000003b9423a0b5901a1d34005...       bwd   \n",
       "5260218  1703030170000000000000000427cfa8c91d47cda4d459...       bwd   \n",
       "5260219  170303007f000000000000000529465b5b09e2c6a7bf19...       bwd   \n",
       "5260220  170303002900000000000000066521f26029ac678a3244...       bwd   \n",
       "5260221  16030300ca040000c60000012c00c0a905c333f9859839...       bwd   \n",
       "\n",
       "         Binary Label  Class Label  \n",
       "0                 1.0         12.0  \n",
       "1                 1.0         12.0  \n",
       "2                 1.0         12.0  \n",
       "3                 1.0         12.0  \n",
       "4                 1.0         12.0  \n",
       "...               ...          ...  \n",
       "5260217           0.0          0.0  \n",
       "5260218           0.0          0.0  \n",
       "5260219           0.0          0.0  \n",
       "5260220           0.0          0.0  \n",
       "5260221           0.0          0.0  \n",
       "\n",
       "[5260222 rows x 14 columns]"
      ]
     },
     "execution_count": 55,
     "metadata": {},
     "output_type": "execute_result"
    }
   ],
   "source": [
    "df_all"
   ]
  },
  {
   "cell_type": "code",
   "execution_count": 56,
   "id": "d07268b0",
   "metadata": {},
   "outputs": [
    {
     "data": {
      "text/plain": [
       "Direction  Class Label\n",
       "bwd        0.0            1950805\n",
       "           14.0            510922\n",
       "           13.0            160677\n",
       "           12.0              5083\n",
       "fwd        0.0            1710582\n",
       "           14.0            754735\n",
       "           13.0            162630\n",
       "           12.0              4788\n",
       "Name: Class Label, dtype: int64"
      ]
     },
     "execution_count": 56,
     "metadata": {},
     "output_type": "execute_result"
    }
   ],
   "source": [
    "df_all.groupby('Direction')['Class Label'].value_counts()"
   ]
  },
  {
   "cell_type": "code",
   "execution_count": 57,
   "id": "1926e03a",
   "metadata": {},
   "outputs": [],
   "source": [
    "df_all.to_pickle(\"Friday_Packet_Level_Data.pkl\")"
   ]
  },
  {
   "cell_type": "code",
   "execution_count": null,
   "id": "4f9e8138",
   "metadata": {},
   "outputs": [],
   "source": []
  }
 ],
 "metadata": {
  "kernelspec": {
   "display_name": "Python 3 (ipykernel)",
   "language": "python",
   "name": "python3"
  },
  "language_info": {
   "codemirror_mode": {
    "name": "ipython",
    "version": 3
   },
   "file_extension": ".py",
   "mimetype": "text/x-python",
   "name": "python",
   "nbconvert_exporter": "python",
   "pygments_lexer": "ipython3",
   "version": "3.9.7"
  }
 },
 "nbformat": 4,
 "nbformat_minor": 5
}
