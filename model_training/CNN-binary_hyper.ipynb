{
 "cells": [
  {
   "cell_type": "code",
   "execution_count": 218,
   "id": "e6c4c0c9",
   "metadata": {},
   "outputs": [],
   "source": [
    "import tensorflow as tf\n",
    "from tensorflow.keras.preprocessing.image import ImageDataGenerator\n",
    "from tensorflow.keras.optimizers import RMSprop, SGD, Adam"
   ]
  },
  {
   "cell_type": "code",
   "execution_count": 219,
   "id": "20adfc73",
   "metadata": {},
   "outputs": [],
   "source": [
    "from matplotlib import pyplot\n",
    "import matplotlib.pyplot as plt\n",
    "from tensorflow.keras.preprocessing import image\n",
    "from sklearn import metrics\n",
    "from sklearn.metrics import confusion_matrix"
   ]
  },
  {
   "cell_type": "code",
   "execution_count": 220,
   "id": "69647243",
   "metadata": {},
   "outputs": [],
   "source": [
    "import numpy as np  \n",
    "from keras.preprocessing.image import ImageDataGenerator, img_to_array, load_img  \n",
    "from keras.models import Sequential  \n",
    "from keras.layers import Dropout, Flatten, Dense  \n",
    "from keras import applications  \n",
    "from keras.utils.np_utils import to_categorical  \n",
    "import matplotlib.pyplot as plt  \n",
    "import matplotlib.image as mpimg\n",
    "%matplotlib inline\n",
    "import math  \n",
    "import cv2  \n",
    "import datetime"
   ]
  },
  {
   "cell_type": "code",
   "execution_count": 221,
   "id": "3159e1f9",
   "metadata": {},
   "outputs": [],
   "source": [
    "import pydot\n",
    "import graphviz\n",
    "import visualkeras\n",
    "from collections import defaultdict\n",
    "from PIL import ImageFont\n",
    "font = ImageFont.truetype(\"arial.ttf\", 12)"
   ]
  },
  {
   "cell_type": "code",
   "execution_count": 222,
   "id": "494eb68d",
   "metadata": {},
   "outputs": [],
   "source": [
    "import keras\n",
    "from keras import models\n",
    "from keras import layers"
   ]
  },
  {
   "cell_type": "code",
   "execution_count": 223,
   "id": "8bf1fa76",
   "metadata": {},
   "outputs": [
    {
     "name": "stdout",
     "output_type": "stream",
     "text": [
      "Name: tensorboard\n",
      "Version: 2.8.0\n",
      "Summary: TensorBoard lets you watch Tensors Flow\n",
      "Home-page: https://github.com/tensorflow/tensorboard\n",
      "Author: Google Inc.\n",
      "Author-email: packages@tensorflow.org\n",
      "License: Apache 2.0\n",
      "Location: c:\\users\\jalal\\anaconda3\\lib\\site-packages\n",
      "Requires: absl-py, google-auth, google-auth-oauthlib, grpcio, markdown, numpy, protobuf, requests, setuptools, tensorboard-data-server, tensorboard-plugin-wit, werkzeug, wheel\n",
      "Required-by: tensorflow\n",
      "Note: you may need to restart the kernel to use updated packages.\n"
     ]
    },
    {
     "name": "stderr",
     "output_type": "stream",
     "text": [
      "WARNING: Ignoring invalid distribution -atplotlib (c:\\users\\jalal\\anaconda3\\lib\\site-packages)\n"
     ]
    }
   ],
   "source": [
    "pip show tensorboard"
   ]
  },
  {
   "cell_type": "code",
   "execution_count": 38,
   "id": "2225e140",
   "metadata": {},
   "outputs": [],
   "source": [
    "#!pip install keras-tuner"
   ]
  },
  {
   "cell_type": "code",
   "execution_count": 39,
   "id": "afdde293",
   "metadata": {},
   "outputs": [],
   "source": [
    "from keras_tuner import RandomSearch\n",
    "import keras_tuner as kt"
   ]
  },
  {
   "cell_type": "code",
   "execution_count": 40,
   "id": "120e18b9",
   "metadata": {},
   "outputs": [],
   "source": [
    "#pip install tensorboard"
   ]
  },
  {
   "cell_type": "code",
   "execution_count": 41,
   "id": "f45ae903",
   "metadata": {},
   "outputs": [],
   "source": [
    "train_data_dir = 'train_binary/'\n",
    "validation_data_dir = 'val_binary/'"
   ]
  },
  {
   "cell_type": "code",
   "execution_count": 42,
   "id": "58f665e6",
   "metadata": {},
   "outputs": [
    {
     "name": "stdout",
     "output_type": "stream",
     "text": [
      "Found 22935 images belonging to 2 classes.\n",
      "Found 4935 images belonging to 2 classes.\n"
     ]
    }
   ],
   "source": [
    "train_datagen = ImageDataGenerator(rescale=1/255)\n",
    "validation_datagen = ImageDataGenerator(rescale=1/255)\n",
    "\n",
    "train_generator = train_datagen.flow_from_directory(\n",
    "        train_data_dir,  \n",
    "        target_size=(15,1486), \n",
    "        batch_size=512,\n",
    "        shuffle=True,\n",
    "        class_mode='binary')\n",
    "\n",
    "validation_generator = validation_datagen.flow_from_directory(\n",
    "        validation_data_dir, \n",
    "        target_size=(15,1486), \n",
    "        batch_size=512,\n",
    "        shuffle=True,\n",
    "        class_mode='binary')"
   ]
  },
  {
   "cell_type": "code",
   "execution_count": 43,
   "id": "71857528",
   "metadata": {},
   "outputs": [],
   "source": [
    "def build_model(hp):\n",
    "    \n",
    "    \n",
    "    hp_active = hp.Choice('activation_function', values = ['relu', 'tanh', 'LeakyReLU'])\n",
    "    model = models.Sequential([\n",
    "\n",
    "    layers.Conv2D(\n",
    "    filters=hp.Int('conv_1_filter', min_value=16, max_value=128, step=16),\n",
    "    kernel_size=hp.Choice('conv_1_kernel', values = [3, 4, 5]),padding='same',\n",
    "    activation= hp_active,\n",
    "    input_shape=(15, 1486, 3)),   \n",
    "    layers.MaxPooling2D((2, 2)),\n",
    "    layers.BatchNormalization(name = 'BatchN1', momentum=0.9),\n",
    "        \n",
    "        \n",
    "    layers.Conv2D(\n",
    "    filters=hp.Int('conv_2_filter', min_value=32, max_value=256, step=32),\n",
    "    kernel_size=hp.Choice('conv_2_kernel', values = [3, 4, 5]),padding='same',\n",
    "    activation=hp_active), \n",
    "    layers.MaxPooling2D((2, 2), padding='same'),\n",
    "    \n",
    "\n",
    "    layers.Conv2D(\n",
    "    filters=hp.Int('conv_3_filter', min_value=32, max_value=512, step=32),\n",
    "    kernel_size=hp.Choice('conv_3_kernel', values = [3, 4, 5]),padding='same',\n",
    "    activation=hp_active),\n",
    "    layers.MaxPooling2D((2, 2), padding='same'),\n",
    "        \n",
    "\n",
    "        \n",
    "    layers.Conv2D(\n",
    "    filters=hp.Int('conv_4_filter', min_value=32, max_value=512, step=32),\n",
    "    kernel_size=hp.Choice('conv_4_kernel', values = [3, 4, 5]),padding='same',\n",
    "    activation=hp_active),\n",
    "    layers.MaxPooling2D((2, 2), padding='same'),\n",
    "      \n",
    "        \n",
    "    layers.Flatten(),\n",
    "        \n",
    "    layers.Dropout(0.1),\n",
    "        \n",
    "    layers.Dense(units=hp.Int('dense_1_units', min_value=16, max_value=128, step=16),\n",
    "    activation= hp_active),\n",
    "    layers.Dropout(0.2),\n",
    "    layers.Dense(1, activation='sigmoid')\n",
    "    ])    \n",
    "    \n",
    "    \n",
    "    \n",
    "    \n",
    "    \n",
    "    \n",
    "    hp_lr = hp.Choice('learning_rate', values=[1e-2, 1e-3, 1e-4])\n",
    "    hp_optimizer = hp.Choice('optimizer', values=['sgd', 'rmsprop', 'adam'])\n",
    "    \n",
    "    if hp_optimizer == 'sgd':\n",
    "        optimizer = SGD(learning_rate=hp_lr)\n",
    "    elif hp_optimizer == 'rmsprop':\n",
    "        optimizer = RMSprop(learning_rate=hp_lr)\n",
    "    else:\n",
    "        optimizer = Adam(learning_rate=hp_lr)\n",
    "\n",
    "    \n",
    "    model.compile(optimizer = optimizer,\n",
    "    loss='binary_crossentropy',\n",
    "    metrics=['accuracy'])\n",
    "    \n",
    "    \n",
    "    return model"
   ]
  },
  {
   "cell_type": "code",
   "execution_count": 44,
   "id": "f4563ccf",
   "metadata": {},
   "outputs": [
    {
     "name": "stdout",
     "output_type": "stream",
     "text": [
      "Trial 22 Complete [00h 25m 34s]\n",
      "val_accuracy: 0.9621074199676514\n",
      "\n",
      "Best val_accuracy So Far: 0.9657548069953918\n",
      "Total elapsed time: 11h 17m 55s\n",
      "\n",
      "Search: Running Trial #23\n",
      "\n",
      "Value             |Best Value So Far |Hyperparameter\n",
      "relu              |relu              |activation_function\n",
      "32                |96                |conv_1_filter\n",
      "3                 |5                 |conv_1_kernel\n",
      "224               |64                |conv_2_filter\n",
      "4                 |5                 |conv_2_kernel\n",
      "416               |192               |conv_3_filter\n",
      "3                 |3                 |conv_3_kernel\n",
      "480               |384               |conv_4_filter\n",
      "3                 |4                 |conv_4_kernel\n",
      "80                |64                |dense_1_units\n",
      "0.01              |0.0001            |learning_rate\n",
      "rmsprop           |rmsprop           |optimizer\n",
      "\n",
      "Epoch 1/100\n",
      " 6/45 [===>..........................] - ETA: 34s - loss: 206569.5625 - accuracy: 0.5140WARNING:tensorflow:Callback method `on_train_batch_end` is slow compared to the batch time (batch time: 0.2940s vs `on_train_batch_end` time: 0.5026s). Check your callbacks.\n",
      "45/45 [==============================] - 65s 1s/step - loss: 27687.2148 - accuracy: 0.5599 - val_loss: 0.6042 - val_accuracy: 0.6732\n",
      "Epoch 2/100\n",
      "45/45 [==============================] - 42s 936ms/step - loss: 0.7476 - accuracy: 0.5189 - val_loss: 0.6931 - val_accuracy: 0.5015\n",
      "Epoch 3/100\n",
      "45/45 [==============================] - 42s 937ms/step - loss: 0.6931 - accuracy: 0.5036 - val_loss: 0.6933 - val_accuracy: 0.5015\n",
      "Epoch 4/100\n",
      "45/45 [==============================] - 42s 935ms/step - loss: 0.6932 - accuracy: 0.5033 - val_loss: 0.6932 - val_accuracy: 0.4985\n",
      "Epoch 5/100\n",
      "45/45 [==============================] - 42s 936ms/step - loss: 0.6932 - accuracy: 0.5027 - val_loss: 0.6932 - val_accuracy: 0.5015\n",
      "Epoch 6/100\n",
      "45/45 [==============================] - 42s 934ms/step - loss: 0.6932 - accuracy: 0.4988 - val_loss: 0.6931 - val_accuracy: 0.5015\n",
      "Epoch 7/100\n",
      "45/45 [==============================] - 42s 933ms/step - loss: 0.6932 - accuracy: 0.5021 - val_loss: 0.6932 - val_accuracy: 0.5015\n",
      "Epoch 8/100\n",
      "45/45 [==============================] - 42s 935ms/step - loss: 0.6932 - accuracy: 0.5022 - val_loss: 0.6932 - val_accuracy: 0.5015\n",
      "Epoch 9/100\n",
      "45/45 [==============================] - 42s 934ms/step - loss: 112.0518 - accuracy: 0.4971 - val_loss: 163.3480 - val_accuracy: 0.4985\n",
      "Epoch 10/100\n",
      "45/45 [==============================] - 42s 933ms/step - loss: 1.3570 - accuracy: 0.5734 - val_loss: 0.6931 - val_accuracy: 0.5015\n",
      "Epoch 11/100\n",
      "45/45 [==============================] - 42s 933ms/step - loss: 0.6931 - accuracy: 0.5040 - val_loss: 0.6932 - val_accuracy: 0.4985\n",
      "Epoch 12/100\n",
      "45/45 [==============================] - 42s 941ms/step - loss: 0.6932 - accuracy: 0.4999 - val_loss: 0.6932 - val_accuracy: 0.5015\n",
      "Epoch 13/100\n",
      "45/45 [==============================] - 42s 934ms/step - loss: 0.6932 - accuracy: 0.5020 - val_loss: 0.6931 - val_accuracy: 0.5015\n",
      "Epoch 14/100\n",
      "45/45 [==============================] - 42s 932ms/step - loss: 0.6932 - accuracy: 0.5020 - val_loss: 0.6932 - val_accuracy: 0.5015\n",
      "Epoch 15/100\n",
      "45/45 [==============================] - 42s 932ms/step - loss: 0.6932 - accuracy: 0.5021 - val_loss: 0.6933 - val_accuracy: 0.5015\n",
      "Epoch 16/100\n",
      "45/45 [==============================] - 42s 932ms/step - loss: 0.6932 - accuracy: 0.5001 - val_loss: 0.6932 - val_accuracy: 0.5015\n",
      "Epoch 17/100\n",
      "45/45 [==============================] - 42s 935ms/step - loss: 0.6932 - accuracy: 0.5018 - val_loss: 0.6931 - val_accuracy: 0.5015\n",
      "Epoch 18/100\n",
      "45/45 [==============================] - 42s 931ms/step - loss: 0.6932 - accuracy: 0.5003 - val_loss: 0.6931 - val_accuracy: 0.5015\n",
      "Epoch 19/100\n",
      "45/45 [==============================] - 42s 935ms/step - loss: 0.6932 - accuracy: 0.5017 - val_loss: 0.6932 - val_accuracy: 0.5015\n",
      "Epoch 20/100\n",
      "45/45 [==============================] - 42s 931ms/step - loss: 0.6932 - accuracy: 0.4984 - val_loss: 0.6931 - val_accuracy: 0.5015\n",
      "Epoch 21/100\n",
      "45/45 [==============================] - 42s 932ms/step - loss: 0.6932 - accuracy: 0.4941 - val_loss: 0.6932 - val_accuracy: 0.4985\n",
      "Epoch 22/100\n",
      "45/45 [==============================] - 42s 940ms/step - loss: 0.6932 - accuracy: 0.5006 - val_loss: 0.6932 - val_accuracy: 0.5015\n",
      "Epoch 23/100\n",
      "45/45 [==============================] - 42s 934ms/step - loss: 0.6932 - accuracy: 0.5027 - val_loss: 0.6931 - val_accuracy: 0.5015\n",
      "Epoch 24/100\n",
      "45/45 [==============================] - 42s 933ms/step - loss: 0.6932 - accuracy: 0.5021 - val_loss: 0.6932 - val_accuracy: 0.5015\n",
      "Epoch 25/100\n",
      "45/45 [==============================] - 42s 932ms/step - loss: 0.6932 - accuracy: 0.5033 - val_loss: 0.6931 - val_accuracy: 0.5015\n",
      "Epoch 26/100\n",
      "45/45 [==============================] - 42s 930ms/step - loss: 0.6932 - accuracy: 0.4994 - val_loss: 0.6932 - val_accuracy: 0.5015\n",
      "Epoch 27/100\n",
      "45/45 [==============================] - 42s 932ms/step - loss: 7.1254 - accuracy: 0.5090 - val_loss: 0.6934 - val_accuracy: 0.5015\n",
      "Epoch 28/100\n",
      "45/45 [==============================] - 42s 932ms/step - loss: 0.6932 - accuracy: 0.5016 - val_loss: 0.6932 - val_accuracy: 0.5015\n",
      "Epoch 29/100\n",
      "45/45 [==============================] - 42s 930ms/step - loss: 0.6932 - accuracy: 0.4976 - val_loss: 0.6932 - val_accuracy: 0.5015\n",
      "Epoch 30/100\n",
      "45/45 [==============================] - 42s 933ms/step - loss: 0.6932 - accuracy: 0.5035 - val_loss: 0.6931 - val_accuracy: 0.5015\n",
      "Epoch 31/100\n",
      "45/45 [==============================] - 42s 934ms/step - loss: 0.6932 - accuracy: 0.4993 - val_loss: 0.6931 - val_accuracy: 0.5015\n",
      "Epoch 32/100\n",
      "45/45 [==============================] - 42s 929ms/step - loss: 0.6932 - accuracy: 0.5012 - val_loss: 0.6932 - val_accuracy: 0.4985\n",
      "Epoch 33/100\n",
      "45/45 [==============================] - 42s 932ms/step - loss: 0.6932 - accuracy: 0.4983 - val_loss: 0.6932 - val_accuracy: 0.5015\n",
      "Epoch 34/100\n",
      "45/45 [==============================] - 42s 931ms/step - loss: 0.6932 - accuracy: 0.4978 - val_loss: 0.6932 - val_accuracy: 0.5015\n",
      "Epoch 35/100\n",
      "45/45 [==============================] - 42s 930ms/step - loss: 0.6932 - accuracy: 0.5046 - val_loss: 0.6931 - val_accuracy: 0.5015\n",
      "Epoch 36/100\n",
      "45/45 [==============================] - 42s 930ms/step - loss: 0.6931 - accuracy: 0.5065 - val_loss: 0.6933 - val_accuracy: 0.4985\n",
      "Epoch 37/100\n",
      "45/45 [==============================] - 42s 933ms/step - loss: 0.6932 - accuracy: 0.4970 - val_loss: 0.6932 - val_accuracy: 0.5015\n",
      "Epoch 38/100\n",
      "45/45 [==============================] - 42s 934ms/step - loss: 0.6932 - accuracy: 0.5035 - val_loss: 0.6932 - val_accuracy: 0.4985\n",
      "Epoch 39/100\n",
      "45/45 [==============================] - 42s 937ms/step - loss: 0.6932 - accuracy: 0.5029 - val_loss: 0.6932 - val_accuracy: 0.4985\n",
      "Epoch 40/100\n",
      "45/45 [==============================] - 42s 938ms/step - loss: 0.6932 - accuracy: 0.4995 - val_loss: 0.6932 - val_accuracy: 0.5015\n",
      "Epoch 41/100\n",
      "45/45 [==============================] - 42s 939ms/step - loss: 0.6932 - accuracy: 0.5036 - val_loss: 0.6932 - val_accuracy: 0.4985\n",
      "Epoch 42/100\n",
      "45/45 [==============================] - 42s 936ms/step - loss: 0.6932 - accuracy: 0.4985 - val_loss: 0.6931 - val_accuracy: 0.4985\n",
      "Epoch 43/100\n",
      "45/45 [==============================] - 42s 935ms/step - loss: 0.6932 - accuracy: 0.5002 - val_loss: 0.6932 - val_accuracy: 0.5015\n",
      "Epoch 44/100\n",
      "45/45 [==============================] - 42s 938ms/step - loss: 0.6932 - accuracy: 0.5011 - val_loss: 0.6932 - val_accuracy: 0.5015\n",
      "Epoch 45/100\n",
      "45/45 [==============================] - 42s 935ms/step - loss: 0.6932 - accuracy: 0.5008 - val_loss: 0.6932 - val_accuracy: 0.5015\n",
      "Epoch 46/100\n",
      "45/45 [==============================] - 42s 937ms/step - loss: 0.6932 - accuracy: 0.5028 - val_loss: 0.6932 - val_accuracy: 0.5015\n",
      "Epoch 47/100\n",
      "45/45 [==============================] - 42s 929ms/step - loss: 0.6931 - accuracy: 0.5040 - val_loss: 0.6933 - val_accuracy: 0.5015\n",
      "Epoch 48/100\n",
      "45/45 [==============================] - 42s 935ms/step - loss: 0.6932 - accuracy: 0.5026 - val_loss: 0.6932 - val_accuracy: 0.5015\n",
      "Epoch 49/100\n",
      "45/45 [==============================] - 42s 933ms/step - loss: 0.6932 - accuracy: 0.5005 - val_loss: 0.6931 - val_accuracy: 0.5015\n"
     ]
    },
    {
     "name": "stdout",
     "output_type": "stream",
     "text": [
      "Epoch 50/100\n",
      "45/45 [==============================] - 42s 935ms/step - loss: 0.6932 - accuracy: 0.5011 - val_loss: 0.6932 - val_accuracy: 0.5015\n",
      "Epoch 51/100\n",
      "45/45 [==============================] - 42s 938ms/step - loss: 0.6932 - accuracy: 0.5017 - val_loss: 0.6932 - val_accuracy: 0.5015\n",
      "Epoch 52/100\n",
      "45/45 [==============================] - 42s 938ms/step - loss: 0.6932 - accuracy: 0.4997 - val_loss: 0.6932 - val_accuracy: 0.5015\n",
      "Epoch 53/100\n",
      "45/45 [==============================] - 42s 939ms/step - loss: 0.6932 - accuracy: 0.4995 - val_loss: 0.6931 - val_accuracy: 0.5015\n",
      "Epoch 54/100\n",
      "45/45 [==============================] - 42s 939ms/step - loss: 0.6932 - accuracy: 0.4971 - val_loss: 0.6932 - val_accuracy: 0.5015\n",
      "Epoch 55/100\n",
      "45/45 [==============================] - 42s 937ms/step - loss: 0.6932 - accuracy: 0.5037 - val_loss: 0.6932 - val_accuracy: 0.5015\n",
      "Epoch 56/100\n",
      "45/45 [==============================] - 43s 942ms/step - loss: 0.6932 - accuracy: 0.5001 - val_loss: 0.6932 - val_accuracy: 0.4985\n",
      "Epoch 57/100\n",
      "45/45 [==============================] - 43s 945ms/step - loss: 0.6932 - accuracy: 0.5023 - val_loss: 0.6932 - val_accuracy: 0.4985\n",
      "Epoch 58/100\n",
      "45/45 [==============================] - 43s 943ms/step - loss: 0.6932 - accuracy: 0.4993 - val_loss: 0.6932 - val_accuracy: 0.4985\n",
      "Epoch 59/100\n",
      "45/45 [==============================] - 43s 943ms/step - loss: 0.6932 - accuracy: 0.5018 - val_loss: 0.6931 - val_accuracy: 0.4985\n",
      "Epoch 60/100\n",
      "45/45 [==============================] - 43s 943ms/step - loss: 0.6932 - accuracy: 0.5003 - val_loss: 0.6931 - val_accuracy: 0.5015\n",
      "Epoch 61/100\n",
      "45/45 [==============================] - 42s 938ms/step - loss: 0.6933 - accuracy: 0.5032 - val_loss: 0.6932 - val_accuracy: 0.5015\n",
      "Epoch 62/100\n",
      "45/45 [==============================] - 43s 942ms/step - loss: 0.6932 - accuracy: 0.5008 - val_loss: 0.6932 - val_accuracy: 0.5015\n",
      "Epoch 63/100\n",
      "45/45 [==============================] - 43s 941ms/step - loss: 0.6932 - accuracy: 0.5005 - val_loss: 0.6932 - val_accuracy: 0.4985\n",
      "Epoch 64/100\n",
      "45/45 [==============================] - 43s 941ms/step - loss: 0.6932 - accuracy: 0.5012 - val_loss: 0.6931 - val_accuracy: 0.4985\n",
      "Epoch 65/100\n",
      "45/45 [==============================] - 43s 944ms/step - loss: 0.6932 - accuracy: 0.4964 - val_loss: 0.6931 - val_accuracy: 0.5015\n",
      "Epoch 66/100\n",
      "45/45 [==============================] - 42s 939ms/step - loss: 0.6932 - accuracy: 0.5010 - val_loss: 0.6931 - val_accuracy: 0.5015\n",
      "Epoch 67/100\n",
      "45/45 [==============================] - 43s 944ms/step - loss: 0.6932 - accuracy: 0.4992 - val_loss: 0.6932 - val_accuracy: 0.5015\n",
      "Epoch 68/100\n",
      "45/45 [==============================] - 42s 937ms/step - loss: 0.6932 - accuracy: 0.4978 - val_loss: 0.6932 - val_accuracy: 0.5015\n",
      "Epoch 69/100\n",
      "45/45 [==============================] - 43s 946ms/step - loss: 0.6931 - accuracy: 0.5051 - val_loss: 0.6932 - val_accuracy: 0.5015\n",
      "Epoch 70/100\n",
      "45/45 [==============================] - 43s 944ms/step - loss: 0.6932 - accuracy: 0.4992 - val_loss: 0.6932 - val_accuracy: 0.4985\n",
      "Epoch 71/100\n",
      "45/45 [==============================] - 43s 946ms/step - loss: 0.6932 - accuracy: 0.5051 - val_loss: 0.6932 - val_accuracy: 0.4985\n",
      "Epoch 72/100\n",
      "45/45 [==============================] - 43s 945ms/step - loss: 0.6933 - accuracy: 0.4993 - val_loss: 0.6931 - val_accuracy: 0.4985\n",
      "Epoch 73/100\n",
      "45/45 [==============================] - 42s 937ms/step - loss: 0.6932 - accuracy: 0.5028 - val_loss: 0.6931 - val_accuracy: 0.5015\n",
      "Epoch 74/100\n",
      "45/45 [==============================] - 42s 938ms/step - loss: 0.6932 - accuracy: 0.5026 - val_loss: 0.6932 - val_accuracy: 0.5015\n",
      "Epoch 75/100\n",
      "45/45 [==============================] - 42s 936ms/step - loss: 0.6932 - accuracy: 0.5009 - val_loss: 0.6933 - val_accuracy: 0.5015\n",
      "Epoch 76/100\n",
      "39/45 [=========================>....] - ETA: 5s - loss: 0.6931 - accuracy: 0.5054"
     ]
    },
    {
     "ename": "KeyboardInterrupt",
     "evalue": "",
     "output_type": "error",
     "traceback": [
      "\u001b[1;31m---------------------------------------------------------------------------\u001b[0m",
      "\u001b[1;31mKeyboardInterrupt\u001b[0m                         Traceback (most recent call last)",
      "Input \u001b[1;32mIn [44]\u001b[0m, in \u001b[0;36m<cell line: 3>\u001b[1;34m()\u001b[0m\n\u001b[0;32m      1\u001b[0m tuner_search\u001b[38;5;241m=\u001b[39mRandomSearch(build_model, objective\u001b[38;5;241m=\u001b[39m\u001b[38;5;124m'\u001b[39m\u001b[38;5;124mval_accuracy\u001b[39m\u001b[38;5;124m'\u001b[39m, max_trials\u001b[38;5;241m=\u001b[39m\u001b[38;5;241m60\u001b[39m,directory\u001b[38;5;241m=\u001b[39m\u001b[38;5;124m'\u001b[39m\u001b[38;5;124mhyper_results/\u001b[39m\u001b[38;5;124m'\u001b[39m,project_name\u001b[38;5;241m=\u001b[39m\u001b[38;5;124m\"\u001b[39m\u001b[38;5;124mEVC2\u001b[39m\u001b[38;5;124m\"\u001b[39m)\n\u001b[1;32m----> 3\u001b[0m \u001b[43mtuner_search\u001b[49m\u001b[38;5;241;43m.\u001b[39;49m\u001b[43msearch\u001b[49m\u001b[43m(\u001b[49m\u001b[43mtrain_generator\u001b[49m\u001b[43m,\u001b[49m\u001b[43m \u001b[49m\u001b[43mepochs\u001b[49m\u001b[38;5;241;43m=\u001b[39;49m\u001b[38;5;241;43m100\u001b[39;49m\u001b[43m,\u001b[49m\u001b[43m \u001b[49m\u001b[43mverbose\u001b[49m\u001b[38;5;241;43m=\u001b[39;49m\u001b[38;5;241;43m1\u001b[39;49m\u001b[43m,\u001b[49m\u001b[43m \u001b[49m\u001b[43mvalidation_data\u001b[49m\u001b[38;5;241;43m=\u001b[39;49m\u001b[43m \u001b[49m\u001b[43mvalidation_generator\u001b[49m\u001b[43m,\u001b[49m\u001b[43m \u001b[49m\u001b[43mcallbacks\u001b[49m\u001b[38;5;241;43m=\u001b[39;49m\u001b[43m[\u001b[49m\u001b[43mkeras\u001b[49m\u001b[38;5;241;43m.\u001b[39;49m\u001b[43mcallbacks\u001b[49m\u001b[38;5;241;43m.\u001b[39;49m\u001b[43mTensorBoard\u001b[49m\u001b[43m(\u001b[49m\u001b[43mlog_dir\u001b[49m\u001b[43m \u001b[49m\u001b[38;5;241;43m=\u001b[39;49m\u001b[43m \u001b[49m\u001b[38;5;124;43m\"\u001b[39;49m\u001b[38;5;124;43mhyper_results/logs2\u001b[39;49m\u001b[38;5;124;43m\"\u001b[39;49m\u001b[43m)\u001b[49m\u001b[43m]\u001b[49m\u001b[43m)\u001b[49m\n",
      "File \u001b[1;32m~\\anaconda3\\lib\\site-packages\\keras_tuner\\engine\\base_tuner.py:226\u001b[0m, in \u001b[0;36mBaseTuner.search\u001b[1;34m(self, *fit_args, **fit_kwargs)\u001b[0m\n\u001b[0;32m    223\u001b[0m         \u001b[38;5;28;01mcontinue\u001b[39;00m\n\u001b[0;32m    225\u001b[0m     \u001b[38;5;28mself\u001b[39m\u001b[38;5;241m.\u001b[39mon_trial_begin(trial)\n\u001b[1;32m--> 226\u001b[0m     \u001b[38;5;28mself\u001b[39m\u001b[38;5;241m.\u001b[39m_try_run_and_update_trial(trial, \u001b[38;5;241m*\u001b[39mfit_args, \u001b[38;5;241m*\u001b[39m\u001b[38;5;241m*\u001b[39mfit_kwargs)\n\u001b[0;32m    227\u001b[0m     \u001b[38;5;28mself\u001b[39m\u001b[38;5;241m.\u001b[39mon_trial_end(trial)\n\u001b[0;32m    228\u001b[0m \u001b[38;5;28mself\u001b[39m\u001b[38;5;241m.\u001b[39mon_search_end()\n",
      "File \u001b[1;32m~\\anaconda3\\lib\\site-packages\\keras_tuner\\engine\\base_tuner.py:266\u001b[0m, in \u001b[0;36mBaseTuner._try_run_and_update_trial\u001b[1;34m(self, trial, *fit_args, **fit_kwargs)\u001b[0m\n\u001b[0;32m    264\u001b[0m \u001b[38;5;28;01mdef\u001b[39;00m \u001b[38;5;21m_try_run_and_update_trial\u001b[39m(\u001b[38;5;28mself\u001b[39m, trial, \u001b[38;5;241m*\u001b[39mfit_args, \u001b[38;5;241m*\u001b[39m\u001b[38;5;241m*\u001b[39mfit_kwargs):\n\u001b[0;32m    265\u001b[0m     \u001b[38;5;28;01mtry\u001b[39;00m:\n\u001b[1;32m--> 266\u001b[0m         \u001b[38;5;28mself\u001b[39m\u001b[38;5;241m.\u001b[39m_run_and_update_trial(trial, \u001b[38;5;241m*\u001b[39mfit_args, \u001b[38;5;241m*\u001b[39m\u001b[38;5;241m*\u001b[39mfit_kwargs)\n\u001b[0;32m    267\u001b[0m         trial\u001b[38;5;241m.\u001b[39mstatus \u001b[38;5;241m=\u001b[39m trial_module\u001b[38;5;241m.\u001b[39mTrialStatus\u001b[38;5;241m.\u001b[39mCOMPLETED\n\u001b[0;32m    268\u001b[0m         \u001b[38;5;28;01mreturn\u001b[39;00m\n",
      "File \u001b[1;32m~\\anaconda3\\lib\\site-packages\\keras_tuner\\engine\\base_tuner.py:231\u001b[0m, in \u001b[0;36mBaseTuner._run_and_update_trial\u001b[1;34m(self, trial, *fit_args, **fit_kwargs)\u001b[0m\n\u001b[0;32m    230\u001b[0m \u001b[38;5;28;01mdef\u001b[39;00m \u001b[38;5;21m_run_and_update_trial\u001b[39m(\u001b[38;5;28mself\u001b[39m, trial, \u001b[38;5;241m*\u001b[39mfit_args, \u001b[38;5;241m*\u001b[39m\u001b[38;5;241m*\u001b[39mfit_kwargs):\n\u001b[1;32m--> 231\u001b[0m     results \u001b[38;5;241m=\u001b[39m \u001b[38;5;28mself\u001b[39m\u001b[38;5;241m.\u001b[39mrun_trial(trial, \u001b[38;5;241m*\u001b[39mfit_args, \u001b[38;5;241m*\u001b[39m\u001b[38;5;241m*\u001b[39mfit_kwargs)\n\u001b[0;32m    232\u001b[0m     \u001b[38;5;28;01mif\u001b[39;00m \u001b[38;5;28mself\u001b[39m\u001b[38;5;241m.\u001b[39moracle\u001b[38;5;241m.\u001b[39mget_trial(trial\u001b[38;5;241m.\u001b[39mtrial_id)\u001b[38;5;241m.\u001b[39mmetrics\u001b[38;5;241m.\u001b[39mexists(\n\u001b[0;32m    233\u001b[0m         \u001b[38;5;28mself\u001b[39m\u001b[38;5;241m.\u001b[39moracle\u001b[38;5;241m.\u001b[39mobjective\u001b[38;5;241m.\u001b[39mname\n\u001b[0;32m    234\u001b[0m     ):\n\u001b[0;32m    235\u001b[0m         \u001b[38;5;66;03m# The oracle is updated by calling `self.oracle.update_trial()` in\u001b[39;00m\n\u001b[0;32m    236\u001b[0m         \u001b[38;5;66;03m# `Tuner.run_trial()`. For backward compatibility, we support this\u001b[39;00m\n\u001b[0;32m    237\u001b[0m         \u001b[38;5;66;03m# use case. No further action needed in this case.\u001b[39;00m\n\u001b[0;32m    238\u001b[0m         warnings\u001b[38;5;241m.\u001b[39mwarn(\n\u001b[0;32m    239\u001b[0m             \u001b[38;5;124m\"\u001b[39m\u001b[38;5;124mThe use case of calling \u001b[39m\u001b[38;5;124m\"\u001b[39m\n\u001b[0;32m    240\u001b[0m             \u001b[38;5;124m\"\u001b[39m\u001b[38;5;124m`self.oracle.update_trial(trial_id, metrics)` \u001b[39m\u001b[38;5;124m\"\u001b[39m\n\u001b[1;32m   (...)\u001b[0m\n\u001b[0;32m    246\u001b[0m             stacklevel\u001b[38;5;241m=\u001b[39m\u001b[38;5;241m2\u001b[39m,\n\u001b[0;32m    247\u001b[0m         )\n",
      "File \u001b[1;32m~\\anaconda3\\lib\\site-packages\\keras_tuner\\engine\\tuner.py:287\u001b[0m, in \u001b[0;36mTuner.run_trial\u001b[1;34m(self, trial, *args, **kwargs)\u001b[0m\n\u001b[0;32m    285\u001b[0m     callbacks\u001b[38;5;241m.\u001b[39mappend(model_checkpoint)\n\u001b[0;32m    286\u001b[0m     copied_kwargs[\u001b[38;5;124m\"\u001b[39m\u001b[38;5;124mcallbacks\u001b[39m\u001b[38;5;124m\"\u001b[39m] \u001b[38;5;241m=\u001b[39m callbacks\n\u001b[1;32m--> 287\u001b[0m     obj_value \u001b[38;5;241m=\u001b[39m \u001b[38;5;28mself\u001b[39m\u001b[38;5;241m.\u001b[39m_build_and_fit_model(trial, \u001b[38;5;241m*\u001b[39margs, \u001b[38;5;241m*\u001b[39m\u001b[38;5;241m*\u001b[39mcopied_kwargs)\n\u001b[0;32m    289\u001b[0m     histories\u001b[38;5;241m.\u001b[39mappend(obj_value)\n\u001b[0;32m    290\u001b[0m \u001b[38;5;28;01mreturn\u001b[39;00m histories\n",
      "File \u001b[1;32m~\\anaconda3\\lib\\site-packages\\keras_tuner\\engine\\tuner.py:214\u001b[0m, in \u001b[0;36mTuner._build_and_fit_model\u001b[1;34m(self, trial, *args, **kwargs)\u001b[0m\n\u001b[0;32m    212\u001b[0m hp \u001b[38;5;241m=\u001b[39m trial\u001b[38;5;241m.\u001b[39mhyperparameters\n\u001b[0;32m    213\u001b[0m model \u001b[38;5;241m=\u001b[39m \u001b[38;5;28mself\u001b[39m\u001b[38;5;241m.\u001b[39m_try_build(hp)\n\u001b[1;32m--> 214\u001b[0m results \u001b[38;5;241m=\u001b[39m \u001b[38;5;28mself\u001b[39m\u001b[38;5;241m.\u001b[39mhypermodel\u001b[38;5;241m.\u001b[39mfit(hp, model, \u001b[38;5;241m*\u001b[39margs, \u001b[38;5;241m*\u001b[39m\u001b[38;5;241m*\u001b[39mkwargs)\n\u001b[0;32m    215\u001b[0m tuner_utils\u001b[38;5;241m.\u001b[39mvalidate_trial_results(\n\u001b[0;32m    216\u001b[0m     results, \u001b[38;5;28mself\u001b[39m\u001b[38;5;241m.\u001b[39moracle\u001b[38;5;241m.\u001b[39mobjective, \u001b[38;5;124m\"\u001b[39m\u001b[38;5;124mHyperModel.fit()\u001b[39m\u001b[38;5;124m\"\u001b[39m\n\u001b[0;32m    217\u001b[0m )\n\u001b[0;32m    218\u001b[0m \u001b[38;5;28;01mreturn\u001b[39;00m results\n",
      "File \u001b[1;32m~\\anaconda3\\lib\\site-packages\\keras_tuner\\engine\\hypermodel.py:144\u001b[0m, in \u001b[0;36mHyperModel.fit\u001b[1;34m(self, hp, model, *args, **kwargs)\u001b[0m\n\u001b[0;32m    120\u001b[0m \u001b[38;5;28;01mdef\u001b[39;00m \u001b[38;5;21mfit\u001b[39m(\u001b[38;5;28mself\u001b[39m, hp, model, \u001b[38;5;241m*\u001b[39margs, \u001b[38;5;241m*\u001b[39m\u001b[38;5;241m*\u001b[39mkwargs):\n\u001b[0;32m    121\u001b[0m     \u001b[38;5;124;03m\"\"\"Train the model.\u001b[39;00m\n\u001b[0;32m    122\u001b[0m \n\u001b[0;32m    123\u001b[0m \u001b[38;5;124;03m    Args:\u001b[39;00m\n\u001b[1;32m   (...)\u001b[0m\n\u001b[0;32m    142\u001b[0m \u001b[38;5;124;03m        If return a float, it should be the `objective` value.\u001b[39;00m\n\u001b[0;32m    143\u001b[0m \u001b[38;5;124;03m    \"\"\"\u001b[39;00m\n\u001b[1;32m--> 144\u001b[0m     \u001b[38;5;28;01mreturn\u001b[39;00m model\u001b[38;5;241m.\u001b[39mfit(\u001b[38;5;241m*\u001b[39margs, \u001b[38;5;241m*\u001b[39m\u001b[38;5;241m*\u001b[39mkwargs)\n",
      "File \u001b[1;32m~\\anaconda3\\lib\\site-packages\\keras\\utils\\traceback_utils.py:64\u001b[0m, in \u001b[0;36mfilter_traceback.<locals>.error_handler\u001b[1;34m(*args, **kwargs)\u001b[0m\n\u001b[0;32m     62\u001b[0m filtered_tb \u001b[38;5;241m=\u001b[39m \u001b[38;5;28;01mNone\u001b[39;00m\n\u001b[0;32m     63\u001b[0m \u001b[38;5;28;01mtry\u001b[39;00m:\n\u001b[1;32m---> 64\u001b[0m   \u001b[38;5;28;01mreturn\u001b[39;00m fn(\u001b[38;5;241m*\u001b[39margs, \u001b[38;5;241m*\u001b[39m\u001b[38;5;241m*\u001b[39mkwargs)\n\u001b[0;32m     65\u001b[0m \u001b[38;5;28;01mexcept\u001b[39;00m \u001b[38;5;167;01mException\u001b[39;00m \u001b[38;5;28;01mas\u001b[39;00m e:  \u001b[38;5;66;03m# pylint: disable=broad-except\u001b[39;00m\n\u001b[0;32m     66\u001b[0m   filtered_tb \u001b[38;5;241m=\u001b[39m _process_traceback_frames(e\u001b[38;5;241m.\u001b[39m__traceback__)\n",
      "File \u001b[1;32m~\\anaconda3\\lib\\site-packages\\keras\\engine\\training.py:1389\u001b[0m, in \u001b[0;36mModel.fit\u001b[1;34m(self, x, y, batch_size, epochs, verbose, callbacks, validation_split, validation_data, shuffle, class_weight, sample_weight, initial_epoch, steps_per_epoch, validation_steps, validation_batch_size, validation_freq, max_queue_size, workers, use_multiprocessing)\u001b[0m\n\u001b[0;32m   1387\u001b[0m logs \u001b[38;5;241m=\u001b[39m tmp_logs  \u001b[38;5;66;03m# No error, now safe to assign to logs.\u001b[39;00m\n\u001b[0;32m   1388\u001b[0m end_step \u001b[38;5;241m=\u001b[39m step \u001b[38;5;241m+\u001b[39m data_handler\u001b[38;5;241m.\u001b[39mstep_increment\n\u001b[1;32m-> 1389\u001b[0m \u001b[43mcallbacks\u001b[49m\u001b[38;5;241;43m.\u001b[39;49m\u001b[43mon_train_batch_end\u001b[49m\u001b[43m(\u001b[49m\u001b[43mend_step\u001b[49m\u001b[43m,\u001b[49m\u001b[43m \u001b[49m\u001b[43mlogs\u001b[49m\u001b[43m)\u001b[49m\n\u001b[0;32m   1390\u001b[0m \u001b[38;5;28;01mif\u001b[39;00m \u001b[38;5;28mself\u001b[39m\u001b[38;5;241m.\u001b[39mstop_training:\n\u001b[0;32m   1391\u001b[0m   \u001b[38;5;28;01mbreak\u001b[39;00m\n",
      "File \u001b[1;32m~\\anaconda3\\lib\\site-packages\\keras\\callbacks.py:438\u001b[0m, in \u001b[0;36mCallbackList.on_train_batch_end\u001b[1;34m(self, batch, logs)\u001b[0m\n\u001b[0;32m    431\u001b[0m \u001b[38;5;124;03m\"\"\"Calls the `on_train_batch_end` methods of its callbacks.\u001b[39;00m\n\u001b[0;32m    432\u001b[0m \n\u001b[0;32m    433\u001b[0m \u001b[38;5;124;03mArgs:\u001b[39;00m\n\u001b[0;32m    434\u001b[0m \u001b[38;5;124;03m    batch: Integer, index of batch within the current epoch.\u001b[39;00m\n\u001b[0;32m    435\u001b[0m \u001b[38;5;124;03m    logs: Dict. Aggregated metric results up until this batch.\u001b[39;00m\n\u001b[0;32m    436\u001b[0m \u001b[38;5;124;03m\"\"\"\u001b[39;00m\n\u001b[0;32m    437\u001b[0m \u001b[38;5;28;01mif\u001b[39;00m \u001b[38;5;28mself\u001b[39m\u001b[38;5;241m.\u001b[39m_should_call_train_batch_hooks:\n\u001b[1;32m--> 438\u001b[0m   \u001b[38;5;28;43mself\u001b[39;49m\u001b[38;5;241;43m.\u001b[39;49m\u001b[43m_call_batch_hook\u001b[49m\u001b[43m(\u001b[49m\u001b[43mModeKeys\u001b[49m\u001b[38;5;241;43m.\u001b[39;49m\u001b[43mTRAIN\u001b[49m\u001b[43m,\u001b[49m\u001b[43m \u001b[49m\u001b[38;5;124;43m'\u001b[39;49m\u001b[38;5;124;43mend\u001b[39;49m\u001b[38;5;124;43m'\u001b[39;49m\u001b[43m,\u001b[49m\u001b[43m \u001b[49m\u001b[43mbatch\u001b[49m\u001b[43m,\u001b[49m\u001b[43m \u001b[49m\u001b[43mlogs\u001b[49m\u001b[38;5;241;43m=\u001b[39;49m\u001b[43mlogs\u001b[49m\u001b[43m)\u001b[49m\n",
      "File \u001b[1;32m~\\anaconda3\\lib\\site-packages\\keras\\callbacks.py:297\u001b[0m, in \u001b[0;36mCallbackList._call_batch_hook\u001b[1;34m(self, mode, hook, batch, logs)\u001b[0m\n\u001b[0;32m    295\u001b[0m   \u001b[38;5;28mself\u001b[39m\u001b[38;5;241m.\u001b[39m_call_batch_begin_hook(mode, batch, logs)\n\u001b[0;32m    296\u001b[0m \u001b[38;5;28;01melif\u001b[39;00m hook \u001b[38;5;241m==\u001b[39m \u001b[38;5;124m'\u001b[39m\u001b[38;5;124mend\u001b[39m\u001b[38;5;124m'\u001b[39m:\n\u001b[1;32m--> 297\u001b[0m   \u001b[38;5;28;43mself\u001b[39;49m\u001b[38;5;241;43m.\u001b[39;49m\u001b[43m_call_batch_end_hook\u001b[49m\u001b[43m(\u001b[49m\u001b[43mmode\u001b[49m\u001b[43m,\u001b[49m\u001b[43m \u001b[49m\u001b[43mbatch\u001b[49m\u001b[43m,\u001b[49m\u001b[43m \u001b[49m\u001b[43mlogs\u001b[49m\u001b[43m)\u001b[49m\n\u001b[0;32m    298\u001b[0m \u001b[38;5;28;01melse\u001b[39;00m:\n\u001b[0;32m    299\u001b[0m   \u001b[38;5;28;01mraise\u001b[39;00m \u001b[38;5;167;01mValueError\u001b[39;00m(\n\u001b[0;32m    300\u001b[0m       \u001b[38;5;124mf\u001b[39m\u001b[38;5;124m'\u001b[39m\u001b[38;5;124mUnrecognized hook: \u001b[39m\u001b[38;5;132;01m{\u001b[39;00mhook\u001b[38;5;132;01m}\u001b[39;00m\u001b[38;5;124m. Expected values are [\u001b[39m\u001b[38;5;124m\"\u001b[39m\u001b[38;5;124mbegin\u001b[39m\u001b[38;5;124m\"\u001b[39m\u001b[38;5;124m, \u001b[39m\u001b[38;5;124m\"\u001b[39m\u001b[38;5;124mend\u001b[39m\u001b[38;5;124m\"\u001b[39m\u001b[38;5;124m]\u001b[39m\u001b[38;5;124m'\u001b[39m)\n",
      "File \u001b[1;32m~\\anaconda3\\lib\\site-packages\\keras\\callbacks.py:318\u001b[0m, in \u001b[0;36mCallbackList._call_batch_end_hook\u001b[1;34m(self, mode, batch, logs)\u001b[0m\n\u001b[0;32m    315\u001b[0m   batch_time \u001b[38;5;241m=\u001b[39m time\u001b[38;5;241m.\u001b[39mtime() \u001b[38;5;241m-\u001b[39m \u001b[38;5;28mself\u001b[39m\u001b[38;5;241m.\u001b[39m_batch_start_time\n\u001b[0;32m    316\u001b[0m   \u001b[38;5;28mself\u001b[39m\u001b[38;5;241m.\u001b[39m_batch_times\u001b[38;5;241m.\u001b[39mappend(batch_time)\n\u001b[1;32m--> 318\u001b[0m \u001b[38;5;28;43mself\u001b[39;49m\u001b[38;5;241;43m.\u001b[39;49m\u001b[43m_call_batch_hook_helper\u001b[49m\u001b[43m(\u001b[49m\u001b[43mhook_name\u001b[49m\u001b[43m,\u001b[49m\u001b[43m \u001b[49m\u001b[43mbatch\u001b[49m\u001b[43m,\u001b[49m\u001b[43m \u001b[49m\u001b[43mlogs\u001b[49m\u001b[43m)\u001b[49m\n\u001b[0;32m    320\u001b[0m \u001b[38;5;28;01mif\u001b[39;00m \u001b[38;5;28mlen\u001b[39m(\u001b[38;5;28mself\u001b[39m\u001b[38;5;241m.\u001b[39m_batch_times) \u001b[38;5;241m>\u001b[39m\u001b[38;5;241m=\u001b[39m \u001b[38;5;28mself\u001b[39m\u001b[38;5;241m.\u001b[39m_num_batches_for_timing_check:\n\u001b[0;32m    321\u001b[0m   end_hook_name \u001b[38;5;241m=\u001b[39m hook_name\n",
      "File \u001b[1;32m~\\anaconda3\\lib\\site-packages\\keras\\callbacks.py:353\u001b[0m, in \u001b[0;36mCallbackList._call_batch_hook_helper\u001b[1;34m(self, hook_name, batch, logs)\u001b[0m\n\u001b[0;32m    350\u001b[0m \u001b[38;5;28;01mif\u001b[39;00m \u001b[38;5;28mself\u001b[39m\u001b[38;5;241m.\u001b[39m_check_timing:\n\u001b[0;32m    351\u001b[0m   start_time \u001b[38;5;241m=\u001b[39m time\u001b[38;5;241m.\u001b[39mtime()\n\u001b[1;32m--> 353\u001b[0m logs \u001b[38;5;241m=\u001b[39m \u001b[38;5;28;43mself\u001b[39;49m\u001b[38;5;241;43m.\u001b[39;49m\u001b[43m_process_logs\u001b[49m\u001b[43m(\u001b[49m\u001b[43mlogs\u001b[49m\u001b[43m,\u001b[49m\u001b[43m \u001b[49m\u001b[43mis_batch_hook\u001b[49m\u001b[38;5;241;43m=\u001b[39;49m\u001b[38;5;28;43;01mTrue\u001b[39;49;00m\u001b[43m)\u001b[49m\n\u001b[0;32m    354\u001b[0m \u001b[38;5;28;01mfor\u001b[39;00m callback \u001b[38;5;129;01min\u001b[39;00m \u001b[38;5;28mself\u001b[39m\u001b[38;5;241m.\u001b[39mcallbacks:\n\u001b[0;32m    355\u001b[0m   hook \u001b[38;5;241m=\u001b[39m \u001b[38;5;28mgetattr\u001b[39m(callback, hook_name)\n",
      "File \u001b[1;32m~\\anaconda3\\lib\\site-packages\\keras\\callbacks.py:272\u001b[0m, in \u001b[0;36mCallbackList._process_logs\u001b[1;34m(self, logs, is_batch_hook)\u001b[0m\n\u001b[0;32m    270\u001b[0m \u001b[38;5;28;01mif\u001b[39;00m is_batch_hook \u001b[38;5;129;01mand\u001b[39;00m \u001b[38;5;28mself\u001b[39m\u001b[38;5;241m.\u001b[39m_batch_hooks_support_tf_logs:\n\u001b[0;32m    271\u001b[0m   \u001b[38;5;28;01mreturn\u001b[39;00m logs\n\u001b[1;32m--> 272\u001b[0m \u001b[38;5;28;01mreturn\u001b[39;00m \u001b[43mtf_utils\u001b[49m\u001b[38;5;241;43m.\u001b[39;49m\u001b[43msync_to_numpy_or_python_type\u001b[49m\u001b[43m(\u001b[49m\u001b[43mlogs\u001b[49m\u001b[43m)\u001b[49m\n",
      "File \u001b[1;32m~\\anaconda3\\lib\\site-packages\\keras\\utils\\tf_utils.py:563\u001b[0m, in \u001b[0;36msync_to_numpy_or_python_type\u001b[1;34m(tensors)\u001b[0m\n\u001b[0;32m    560\u001b[0m     \u001b[38;5;28;01mreturn\u001b[39;00m t\n\u001b[0;32m    561\u001b[0m   \u001b[38;5;28;01mreturn\u001b[39;00m t\u001b[38;5;241m.\u001b[39mitem() \u001b[38;5;28;01mif\u001b[39;00m np\u001b[38;5;241m.\u001b[39mndim(t) \u001b[38;5;241m==\u001b[39m \u001b[38;5;241m0\u001b[39m \u001b[38;5;28;01melse\u001b[39;00m t\n\u001b[1;32m--> 563\u001b[0m \u001b[38;5;28;01mreturn\u001b[39;00m \u001b[43mtf\u001b[49m\u001b[38;5;241;43m.\u001b[39;49m\u001b[43mnest\u001b[49m\u001b[38;5;241;43m.\u001b[39;49m\u001b[43mmap_structure\u001b[49m\u001b[43m(\u001b[49m\u001b[43m_to_single_numpy_or_python_type\u001b[49m\u001b[43m,\u001b[49m\u001b[43m \u001b[49m\u001b[43mtensors\u001b[49m\u001b[43m)\u001b[49m\n",
      "File \u001b[1;32m~\\anaconda3\\lib\\site-packages\\tensorflow\\python\\util\\nest.py:914\u001b[0m, in \u001b[0;36mmap_structure\u001b[1;34m(func, *structure, **kwargs)\u001b[0m\n\u001b[0;32m    910\u001b[0m flat_structure \u001b[38;5;241m=\u001b[39m (flatten(s, expand_composites) \u001b[38;5;28;01mfor\u001b[39;00m s \u001b[38;5;129;01min\u001b[39;00m structure)\n\u001b[0;32m    911\u001b[0m entries \u001b[38;5;241m=\u001b[39m \u001b[38;5;28mzip\u001b[39m(\u001b[38;5;241m*\u001b[39mflat_structure)\n\u001b[0;32m    913\u001b[0m \u001b[38;5;28;01mreturn\u001b[39;00m pack_sequence_as(\n\u001b[1;32m--> 914\u001b[0m     structure[\u001b[38;5;241m0\u001b[39m], [func(\u001b[38;5;241m*\u001b[39mx) \u001b[38;5;28;01mfor\u001b[39;00m x \u001b[38;5;129;01min\u001b[39;00m entries],\n\u001b[0;32m    915\u001b[0m     expand_composites\u001b[38;5;241m=\u001b[39mexpand_composites)\n",
      "File \u001b[1;32m~\\anaconda3\\lib\\site-packages\\tensorflow\\python\\util\\nest.py:914\u001b[0m, in \u001b[0;36m<listcomp>\u001b[1;34m(.0)\u001b[0m\n\u001b[0;32m    910\u001b[0m flat_structure \u001b[38;5;241m=\u001b[39m (flatten(s, expand_composites) \u001b[38;5;28;01mfor\u001b[39;00m s \u001b[38;5;129;01min\u001b[39;00m structure)\n\u001b[0;32m    911\u001b[0m entries \u001b[38;5;241m=\u001b[39m \u001b[38;5;28mzip\u001b[39m(\u001b[38;5;241m*\u001b[39mflat_structure)\n\u001b[0;32m    913\u001b[0m \u001b[38;5;28;01mreturn\u001b[39;00m pack_sequence_as(\n\u001b[1;32m--> 914\u001b[0m     structure[\u001b[38;5;241m0\u001b[39m], [\u001b[43mfunc\u001b[49m\u001b[43m(\u001b[49m\u001b[38;5;241;43m*\u001b[39;49m\u001b[43mx\u001b[49m\u001b[43m)\u001b[49m \u001b[38;5;28;01mfor\u001b[39;00m x \u001b[38;5;129;01min\u001b[39;00m entries],\n\u001b[0;32m    915\u001b[0m     expand_composites\u001b[38;5;241m=\u001b[39mexpand_composites)\n",
      "File \u001b[1;32m~\\anaconda3\\lib\\site-packages\\keras\\utils\\tf_utils.py:557\u001b[0m, in \u001b[0;36msync_to_numpy_or_python_type.<locals>._to_single_numpy_or_python_type\u001b[1;34m(t)\u001b[0m\n\u001b[0;32m    554\u001b[0m \u001b[38;5;28;01mdef\u001b[39;00m \u001b[38;5;21m_to_single_numpy_or_python_type\u001b[39m(t):\n\u001b[0;32m    555\u001b[0m   \u001b[38;5;66;03m# Don't turn ragged or sparse tensors to NumPy.\u001b[39;00m\n\u001b[0;32m    556\u001b[0m   \u001b[38;5;28;01mif\u001b[39;00m \u001b[38;5;28misinstance\u001b[39m(t, tf\u001b[38;5;241m.\u001b[39mTensor):\n\u001b[1;32m--> 557\u001b[0m     t \u001b[38;5;241m=\u001b[39m \u001b[43mt\u001b[49m\u001b[38;5;241;43m.\u001b[39;49m\u001b[43mnumpy\u001b[49m\u001b[43m(\u001b[49m\u001b[43m)\u001b[49m\n\u001b[0;32m    558\u001b[0m   \u001b[38;5;66;03m# Strings, ragged and sparse tensors don't have .item(). Return them as-is.\u001b[39;00m\n\u001b[0;32m    559\u001b[0m   \u001b[38;5;28;01mif\u001b[39;00m \u001b[38;5;129;01mnot\u001b[39;00m \u001b[38;5;28misinstance\u001b[39m(t, (np\u001b[38;5;241m.\u001b[39mndarray, np\u001b[38;5;241m.\u001b[39mgeneric)):\n",
      "File \u001b[1;32m~\\anaconda3\\lib\\site-packages\\tensorflow\\python\\framework\\ops.py:1223\u001b[0m, in \u001b[0;36m_EagerTensorBase.numpy\u001b[1;34m(self)\u001b[0m\n\u001b[0;32m   1200\u001b[0m \u001b[38;5;124;03m\"\"\"Copy of the contents of this Tensor into a NumPy array or scalar.\u001b[39;00m\n\u001b[0;32m   1201\u001b[0m \n\u001b[0;32m   1202\u001b[0m \u001b[38;5;124;03mUnlike NumPy arrays, Tensors are immutable, so this method has to copy\u001b[39;00m\n\u001b[1;32m   (...)\u001b[0m\n\u001b[0;32m   1220\u001b[0m \u001b[38;5;124;03m    NumPy dtype.\u001b[39;00m\n\u001b[0;32m   1221\u001b[0m \u001b[38;5;124;03m\"\"\"\u001b[39;00m\n\u001b[0;32m   1222\u001b[0m \u001b[38;5;66;03m# TODO(slebedev): Consider avoiding a copy for non-CPU or remote tensors.\u001b[39;00m\n\u001b[1;32m-> 1223\u001b[0m maybe_arr \u001b[38;5;241m=\u001b[39m \u001b[38;5;28;43mself\u001b[39;49m\u001b[38;5;241;43m.\u001b[39;49m\u001b[43m_numpy\u001b[49m\u001b[43m(\u001b[49m\u001b[43m)\u001b[49m  \u001b[38;5;66;03m# pylint: disable=protected-access\u001b[39;00m\n\u001b[0;32m   1224\u001b[0m \u001b[38;5;28;01mreturn\u001b[39;00m maybe_arr\u001b[38;5;241m.\u001b[39mcopy() \u001b[38;5;28;01mif\u001b[39;00m \u001b[38;5;28misinstance\u001b[39m(maybe_arr, np\u001b[38;5;241m.\u001b[39mndarray) \u001b[38;5;28;01melse\u001b[39;00m maybe_arr\n",
      "File \u001b[1;32m~\\anaconda3\\lib\\site-packages\\tensorflow\\python\\framework\\ops.py:1189\u001b[0m, in \u001b[0;36m_EagerTensorBase._numpy\u001b[1;34m(self)\u001b[0m\n\u001b[0;32m   1187\u001b[0m \u001b[38;5;28;01mdef\u001b[39;00m \u001b[38;5;21m_numpy\u001b[39m(\u001b[38;5;28mself\u001b[39m):\n\u001b[0;32m   1188\u001b[0m   \u001b[38;5;28;01mtry\u001b[39;00m:\n\u001b[1;32m-> 1189\u001b[0m     \u001b[38;5;28;01mreturn\u001b[39;00m \u001b[38;5;28;43mself\u001b[39;49m\u001b[38;5;241;43m.\u001b[39;49m\u001b[43m_numpy_internal\u001b[49m\u001b[43m(\u001b[49m\u001b[43m)\u001b[49m\n\u001b[0;32m   1190\u001b[0m   \u001b[38;5;28;01mexcept\u001b[39;00m core\u001b[38;5;241m.\u001b[39m_NotOkStatusException \u001b[38;5;28;01mas\u001b[39;00m e:  \u001b[38;5;66;03m# pylint: disable=protected-access\u001b[39;00m\n\u001b[0;32m   1191\u001b[0m     \u001b[38;5;28;01mraise\u001b[39;00m core\u001b[38;5;241m.\u001b[39m_status_to_exception(e) \u001b[38;5;28;01mfrom\u001b[39;00m \u001b[38;5;28mNone\u001b[39m\n",
      "\u001b[1;31mKeyboardInterrupt\u001b[0m: "
     ]
    }
   ],
   "source": [
    "tuner_search=RandomSearch(build_model, objective='val_accuracy', max_trials=60,directory='hyper_results/',project_name=\"EVC2\")\n",
    "\n",
    "tuner_search.search(train_generator, epochs=100, verbose=1, validation_data= validation_generator, callbacks=[keras.callbacks.TensorBoard(log_dir = \"hyper_results/logs2\")])"
   ]
  },
  {
   "cell_type": "code",
   "execution_count": 224,
   "id": "9a78b703",
   "metadata": {},
   "outputs": [],
   "source": [
    "%reload_ext tensorboard\n",
    "#%tensorboard --logdir hyper_results/logs"
   ]
  },
  {
   "cell_type": "code",
   "execution_count": 225,
   "id": "736d2417",
   "metadata": {
    "scrolled": false
   },
   "outputs": [
    {
     "data": {
      "text/plain": [
       "Reusing TensorBoard on port 22100 (pid 3864), started 4:30:53 ago. (Use '!kill 3864' to kill it.)"
      ]
     },
     "metadata": {},
     "output_type": "display_data"
    },
    {
     "data": {
      "text/html": [
       "\n",
       "      <iframe id=\"tensorboard-frame-a9e5b2986c3baa40\" width=\"100%\" height=\"800\" frameborder=\"0\">\n",
       "      </iframe>\n",
       "      <script>\n",
       "        (function() {\n",
       "          const frame = document.getElementById(\"tensorboard-frame-a9e5b2986c3baa40\");\n",
       "          const url = new URL(\"/\", window.location);\n",
       "          const port = 22100;\n",
       "          if (port) {\n",
       "            url.port = port;\n",
       "          }\n",
       "          frame.src = url;\n",
       "        })();\n",
       "      </script>\n",
       "    "
      ],
      "text/plain": [
       "<IPython.core.display.HTML object>"
      ]
     },
     "metadata": {},
     "output_type": "display_data"
    }
   ],
   "source": [
    "%tensorboard --logdir hyper_results/logs2  --host localhost --port 22100"
   ]
  },
  {
   "cell_type": "code",
   "execution_count": 217,
   "id": "cb023286",
   "metadata": {},
   "outputs": [
    {
     "name": "stdout",
     "output_type": "stream",
     "text": [
      "Results summary\n",
      "Results in hyper_results/EVC2\n",
      "Showing 15 best trials\n",
      "<keras_tuner.engine.objective.Objective object at 0x000001F1A0A28B50>\n",
      "Trial summary\n",
      "Hyperparameters:\n",
      "activation_function: relu\n",
      "conv_1_filter: 96\n",
      "conv_1_kernel: 5\n",
      "conv_2_filter: 64\n",
      "conv_2_kernel: 5\n",
      "conv_3_filter: 192\n",
      "conv_3_kernel: 3\n",
      "conv_4_filter: 384\n",
      "conv_4_kernel: 4\n",
      "dense_1_units: 64\n",
      "learning_rate: 0.0001\n",
      "optimizer: rmsprop\n",
      "Score: 0.9657548069953918\n",
      "Trial summary\n",
      "Hyperparameters:\n",
      "activation_function: relu\n",
      "conv_1_filter: 80\n",
      "conv_1_kernel: 3\n",
      "conv_2_filter: 160\n",
      "conv_2_kernel: 4\n",
      "conv_3_filter: 320\n",
      "conv_3_kernel: 4\n",
      "conv_4_filter: 96\n",
      "conv_4_kernel: 4\n",
      "dense_1_units: 16\n",
      "learning_rate: 0.0001\n",
      "optimizer: adam\n",
      "Score: 0.9637284874916077\n",
      "Trial summary\n",
      "Hyperparameters:\n",
      "activation_function: LeakyReLU\n",
      "conv_1_filter: 32\n",
      "conv_1_kernel: 5\n",
      "conv_2_filter: 32\n",
      "conv_2_kernel: 5\n",
      "conv_3_filter: 256\n",
      "conv_3_kernel: 5\n",
      "conv_4_filter: 128\n",
      "conv_4_kernel: 3\n",
      "dense_1_units: 112\n",
      "learning_rate: 0.001\n",
      "optimizer: adam\n",
      "Score: 0.963323175907135\n",
      "Trial summary\n",
      "Hyperparameters:\n",
      "activation_function: relu\n",
      "conv_1_filter: 64\n",
      "conv_1_kernel: 3\n",
      "conv_2_filter: 128\n",
      "conv_2_kernel: 5\n",
      "conv_3_filter: 96\n",
      "conv_3_kernel: 4\n",
      "conv_4_filter: 160\n",
      "conv_4_kernel: 5\n",
      "dense_1_units: 96\n",
      "learning_rate: 0.001\n",
      "optimizer: rmsprop\n",
      "Score: 0.9625126719474792\n",
      "Trial summary\n",
      "Hyperparameters:\n",
      "activation_function: relu\n",
      "conv_1_filter: 32\n",
      "conv_1_kernel: 5\n",
      "conv_2_filter: 64\n",
      "conv_2_kernel: 3\n",
      "conv_3_filter: 32\n",
      "conv_3_kernel: 5\n",
      "conv_4_filter: 256\n",
      "conv_4_kernel: 3\n",
      "dense_1_units: 80\n",
      "learning_rate: 0.001\n",
      "optimizer: adam\n",
      "Score: 0.9621074199676514\n",
      "Trial summary\n",
      "Hyperparameters:\n",
      "activation_function: LeakyReLU\n",
      "conv_1_filter: 16\n",
      "conv_1_kernel: 3\n",
      "conv_2_filter: 128\n",
      "conv_2_kernel: 5\n",
      "conv_3_filter: 128\n",
      "conv_3_kernel: 3\n",
      "conv_4_filter: 32\n",
      "conv_4_kernel: 4\n",
      "dense_1_units: 96\n",
      "learning_rate: 0.0001\n",
      "optimizer: adam\n",
      "Score: 0.9621074199676514\n",
      "Trial summary\n",
      "Hyperparameters:\n",
      "activation_function: LeakyReLU\n",
      "conv_1_filter: 64\n",
      "conv_1_kernel: 3\n",
      "conv_2_filter: 32\n",
      "conv_2_kernel: 5\n",
      "conv_3_filter: 384\n",
      "conv_3_kernel: 3\n",
      "conv_4_filter: 320\n",
      "conv_4_kernel: 4\n",
      "dense_1_units: 80\n",
      "learning_rate: 0.0001\n",
      "optimizer: adam\n",
      "Score: 0.9614995121955872\n",
      "Trial summary\n",
      "Hyperparameters:\n",
      "activation_function: relu\n",
      "conv_1_filter: 80\n",
      "conv_1_kernel: 4\n",
      "conv_2_filter: 32\n",
      "conv_2_kernel: 5\n",
      "conv_3_filter: 384\n",
      "conv_3_kernel: 5\n",
      "conv_4_filter: 512\n",
      "conv_4_kernel: 3\n",
      "dense_1_units: 80\n",
      "learning_rate: 0.001\n",
      "optimizer: rmsprop\n",
      "Score: 0.9610942006111145\n",
      "Trial summary\n",
      "Hyperparameters:\n",
      "activation_function: tanh\n",
      "conv_1_filter: 16\n",
      "conv_1_kernel: 3\n",
      "conv_2_filter: 256\n",
      "conv_2_kernel: 4\n",
      "conv_3_filter: 192\n",
      "conv_3_kernel: 5\n",
      "conv_4_filter: 256\n",
      "conv_4_kernel: 3\n",
      "dense_1_units: 112\n",
      "learning_rate: 0.001\n",
      "optimizer: rmsprop\n",
      "Score: 0.9606889486312866\n",
      "Trial summary\n",
      "Hyperparameters:\n",
      "activation_function: tanh\n",
      "conv_1_filter: 64\n",
      "conv_1_kernel: 5\n",
      "conv_2_filter: 192\n",
      "conv_2_kernel: 4\n",
      "conv_3_filter: 256\n",
      "conv_3_kernel: 4\n",
      "conv_4_filter: 192\n",
      "conv_4_kernel: 5\n",
      "dense_1_units: 48\n",
      "learning_rate: 0.01\n",
      "optimizer: sgd\n",
      "Score: 0.9606889486312866\n",
      "Trial summary\n",
      "Hyperparameters:\n",
      "activation_function: relu\n",
      "conv_1_filter: 32\n",
      "conv_1_kernel: 4\n",
      "conv_2_filter: 160\n",
      "conv_2_kernel: 3\n",
      "conv_3_filter: 128\n",
      "conv_3_kernel: 4\n",
      "conv_4_filter: 416\n",
      "conv_4_kernel: 4\n",
      "dense_1_units: 48\n",
      "learning_rate: 0.0001\n",
      "optimizer: rmsprop\n",
      "Score: 0.9600810408592224\n",
      "Trial summary\n",
      "Hyperparameters:\n",
      "activation_function: LeakyReLU\n",
      "conv_1_filter: 16\n",
      "conv_1_kernel: 3\n",
      "conv_2_filter: 64\n",
      "conv_2_kernel: 4\n",
      "conv_3_filter: 352\n",
      "conv_3_kernel: 3\n",
      "conv_4_filter: 64\n",
      "conv_4_kernel: 4\n",
      "dense_1_units: 112\n",
      "learning_rate: 0.001\n",
      "optimizer: rmsprop\n",
      "Score: 0.9596757888793945\n",
      "Trial summary\n",
      "Hyperparameters:\n",
      "activation_function: tanh\n",
      "conv_1_filter: 16\n",
      "conv_1_kernel: 4\n",
      "conv_2_filter: 96\n",
      "conv_2_kernel: 4\n",
      "conv_3_filter: 32\n",
      "conv_3_kernel: 3\n",
      "conv_4_filter: 224\n",
      "conv_4_kernel: 3\n",
      "dense_1_units: 96\n",
      "learning_rate: 0.001\n",
      "optimizer: adam\n",
      "Score: 0.954407274723053\n"
     ]
    }
   ],
   "source": [
    "tuner_search.results_summary(15)"
   ]
  },
  {
   "cell_type": "code",
   "execution_count": 196,
   "id": "b40d456c",
   "metadata": {},
   "outputs": [],
   "source": [
    "model_lst=tuner_search.get_best_models(num_models=15)"
   ]
  },
  {
   "cell_type": "code",
   "execution_count": 197,
   "id": "b656c5cb",
   "metadata": {},
   "outputs": [
    {
     "data": {
      "text/plain": [
       "[<keras.engine.sequential.Sequential at 0x1f57b16fac0>,\n",
       " <keras.engine.sequential.Sequential at 0x1f57b051cd0>,\n",
       " <keras.engine.sequential.Sequential at 0x1f57b9e5fa0>,\n",
       " <keras.engine.sequential.Sequential at 0x1f57b8b14f0>,\n",
       " <keras.engine.sequential.Sequential at 0x1f57b7b41f0>,\n",
       " <keras.engine.sequential.Sequential at 0x1f57b6425b0>,\n",
       " <keras.engine.sequential.Sequential at 0x1f57b178580>,\n",
       " <keras.engine.sequential.Sequential at 0x1f57b0dbb50>,\n",
       " <keras.engine.sequential.Sequential at 0x1f55b1f52e0>,\n",
       " <keras.engine.sequential.Sequential at 0x1f1a790a430>]"
      ]
     },
     "execution_count": 197,
     "metadata": {},
     "output_type": "execute_result"
    }
   ],
   "source": [
    "model_lst"
   ]
  },
  {
   "cell_type": "code",
   "execution_count": 212,
   "id": "a765d453",
   "metadata": {},
   "outputs": [
    {
     "ename": "IndexError",
     "evalue": "list index out of range",
     "output_type": "error",
     "traceback": [
      "\u001b[1;31m---------------------------------------------------------------------------\u001b[0m",
      "\u001b[1;31mIndexError\u001b[0m                                Traceback (most recent call last)",
      "Input \u001b[1;32mIn [212]\u001b[0m, in \u001b[0;36m<cell line: 1>\u001b[1;34m()\u001b[0m\n\u001b[1;32m----> 1\u001b[0m model \u001b[38;5;241m=\u001b[39m \u001b[43mmodel_lst\u001b[49m\u001b[43m[\u001b[49m\u001b[38;5;241;43m10\u001b[39;49m\u001b[43m]\u001b[49m\n",
      "\u001b[1;31mIndexError\u001b[0m: list index out of range"
     ]
    }
   ],
   "source": [
    "model = model_lst[9]"
   ]
  },
  {
   "cell_type": "code",
   "execution_count": 211,
   "id": "5209ff73",
   "metadata": {},
   "outputs": [],
   "source": [
    "model.save('cnn_trail_20_best_10.h5')"
   ]
  },
  {
   "cell_type": "code",
   "execution_count": 185,
   "id": "c36ea8b8",
   "metadata": {},
   "outputs": [],
   "source": [
    "# from keras.utils.vis_utils import plot_model\n",
    "# plot_model(model, to_file='model_plot.jpg', show_shapes=True, show_layer_names=False, dpi =300)"
   ]
  },
  {
   "cell_type": "code",
   "execution_count": 186,
   "id": "2a0b3899",
   "metadata": {},
   "outputs": [],
   "source": [
    "# color_map = defaultdict(dict)\n",
    "# color_map[layers.Conv2D]['fill'] = 'orange'\n",
    "# color_map[layers.ZeroPadding2D]['fill'] = 'gray'\n",
    "# color_map[layers.Dropout]['fill'] = 'pink'\n",
    "# color_map[layers.MaxPooling2D]['fill'] = 'red'\n",
    "# color_map[layers.Dense]['fill'] = 'green'\n",
    "# color_map[layers.Flatten]['fill'] = 'teal'\n",
    "# visualkeras.layered_view(model, legend=True,color_map=color_map, font=font, spacing=100, scale_xy=0.5, scale_z=0.1, max_z=40)"
   ]
  },
  {
   "cell_type": "code",
   "execution_count": 53,
   "id": "5c5b4dc6",
   "metadata": {},
   "outputs": [],
   "source": [
    "from keras.callbacks import ModelCheckpoint"
   ]
  },
  {
   "cell_type": "code",
   "execution_count": 54,
   "id": "10488857",
   "metadata": {},
   "outputs": [],
   "source": [
    "import numpy\n",
    "from sklearn.metrics import precision_recall_fscore_support as score\n",
    "from sklearn.metrics import confusion_matrix\n",
    "from sklearn.metrics import roc_curve\n",
    "from sklearn.metrics import roc_auc_score\n",
    "import matplotlib.pyplot as plt\n",
    "import time"
   ]
  },
  {
   "cell_type": "code",
   "execution_count": 55,
   "id": "c2c4297a",
   "metadata": {},
   "outputs": [],
   "source": [
    "#plt.style.use('seaborn')"
   ]
  },
  {
   "cell_type": "code",
   "execution_count": 167,
   "id": "fd62380a",
   "metadata": {},
   "outputs": [],
   "source": [
    "test_data_dir = 'test_binary2/'"
   ]
  },
  {
   "cell_type": "code",
   "execution_count": 168,
   "id": "4f0a70f7",
   "metadata": {},
   "outputs": [],
   "source": [
    "#model = tf.keras.models.load_model('CNN_1024_23.h5')"
   ]
  },
  {
   "cell_type": "code",
   "execution_count": 169,
   "id": "2bff7fad",
   "metadata": {},
   "outputs": [],
   "source": [
    "test_generator = ImageDataGenerator()"
   ]
  },
  {
   "cell_type": "code",
   "execution_count": 170,
   "id": "193987b2",
   "metadata": {},
   "outputs": [
    {
     "name": "stdout",
     "output_type": "stream",
     "text": [
      "Found 328 images belonging to 2 classes.\n"
     ]
    }
   ],
   "source": [
    "test_data_gen = test_generator.flow_from_directory(test_data_dir,\n",
    "        target_size=(15, 1486),\n",
    "        batch_size= 64 ,shuffle=False,\n",
    "        class_mode= 'binary',classes=['0', '1'])"
   ]
  },
  {
   "cell_type": "code",
   "execution_count": 171,
   "id": "12fa6047",
   "metadata": {},
   "outputs": [],
   "source": [
    "test_steps_per_epoch = numpy.math.ceil(test_data_gen.samples / test_data_gen.batch_size)"
   ]
  },
  {
   "cell_type": "code",
   "execution_count": 172,
   "id": "0dcda205",
   "metadata": {},
   "outputs": [
    {
     "name": "stdout",
     "output_type": "stream",
     "text": [
      "6/6 [==============================] - 1s 30ms/step - loss: 57.4017 - accuracy: 0.8689\n"
     ]
    },
    {
     "data": {
      "text/plain": [
       "[57.401676177978516, 0.8689024448394775]"
      ]
     },
     "execution_count": 172,
     "metadata": {},
     "output_type": "execute_result"
    }
   ],
   "source": [
    "model.evaluate(test_data_gen, steps=test_steps_per_epoch)"
   ]
  },
  {
   "cell_type": "code",
   "execution_count": 173,
   "id": "e20e5f3e",
   "metadata": {},
   "outputs": [
    {
     "data": {
      "text/plain": [
       "0.0007853377156141327"
      ]
     },
     "execution_count": 173,
     "metadata": {},
     "output_type": "execute_result"
    }
   ],
   "source": [
    "start = time.time()\n",
    "predictions = model.predict(test_data_gen, steps=test_steps_per_epoch)\n",
    "end = time.time()\n",
    "(end-start)/328"
   ]
  },
  {
   "cell_type": "code",
   "execution_count": 174,
   "id": "b5a7a997",
   "metadata": {},
   "outputs": [
    {
     "data": {
      "text/plain": [
       "149.99438"
      ]
     },
     "execution_count": 174,
     "metadata": {},
     "output_type": "execute_result"
    }
   ],
   "source": [
    "predictions.sum()"
   ]
  },
  {
   "cell_type": "code",
   "execution_count": 175,
   "id": "a3f4e0e0",
   "metadata": {},
   "outputs": [],
   "source": [
    "labels = (predictions > 0.5).astype(int)"
   ]
  },
  {
   "cell_type": "code",
   "execution_count": 176,
   "id": "e7085f44",
   "metadata": {},
   "outputs": [],
   "source": [
    "true_classes = test_data_gen.classes\n",
    "class_labels = list(test_data_gen.class_indices.keys())  "
   ]
  },
  {
   "cell_type": "code",
   "execution_count": 177,
   "id": "5ee20c5b",
   "metadata": {},
   "outputs": [
    {
     "name": "stdout",
     "output_type": "stream",
     "text": [
      "              precision    recall  f1-score   support\n",
      "\n",
      "           0     0.8427    0.9091    0.8746       165\n",
      "           1     0.9000    0.8282    0.8626       163\n",
      "\n",
      "    accuracy                         0.8689       328\n",
      "   macro avg     0.8713    0.8687    0.8686       328\n",
      "weighted avg     0.8712    0.8689    0.8687       328\n",
      "\n"
     ]
    }
   ],
   "source": [
    "report = metrics.classification_report(true_classes, labels, target_names=class_labels, digits=4)\n",
    "print(report)"
   ]
  },
  {
   "cell_type": "code",
   "execution_count": 178,
   "id": "a8a353af",
   "metadata": {},
   "outputs": [
    {
     "name": "stdout",
     "output_type": "stream",
     "text": [
      "[[150  15]\n",
      " [ 28 135]]\n"
     ]
    }
   ],
   "source": [
    "print(confusion_matrix(true_classes, labels))"
   ]
  },
  {
   "cell_type": "code",
   "execution_count": 179,
   "id": "a8aa274d",
   "metadata": {},
   "outputs": [],
   "source": [
    "fpr, tpr, thresh = roc_curve(true_classes, labels, pos_label=1)"
   ]
  },
  {
   "cell_type": "code",
   "execution_count": 180,
   "id": "eea27933",
   "metadata": {},
   "outputs": [
    {
     "data": {
      "text/plain": [
       "array([0.        , 0.82822086, 1.        ])"
      ]
     },
     "execution_count": 180,
     "metadata": {},
     "output_type": "execute_result"
    }
   ],
   "source": [
    "tpr"
   ]
  },
  {
   "cell_type": "code",
   "execution_count": 181,
   "id": "731232f3",
   "metadata": {},
   "outputs": [],
   "source": [
    "# roc curve for tpr = fpr \n",
    "random_probs = [0 for i in range(328)]\n",
    "p_fpr, p_tpr, _ = roc_curve(true_classes, random_probs, pos_label=1)"
   ]
  },
  {
   "cell_type": "code",
   "execution_count": 182,
   "id": "d2b23f0e",
   "metadata": {},
   "outputs": [],
   "source": [
    "auc_score = roc_auc_score(true_classes, labels)"
   ]
  },
  {
   "cell_type": "code",
   "execution_count": 183,
   "id": "63cc7cad",
   "metadata": {},
   "outputs": [
    {
     "data": {
      "text/plain": [
       "0.8686558839933073"
      ]
     },
     "execution_count": 183,
     "metadata": {},
     "output_type": "execute_result"
    }
   ],
   "source": [
    "auc_score"
   ]
  },
  {
   "cell_type": "code",
   "execution_count": 184,
   "id": "2cafea23",
   "metadata": {},
   "outputs": [
    {
     "data": {
      "image/png": "[encoded data removed]",
      "text/plain": [
       "<Figure size 640x480 with 1 Axes>"
      ]
     },
     "metadata": {},
     "output_type": "display_data"
    }
   ],
   "source": [
    "plt.plot(fpr, tpr, linestyle='--',color='orange', label='CNN')\n",
    "#plt.plot(fpr2, tpr2, linestyle='--',color='green', label='KNN')\n",
    "plt.plot(p_fpr, p_tpr, linestyle='--', color='blue')\n",
    "# title\n",
    "plt.title('ROC curve')\n",
    "# x label\n",
    "plt.xlabel('False Positive Rate')\n",
    "# y label\n",
    "plt.ylabel('True Positive rate')\n",
    "\n",
    "plt.legend(loc='best')\n",
    "plt.savefig('ROC',dpi=300)\n",
    "plt.show();"
   ]
  },
  {
   "cell_type": "code",
   "execution_count": null,
   "id": "7774810f",
   "metadata": {},
   "outputs": [],
   "source": []
  },
  {
   "cell_type": "code",
   "execution_count": null,
   "id": "96c22058",
   "metadata": {},
   "outputs": [],
   "source": []
  }
 ],
 "metadata": {
  "kernelspec": {
   "display_name": "Python 3 (ipykernel)",
   "language": "python",
   "name": "python3"
  },
  "language_info": {
   "codemirror_mode": {
    "name": "ipython",
    "version": 3
   },
   "file_extension": ".py",
   "mimetype": "text/x-python",
   "name": "python",
   "nbconvert_exporter": "python",
   "pygments_lexer": "ipython3",
   "version": "3.9.7"
  }
 },
 "nbformat": 4,
 "nbformat_minor": 5
}
