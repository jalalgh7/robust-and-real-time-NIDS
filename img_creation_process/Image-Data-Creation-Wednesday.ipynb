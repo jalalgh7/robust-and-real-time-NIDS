{
 "cells": [
  {
   "cell_type": "code",
   "execution_count": 1,
   "id": "832667df",
   "metadata": {},
   "outputs": [],
   "source": [
    "import pickle \n",
    "import numpy as np\n",
    "import pandas as pd\n",
    "import statistics"
   ]
  },
  {
   "cell_type": "code",
   "execution_count": 2,
   "id": "0e9c9ffd",
   "metadata": {},
   "outputs": [],
   "source": [
    "from PIL import Image\n",
    "import cv2 \n",
    "import os "
   ]
  },
  {
   "cell_type": "code",
   "execution_count": 3,
   "id": "9421cfbc",
   "metadata": {},
   "outputs": [],
   "source": [
    "import random\n",
    "import time"
   ]
  },
  {
   "cell_type": "code",
   "execution_count": 4,
   "id": "021119e5",
   "metadata": {},
   "outputs": [],
   "source": [
    "wed_data = pd.read_pickle('Wednesday_Packet_Level_Data.pkl')"
   ]
  },
  {
   "cell_type": "code",
   "execution_count": 5,
   "id": "bb7f7593",
   "metadata": {},
   "outputs": [],
   "source": [
    "df = wed_data.copy()"
   ]
  },
  {
   "cell_type": "code",
   "execution_count": 6,
   "id": "a09a0ec4",
   "metadata": {},
   "outputs": [],
   "source": [
    "df = df[df['Class Label'] == 0.0]"
   ]
  },
  {
   "cell_type": "code",
   "execution_count": 7,
   "id": "02dd305a",
   "metadata": {},
   "outputs": [],
   "source": [
    "df = df.reset_index(drop=True)"
   ]
  },
  {
   "cell_type": "code",
   "execution_count": 8,
   "id": "b24daf17",
   "metadata": {},
   "outputs": [
    {
     "data": {
      "text/html": [
       "<div>\n",
       "<style scoped>\n",
       "    .dataframe tbody tr th:only-of-type {\n",
       "        vertical-align: middle;\n",
       "    }\n",
       "\n",
       "    .dataframe tbody tr th {\n",
       "        vertical-align: top;\n",
       "    }\n",
       "\n",
       "    .dataframe thead th {\n",
       "        text-align: right;\n",
       "    }\n",
       "</style>\n",
       "<table border=\"1\" class=\"dataframe\">\n",
       "  <thead>\n",
       "    <tr style=\"text-align: right;\">\n",
       "      <th></th>\n",
       "      <th>Epoch Time</th>\n",
       "      <th>Source IP</th>\n",
       "      <th>Dst IP</th>\n",
       "      <th>Source Port</th>\n",
       "      <th>Dst Port</th>\n",
       "      <th>Stream Index</th>\n",
       "      <th>Sequence Number</th>\n",
       "      <th>Eth Header</th>\n",
       "      <th>IP Header</th>\n",
       "      <th>TCP Header</th>\n",
       "      <th>Payload</th>\n",
       "      <th>Direction</th>\n",
       "      <th>Binary Label</th>\n",
       "      <th>Class Label</th>\n",
       "    </tr>\n",
       "  </thead>\n",
       "  <tbody>\n",
       "    <tr>\n",
       "      <th>0</th>\n",
       "      <td>1499254962.448456000</td>\n",
       "      <td>192.168.10.14</td>\n",
       "      <td>40.83.143.209</td>\n",
       "      <td>49460</td>\n",
       "      <td>443</td>\n",
       "      <td>1</td>\n",
       "      <td>1</td>\n",
       "      <td>00c1b114eb31b8ac6f3607ee0800</td>\n",
       "      <td>4500013d009f400080067641c0a80a0e28538fd1</td>\n",
       "      <td>c13401bb3be0755575a579ec5018010201c10000</td>\n",
       "      <td>1703030110f19e9b23db6b8b319b6bbf387a8beadf208f...</td>\n",
       "      <td>fwd</td>\n",
       "      <td>0.0</td>\n",
       "      <td>0.0</td>\n",
       "    </tr>\n",
       "    <tr>\n",
       "      <th>1</th>\n",
       "      <td>1499254962.448560000</td>\n",
       "      <td>192.168.10.14</td>\n",
       "      <td>40.83.143.209</td>\n",
       "      <td>49460</td>\n",
       "      <td>443</td>\n",
       "      <td>1</td>\n",
       "      <td>278</td>\n",
       "      <td>00c1b114eb31b8ac6f3607ee0800</td>\n",
       "      <td>450005c800a04000800671b5c0a80a0e28538fd1</td>\n",
       "      <td>c13401bb3be0766a75a579ec50100102cadb0000</td>\n",
       "      <td>1703030e308a23eb8dc1f99b3718cf452e9db49a86e8d8...</td>\n",
       "      <td>fwd</td>\n",
       "      <td>0.0</td>\n",
       "      <td>0.0</td>\n",
       "    </tr>\n",
       "    <tr>\n",
       "      <th>2</th>\n",
       "      <td>1499254962.448610000</td>\n",
       "      <td>192.168.10.14</td>\n",
       "      <td>40.83.143.209</td>\n",
       "      <td>49460</td>\n",
       "      <td>443</td>\n",
       "      <td>1</td>\n",
       "      <td>1718</td>\n",
       "      <td>00c1b114eb31b8ac6f3607ee0800</td>\n",
       "      <td>450008bd00a1400080066ebfc0a80a0e28538fd1</td>\n",
       "      <td>c13401bb3be07c0a75a579ec501801028b8a0000</td>\n",
       "      <td>5c0cf0c251f7c62c05ca94e31611146e573a54c6f33077...</td>\n",
       "      <td>fwd</td>\n",
       "      <td>0.0</td>\n",
       "      <td>0.0</td>\n",
       "    </tr>\n",
       "    <tr>\n",
       "      <th>3</th>\n",
       "      <td>1499254962.992908000</td>\n",
       "      <td>192.168.10.14</td>\n",
       "      <td>40.83.143.209</td>\n",
       "      <td>49460</td>\n",
       "      <td>443</td>\n",
       "      <td>1</td>\n",
       "      <td>3915</td>\n",
       "      <td>00c1b114eb31b8ac6f3607ee0800</td>\n",
       "      <td>4500002800a3400080067752c0a80a0e28538fd1</td>\n",
       "      <td>c13401bb3be0849f75a57b2150100101b7c20000</td>\n",
       "      <td>000000000000</td>\n",
       "      <td>fwd</td>\n",
       "      <td>0.0</td>\n",
       "      <td>0.0</td>\n",
       "    </tr>\n",
       "    <tr>\n",
       "      <th>4</th>\n",
       "      <td>1499254963.604097000</td>\n",
       "      <td>192.168.10.12</td>\n",
       "      <td>192.168.10.3</td>\n",
       "      <td>59656</td>\n",
       "      <td>3268</td>\n",
       "      <td>2</td>\n",
       "      <td>1</td>\n",
       "      <td>1866da9be37db8ac6f3604e30800</td>\n",
       "      <td>450001c40e274000400695adc0a80a0cc0a80a03</td>\n",
       "      <td>e9080cc4e2fefcdb3fdca8bb8018012b9e780000010108...</td>\n",
       "      <td>0000018c6082018806092a864886f71201020202011100...</td>\n",
       "      <td>fwd</td>\n",
       "      <td>0.0</td>\n",
       "      <td>0.0</td>\n",
       "    </tr>\n",
       "  </tbody>\n",
       "</table>\n",
       "</div>"
      ],
      "text/plain": [
       "             Epoch Time      Source IP         Dst IP  Source Port  Dst Port  \\\n",
       "0  1499254962.448456000  192.168.10.14  40.83.143.209        49460       443   \n",
       "1  1499254962.448560000  192.168.10.14  40.83.143.209        49460       443   \n",
       "2  1499254962.448610000  192.168.10.14  40.83.143.209        49460       443   \n",
       "3  1499254962.992908000  192.168.10.14  40.83.143.209        49460       443   \n",
       "4  1499254963.604097000  192.168.10.12   192.168.10.3        59656      3268   \n",
       "\n",
       "  Stream Index Sequence Number                    Eth Header  \\\n",
       "0            1               1  00c1b114eb31b8ac6f3607ee0800   \n",
       "1            1             278  00c1b114eb31b8ac6f3607ee0800   \n",
       "2            1            1718  00c1b114eb31b8ac6f3607ee0800   \n",
       "3            1            3915  00c1b114eb31b8ac6f3607ee0800   \n",
       "4            2               1  1866da9be37db8ac6f3604e30800   \n",
       "\n",
       "                                  IP Header  \\\n",
       "0  4500013d009f400080067641c0a80a0e28538fd1   \n",
       "1  450005c800a04000800671b5c0a80a0e28538fd1   \n",
       "2  450008bd00a1400080066ebfc0a80a0e28538fd1   \n",
       "3  4500002800a3400080067752c0a80a0e28538fd1   \n",
       "4  450001c40e274000400695adc0a80a0cc0a80a03   \n",
       "\n",
       "                                          TCP Header  \\\n",
       "0           c13401bb3be0755575a579ec5018010201c10000   \n",
       "1           c13401bb3be0766a75a579ec50100102cadb0000   \n",
       "2           c13401bb3be07c0a75a579ec501801028b8a0000   \n",
       "3           c13401bb3be0849f75a57b2150100101b7c20000   \n",
       "4  e9080cc4e2fefcdb3fdca8bb8018012b9e780000010108...   \n",
       "\n",
       "                                             Payload Direction  Binary Label  \\\n",
       "0  1703030110f19e9b23db6b8b319b6bbf387a8beadf208f...       fwd           0.0   \n",
       "1  1703030e308a23eb8dc1f99b3718cf452e9db49a86e8d8...       fwd           0.0   \n",
       "2  5c0cf0c251f7c62c05ca94e31611146e573a54c6f33077...       fwd           0.0   \n",
       "3                                       000000000000       fwd           0.0   \n",
       "4  0000018c6082018806092a864886f71201020202011100...       fwd           0.0   \n",
       "\n",
       "   Class Label  \n",
       "0          0.0  \n",
       "1          0.0  \n",
       "2          0.0  \n",
       "3          0.0  \n",
       "4          0.0  "
      ]
     },
     "execution_count": 8,
     "metadata": {},
     "output_type": "execute_result"
    }
   ],
   "source": [
    "df.head(5)"
   ]
  },
  {
   "cell_type": "code",
   "execution_count": 9,
   "id": "3319a587",
   "metadata": {},
   "outputs": [
    {
     "data": {
      "text/plain": [
       "8845368"
      ]
     },
     "execution_count": 9,
     "metadata": {},
     "output_type": "execute_result"
    }
   ],
   "source": [
    "len(df)"
   ]
  },
  {
   "cell_type": "code",
   "execution_count": 10,
   "id": "e0042d3e",
   "metadata": {},
   "outputs": [
    {
     "data": {
      "text/plain": [
       "(8845368, 14)"
      ]
     },
     "execution_count": 10,
     "metadata": {},
     "output_type": "execute_result"
    }
   ],
   "source": [
    "df.shape"
   ]
  },
  {
   "cell_type": "code",
   "execution_count": 11,
   "id": "25881a69",
   "metadata": {},
   "outputs": [],
   "source": [
    "df[['Payload']] = df[['Payload']].replace('', '00')"
   ]
  },
  {
   "cell_type": "code",
   "execution_count": 12,
   "id": "1938c3dc",
   "metadata": {},
   "outputs": [
    {
     "data": {
      "text/plain": [
       "0.0    8845368\n",
       "Name: Class Label, dtype: int64"
      ]
     },
     "execution_count": 12,
     "metadata": {},
     "output_type": "execute_result"
    }
   ],
   "source": [
    "df['Class Label'].value_counts()"
   ]
  },
  {
   "cell_type": "code",
   "execution_count": 13,
   "id": "75926f8e",
   "metadata": {},
   "outputs": [
    {
     "data": {
      "text/html": [
       "<div>\n",
       "<style scoped>\n",
       "    .dataframe tbody tr th:only-of-type {\n",
       "        vertical-align: middle;\n",
       "    }\n",
       "\n",
       "    .dataframe tbody tr th {\n",
       "        vertical-align: top;\n",
       "    }\n",
       "\n",
       "    .dataframe thead th {\n",
       "        text-align: right;\n",
       "    }\n",
       "</style>\n",
       "<table border=\"1\" class=\"dataframe\">\n",
       "  <thead>\n",
       "    <tr style=\"text-align: right;\">\n",
       "      <th>Class Label</th>\n",
       "      <th>0.0</th>\n",
       "    </tr>\n",
       "    <tr>\n",
       "      <th>Direction</th>\n",
       "      <th></th>\n",
       "    </tr>\n",
       "  </thead>\n",
       "  <tbody>\n",
       "    <tr>\n",
       "      <th>bwd</th>\n",
       "      <td>4829522</td>\n",
       "    </tr>\n",
       "    <tr>\n",
       "      <th>fwd</th>\n",
       "      <td>4015846</td>\n",
       "    </tr>\n",
       "  </tbody>\n",
       "</table>\n",
       "</div>"
      ],
      "text/plain": [
       "Class Label      0.0\n",
       "Direction           \n",
       "bwd          4829522\n",
       "fwd          4015846"
      ]
     },
     "execution_count": 13,
     "metadata": {},
     "output_type": "execute_result"
    }
   ],
   "source": [
    "df.groupby(['Direction', 'Class Label']).size().unstack(fill_value=0)"
   ]
  },
  {
   "cell_type": "code",
   "execution_count": 14,
   "id": "b37577c5",
   "metadata": {},
   "outputs": [],
   "source": [
    "ip_header_lst = []\n",
    "\n",
    "for i in range(len(df)):\n",
    "    x = df['IP Header'][i]\n",
    "    byte_array = bytes.fromhex(x)\n",
    "    byte_lst = list(byte_array)\n",
    "    if (len(byte_lst) < 20):\n",
    "            output = np.pad(byte_lst, (0, 20-len(byte_lst)), 'constant')\n",
    "    else:\n",
    "            output = np.array(byte_lst[0:20].copy())\n",
    "            \n",
    "    output = np.delete(output, [0, 1, 9, 12, 13, 14, 15, 16, 17, 18, 19])\n",
    "    ip_header_lst.append(output)\n",
    "    \n",
    "df['IP Header Array'] = ip_header_lst"
   ]
  },
  {
   "cell_type": "code",
   "execution_count": null,
   "id": "04cda4c0",
   "metadata": {},
   "outputs": [],
   "source": []
  },
  {
   "cell_type": "code",
   "execution_count": 15,
   "id": "d7124556",
   "metadata": {},
   "outputs": [],
   "source": [
    "tcp_header_lst = []\n",
    "\n",
    "for i in range(len(df)):\n",
    "    x = df['TCP Header'][i]\n",
    "    byte_array = bytes.fromhex(x)\n",
    "    byte_lst = list(byte_array)\n",
    "    if (len(byte_lst) < 20):\n",
    "            output = np.pad(byte_lst, (0, 20-len(byte_lst)), 'constant')\n",
    "    else:\n",
    "            output = np.array(byte_lst[0:20].copy())\n",
    "            \n",
    "    output = np.delete(output, [0, 1, 2, 3])\n",
    "    tcp_header_lst.append(output)\n",
    "    \n",
    "df['TCP Header Array'] = tcp_header_lst"
   ]
  },
  {
   "cell_type": "code",
   "execution_count": 16,
   "id": "8148506e",
   "metadata": {},
   "outputs": [],
   "source": [
    "tcp_segment_data_lst = []\n",
    "\n",
    "for i in range(len(df)):\n",
    "    x = df['Payload'][i]\n",
    "    byte_array = bytes.fromhex(x)\n",
    "    byte_lst = list(byte_array)\n",
    "    if (len(byte_lst) < 1460):\n",
    "            output = np.pad(byte_lst, (0, 1460-len(byte_lst)), 'constant')\n",
    "    else:\n",
    "            output = np.array(byte_lst[0:1460].copy())\n",
    "            \n",
    "\n",
    "    tcp_segment_data_lst.append(output)\n",
    "    \n",
    "df['Payload Array'] = tcp_segment_data_lst"
   ]
  },
  {
   "cell_type": "code",
   "execution_count": 17,
   "id": "2ec2a2de",
   "metadata": {},
   "outputs": [],
   "source": [
    "df['pkt_img_values'] = df.apply(lambda x : (np.append(x['IP Header Array'], np.append(x['TCP Header Array'], x['Payload Array']))), axis=1)"
   ]
  },
  {
   "cell_type": "code",
   "execution_count": 18,
   "id": "2850e8c9",
   "metadata": {},
   "outputs": [],
   "source": [
    "df.drop(columns=[ 'Source IP', 'Dst IP', 'Source Port', 'Dst Port', 'Eth Header', 'IP Header',\n",
    "       'TCP Header', 'Payload', 'IP Header Array', 'TCP Header Array', 'Payload Array'],inplace=True)\n"
   ]
  },
  {
   "cell_type": "code",
   "execution_count": 19,
   "id": "cb6fdf4c",
   "metadata": {},
   "outputs": [],
   "source": [
    "new_cols = ['Epoch Time','Stream Index', 'Sequence Number', 'Direction', 'pkt_img_values','Binary Label', 'Class Label']\n",
    "df = df[new_cols]"
   ]
  },
  {
   "cell_type": "code",
   "execution_count": 20,
   "id": "39e31da4",
   "metadata": {},
   "outputs": [
    {
     "data": {
      "text/plain": [
       "0.0    8845368\n",
       "Name: Class Label, dtype: int64"
      ]
     },
     "execution_count": 20,
     "metadata": {},
     "output_type": "execute_result"
    }
   ],
   "source": [
    "df['Class Label'].value_counts()"
   ]
  },
  {
   "cell_type": "code",
   "execution_count": 21,
   "id": "aa229b05",
   "metadata": {},
   "outputs": [],
   "source": [
    "df['Stream Index'] = df['Stream Index'].astype(int)"
   ]
  },
  {
   "cell_type": "code",
   "execution_count": 22,
   "id": "7929c278",
   "metadata": {},
   "outputs": [],
   "source": [
    "df['Epoch Time'] = df['Epoch Time'].astype(float)"
   ]
  },
  {
   "cell_type": "code",
   "execution_count": 23,
   "id": "3811d5db",
   "metadata": {},
   "outputs": [],
   "source": [
    "df['Sequence Number'] = df['Sequence Number'].astype('int64')"
   ]
  },
  {
   "cell_type": "code",
   "execution_count": 24,
   "id": "e98ffcb5",
   "metadata": {},
   "outputs": [],
   "source": [
    "#df.to_pickle('pkt_image_data_wednesday.pkl')"
   ]
  },
  {
   "cell_type": "code",
   "execution_count": null,
   "id": "8399ce90",
   "metadata": {},
   "outputs": [
    {
     "name": "stderr",
     "output_type": "stream",
     "text": [
      "C:\\Users\\Jalal\\AppData\\Local\\Temp\\ipykernel_16976\\499766766.py:2: SettingWithCopyWarning: \n",
      "A value is trying to be set on a copy of a slice from a DataFrame\n",
      "\n",
      "See the caveats in the documentation: https://pandas.pydata.org/pandas-docs/stable/user_guide/indexing.html#returning-a-view-versus-a-copy\n",
      "  df['pkt_img_values'][m] = np.insert(df['pkt_img_values'][m], 0, 0)\n"
     ]
    }
   ],
   "source": [
    "for m in range(len(df)):\n",
    "    df['pkt_img_values'][m] = np.insert(df['pkt_img_values'][m], 0, 0)  "
   ]
  },
  {
   "cell_type": "code",
   "execution_count": null,
   "id": "ad478831",
   "metadata": {},
   "outputs": [],
   "source": [
    "class_lst = list(df['Class Label'].unique())"
   ]
  },
  {
   "cell_type": "code",
   "execution_count": null,
   "id": "17674cee",
   "metadata": {},
   "outputs": [],
   "source": [
    "class_lst"
   ]
  },
  {
   "cell_type": "code",
   "execution_count": null,
   "id": "aa7f24a4",
   "metadata": {},
   "outputs": [],
   "source": [
    "##Slowloris = 1\n",
    "##slowhttptest = 2\n",
    "##HULK = 3\n",
    "#GOLDENEYE = 4\n",
    "#Heartbleed = 5"
   ]
  },
  {
   "cell_type": "code",
   "execution_count": null,
   "id": "58861e8f",
   "metadata": {},
   "outputs": [],
   "source": [
    "pd.options.mode.chained_assignment = None "
   ]
  },
  {
   "cell_type": "code",
   "execution_count": null,
   "id": "08de3f8f",
   "metadata": {},
   "outputs": [],
   "source": [
    "for i in range(len(class_lst)):\n",
    "   \n",
    "    df_class = df[df['Class Label']==class_lst[i]]\n",
    "    #df_class = df_class.sort_values(by = 'Stream Index')\n",
    "    print('class category is:', class_lst[i])\n",
    "    streams_lst = list(df_class['Stream Index'].unique())\n",
    "    print('Total number of flows in class:', len(streams_lst))\n",
    "    \n",
    "    random.shuffle(streams_lst)\n",
    "    \n",
    "    #if class_lst[i]==0.0 or class_lst[i]==3.0:\n",
    "        \n",
    "       # streams_lst = random.sample(streams_lst, 6700)\n",
    "       # random.shuffle(streams_lst)\n",
    "    \n",
    "    \n",
    "    \n",
    "    pkts_per_flow = []\n",
    "    time_spent_per_class = []\n",
    "\n",
    "    for j in range(len(streams_lst)):\n",
    "\n",
    "        df_stream = df_class[df_class['Stream Index'] == streams_lst[j]]\n",
    "\n",
    "\n",
    "        df_stream = df_stream.sort_values(by = 'Epoch Time')\n",
    "        df_stream = df_stream.reset_index(drop=True)\n",
    "\n",
    "        \n",
    "        pkts_per_flow.append(len(df_stream))\n",
    "        \n",
    "        \n",
    "        \n",
    "#         IAT_list = [0]\n",
    "#         for z in range(len(df_stream)-1):\n",
    "#             IAT = df_stream['Epoch Time'][z+1] - df_stream['Epoch Time'][z]\n",
    "    \n",
    "#             IAT_list.append(IAT)\n",
    "    \n",
    "#         minimum = min(IAT_list)\n",
    "#         maximum = max(IAT_list)\n",
    "#         IAT_pix_value = [(0 if maximum-minimum == 0 else (round(255*(IAT_list[x] - minimum)/(maximum-minimum)))) for x in range(len(IAT_list))]\n",
    "        \n",
    "#         for m in range(len(df_stream)):\n",
    "#             df_stream['pkt_img_values'][m] = np.insert(df_stream['pkt_img_values'][m], 0, 0)        \n",
    "        \n",
    "        \n",
    "\n",
    "        \n",
    "        arr = np.zeros((15, 1486, 3), 'uint8')\n",
    "        red_arr = np.zeros([15, 1486])\n",
    "        green_arr = np.zeros([15, 1486])\n",
    "        blue_arr = np.full([15, 1486], 0.0)\n",
    "        \n",
    "        for k in range(15):\n",
    "            os.chdir('C:\\\\Users\\\\Jalal\\\\Desktop\\\\NIDS Datasets\\\\CICIDS2017\\\\Image data 4\\\\Wednesday_benign')\n",
    "\n",
    "            \n",
    "            \n",
    "            if k >= len(df_stream):\n",
    "                break\n",
    "                \n",
    "            t0 = time.time()\n",
    "            \n",
    "            if (df_stream['Direction'][k] =='fwd'): \n",
    "                \n",
    "                 red_arr[k,:] += df_stream['pkt_img_values'][k][:1486]\n",
    "            \n",
    "            \n",
    "            else:\n",
    "                green_arr[k,:] += df_stream['pkt_img_values'][k][:1486]\n",
    "            \n",
    "            \n",
    "            \n",
    "            arr[:,:,0] = red_arr\n",
    "            arr[:,:,1] = green_arr\n",
    "            arr[:,:,2] = blue_arr\n",
    "\n",
    "            img = Image.fromarray(arr, 'RGB')\n",
    "\n",
    "            t1 = time.time()\n",
    "            total_time_per_image = t1-t0\n",
    "            \n",
    "            time_spent_per_class.append(total_time_per_image)\n",
    "            \n",
    "            \n",
    "            image_name = \"Strm\" + \"_\"+str(streams_lst[j]) + \"_\"+\"img\"+ \"_\"+str(k+1) +\"_\"+\"pkts.png\"\n",
    "            os.makedirs(os.path.join(str(class_lst[i]), str(k+1)), exist_ok=True)\n",
    "            directory=os.path.join('C:\\\\Users\\\\Jalal\\\\Desktop\\\\NIDS Datasets\\\\CICIDS2017\\\\Image data 4\\\\Wednesday_benign',(os.path.join(str(class_lst[i]), str(k+1))))\n",
    "            file_path = os.path.join(directory, image_name)\n",
    "            os.chdir(directory)\n",
    "            img.save(file_path)\n",
    "            \n",
    "\n",
    "    \n",
    "    #print(\"Packets in all flows list % s\" %(pkts_per_flow))   \n",
    "    print(\"Average of pkts in flows are % s\" % (statistics.mean(pkts_per_flow)))\n",
    "    print(\"Median of pkts in flows are % s\" % (statistics.median(pkts_per_flow)))\n",
    "    print(\"Mode of pkts is % s\" % (statistics.mode(pkts_per_flow)))\n",
    "    print(\"Average time spend per image for all flows in class is %s seconds\" % (statistics.mean(time_spent_per_class)))\n",
    "    print('==============================================')"
   ]
  },
  {
   "cell_type": "code",
   "execution_count": null,
   "id": "a8ff8d00",
   "metadata": {},
   "outputs": [],
   "source": []
  },
  {
   "cell_type": "code",
   "execution_count": null,
   "id": "b311adec",
   "metadata": {},
   "outputs": [],
   "source": []
  },
  {
   "cell_type": "code",
   "execution_count": null,
   "id": "398d3fc2",
   "metadata": {},
   "outputs": [],
   "source": []
  },
  {
   "cell_type": "code",
   "execution_count": null,
   "id": "8405824e",
   "metadata": {},
   "outputs": [],
   "source": []
  },
  {
   "cell_type": "code",
   "execution_count": null,
   "id": "b3d8e1cb",
   "metadata": {},
   "outputs": [],
   "source": []
  }
 ],
 "metadata": {
  "kernelspec": {
   "display_name": "Python 3 (ipykernel)",
   "language": "python",
   "name": "python3"
  },
  "language_info": {
   "codemirror_mode": {
    "name": "ipython",
    "version": 3
   },
   "file_extension": ".py",
   "mimetype": "text/x-python",
   "name": "python",
   "nbconvert_exporter": "python",
   "pygments_lexer": "ipython3",
   "version": "3.9.7"
  }
 },
 "nbformat": 4,
 "nbformat_minor": 5
}
