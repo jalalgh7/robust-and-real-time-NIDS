{
 "cells": [
  {
   "cell_type": "code",
   "execution_count": 1,
   "id": "832667df",
   "metadata": {},
   "outputs": [],
   "source": [
    "import pickle \n",
    "import numpy as np\n",
    "import pandas as pd\n",
    "from skimage import io\n",
    "import matplotlib.pyplot as plt\n",
    "from PIL import Image\n",
    "import cv2 \n",
    "import os "
   ]
  },
  {
   "cell_type": "code",
   "execution_count": 353,
   "id": "d1ee8bca",
   "metadata": {},
   "outputs": [],
   "source": [
    "##botnet=12\n",
    "##port scan = 13\n",
    "##ddos =14"
   ]
  },
  {
   "cell_type": "code",
   "execution_count": 540,
   "id": "e73cb902",
   "metadata": {},
   "outputs": [],
   "source": [
    "os.chdir('..')"
   ]
  },
  {
   "cell_type": "code",
   "execution_count": 541,
   "id": "703e96e9",
   "metadata": {},
   "outputs": [],
   "source": [
    "os.chdir('15')"
   ]
  },
  {
   "cell_type": "code",
   "execution_count": 542,
   "id": "a70051bb",
   "metadata": {},
   "outputs": [
    {
     "data": {
      "text/plain": [
       "'C:\\\\Users\\\\Jalal\\\\Desktop\\\\NIDS Datasets\\\\CICIDS2017\\\\image data 4\\\\Tuesday\\\\7.0\\\\15'"
      ]
     },
     "execution_count": 542,
     "metadata": {},
     "output_type": "execute_result"
    }
   ],
   "source": [
    "os.getcwd()"
   ]
  },
  {
   "cell_type": "code",
   "execution_count": 543,
   "id": "ad516e74",
   "metadata": {},
   "outputs": [
    {
     "name": "stdout",
     "output_type": "stream",
     "text": [
      "115\n"
     ]
    }
   ],
   "source": [
    "# Access all PNG files in directory\n",
    "allfiles=os.listdir(os.getcwd())\n",
    "imlist=[filename for filename in allfiles if  filename[-8:] in [\"pkts.png\"]]\n",
    "print(len(imlist))"
   ]
  },
  {
   "cell_type": "code",
   "execution_count": 544,
   "id": "2d77c666",
   "metadata": {},
   "outputs": [],
   "source": [
    "# Assuming all images are the same size, get dimensions of first image\n",
    "w,h=Image.open(imlist[0]).size\n",
    "N=len(imlist)\n",
    "\n",
    "# Create a numpy array of floats to store the average (assume RGB images)\n",
    "arr=np.zeros((h,w,3), float)\n",
    "\n",
    "# Build up average pixel intensities, casting each image as an array of floats\n",
    "for im in imlist:\n",
    "    imarr=np.array(Image.open(im),dtype=float)\n",
    "    arr=arr+imarr/N"
   ]
  },
  {
   "cell_type": "code",
   "execution_count": 545,
   "id": "e4db8a80",
   "metadata": {},
   "outputs": [],
   "source": [
    "# Round values in array and cast as 8-bit integer\n",
    "arr=np.array(np.round(arr),dtype='uint8')"
   ]
  },
  {
   "cell_type": "code",
   "execution_count": 546,
   "id": "4e2a1cd6",
   "metadata": {},
   "outputs": [],
   "source": [
    "# Generate, save and preview final image\n",
    "out=Image.fromarray(arr,mode=\"RGB\")\n",
    "out.save(r\"C:\\Users\\Jalal\\Desktop\\NIDS Datasets\\CICIDS2017\\Image data 4\\Avg_images_ssh\\ssh15.png\")\n"
   ]
  },
  {
   "cell_type": "code",
   "execution_count": null,
   "id": "58179412",
   "metadata": {},
   "outputs": [],
   "source": []
  },
  {
   "cell_type": "code",
   "execution_count": null,
   "id": "c0c91261",
   "metadata": {},
   "outputs": [],
   "source": []
  },
  {
   "cell_type": "code",
   "execution_count": null,
   "id": "d3a9482b",
   "metadata": {},
   "outputs": [],
   "source": []
  },
  {
   "cell_type": "code",
   "execution_count": null,
   "id": "5494aafd",
   "metadata": {},
   "outputs": [],
   "source": []
  },
  {
   "cell_type": "code",
   "execution_count": 14,
   "id": "9dacc5f1",
   "metadata": {},
   "outputs": [
    {
     "data": {
      "image/png": "[encoded data removed]",
      "text/plain": [
       "<Figure size 640x480 with 1 Axes>"
      ]
     },
     "metadata": {},
     "output_type": "display_data"
    }
   ],
   "source": [
    "image = io.imread(r\"C:\\Users\\Jalal\\Desktop\\NIDS Datasets\\CICIDS2017\\Image data 4\\Avg_images\\benign1.png\")\n",
    "\n",
    "_ = plt.hist(image.ravel(), bins = 256, color = 'orange', alpha = 0.3 )\n",
    "_ = plt.hist(image[:, :, 0].ravel(), bins = 256, color = 'red', alpha = 1)\n",
    "_ = plt.hist(image[:, :, 1].ravel(), bins = 256, color = 'Green', alpha = 1)\n",
    "_ = plt.hist(image[:, :, 2].ravel(), bins = 256, color = 'Blue', alpha = 1)\n",
    "_ = plt.xlabel('Intensity Value')\n",
    "_ = plt.ylabel('Count')\n",
    "_ = plt.legend(['Total', 'Red_Channel', 'Green_Channel', 'Blue_Channel'])\n",
    "plt.xlim(left=1)\n",
    "plt.xlim(right=254)\n",
    "plt.ylim((0,125))\n",
    "plt.show()"
   ]
  },
  {
   "cell_type": "code",
   "execution_count": null,
   "id": "6f638583",
   "metadata": {},
   "outputs": [],
   "source": []
  },
  {
   "cell_type": "code",
   "execution_count": null,
   "id": "692dd4a3",
   "metadata": {},
   "outputs": [],
   "source": []
  }
 ],
 "metadata": {
  "kernelspec": {
   "display_name": "Python 3 (ipykernel)",
   "language": "python",
   "name": "python3"
  },
  "language_info": {
   "codemirror_mode": {
    "name": "ipython",
    "version": 3
   },
   "file_extension": ".py",
   "mimetype": "text/x-python",
   "name": "python",
   "nbconvert_exporter": "python",
   "pygments_lexer": "ipython3",
   "version": "3.9.7"
  }
 },
 "nbformat": 4,
 "nbformat_minor": 5
}
