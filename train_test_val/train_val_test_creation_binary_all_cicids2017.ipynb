{
 "cells": [
  {
   "cell_type": "code",
   "execution_count": 2,
   "id": "529ac3b2",
   "metadata": {},
   "outputs": [],
   "source": [
    "import pickle \n",
    "import numpy as np\n",
    "import pandas as pd\n",
    "from skimage import io\n",
    "import matplotlib.pyplot as plt\n",
    "from PIL import Image\n",
    "import cv2 \n",
    "import os \n",
    "import random\n",
    "import sys, os, glob, shutil\n",
    "from random import shuffle"
   ]
  },
  {
   "cell_type": "code",
   "execution_count": 3,
   "id": "33d905de",
   "metadata": {},
   "outputs": [],
   "source": [
    "##benign = 0, 914343\n",
    "##Slowloris = 1, 7414\n",
    "##slowhttptest = 2, 5365\n",
    "##HULK = 3, 689675\n",
    "#GOLDENEYE = 4, 26932\n",
    "#Heartbleed = 5, 17210\n",
    "##ftp-patator = 6, 2541\n",
    "##ssh-patator = 7, 2046\n",
    "##webattack-brute = 8, 1418\n",
    "##webattack-xss = 9\n",
    "##webattack_sql =10\n",
    "##infiltration = 11, 18220\n",
    "##botnet=12, 3734\n",
    "##port scan = 13, 114158\n",
    "##ddos =14, 320748"
   ]
  },
  {
   "cell_type": "code",
   "execution_count": 4,
   "id": "e0cc7e1b",
   "metadata": {},
   "outputs": [],
   "source": [
    "##benign = 0\n",
    "##Slowloris = 1\n",
    "##slowhttptest = 2\n",
    "##HULK = 3\n",
    "#GOLDENEYE = 4\n",
    "#Heartbleed = 5\n",
    "##ftp-patator = 6\n",
    "##ssh-patator = 7\n",
    "##webattack-brute = 8\n",
    "##infiltration = 11\n",
    "##port scan = 13\n",
    "##ddos =14"
   ]
  },
  {
   "cell_type": "code",
   "execution_count": 5,
   "id": "10517ca0",
   "metadata": {},
   "outputs": [],
   "source": [
    "#grouped attacks\n",
    "\n",
    "#benign = 0\n",
    "#Dos (slowloris, slowhttptest, hulk, goldeneye, heartbleed) =1\n",
    "#Bruteforce(ftp-patator, ssh-patator) = 2\n",
    "#Webattack(webattack-bruteforce) = 3 Do not include 165 per image\n",
    "#infiltration = 3\n",
    "#botnet =4\n",
    "#portscan =5\n",
    "#ddos =6"
   ]
  },
  {
   "cell_type": "code",
   "execution_count": 1387,
   "id": "689a3b0c",
   "metadata": {},
   "outputs": [],
   "source": [
    "os.chdir('..')"
   ]
  },
  {
   "cell_type": "code",
   "execution_count": 7,
   "id": "f63d995d",
   "metadata": {},
   "outputs": [],
   "source": [
    "os.chdir('Wednesday_benign/0.0/1')"
   ]
  },
  {
   "cell_type": "code",
   "execution_count": 19,
   "id": "86057655",
   "metadata": {},
   "outputs": [
    {
     "data": {
      "text/plain": [
       "'C:\\\\Users\\\\Jalal\\\\Desktop\\\\NIDS Datasets\\\\CICIDS2017\\\\image data 4\\\\Wednesday_benign\\\\0.0\\\\1'"
      ]
     },
     "execution_count": 19,
     "metadata": {},
     "output_type": "execute_result"
    }
   ],
   "source": [
    "os.getcwd()"
   ]
  },
  {
   "cell_type": "code",
   "execution_count": 20,
   "id": "59ab0b8d",
   "metadata": {},
   "outputs": [],
   "source": [
    "#%%%%%%%%%%%%%%%%%%%%%%%%%%%%%%%%%%%%%%%%%%%%%%%%%%%%%%%%%%%%%%%%%%%%%%%%%%%%%%%%%%%%%%%%%%%"
   ]
  },
  {
   "cell_type": "code",
   "execution_count": 21,
   "id": "038e4a29",
   "metadata": {},
   "outputs": [
    {
     "name": "stdout",
     "output_type": "stream",
     "text": [
      "103133\n"
     ]
    },
    {
     "data": {
      "text/plain": [
       "102038"
      ]
     },
     "execution_count": 21,
     "metadata": {},
     "output_type": "execute_result"
    }
   ],
   "source": [
    "# Access all PNG files in directory\n",
    "allfiles=os.listdir(os.getcwd())\n",
    "imlist=[filename for filename in allfiles if  filename[-8:] in [\"pkts.png\"]]\n",
    "print(len(imlist))\n",
    "\n",
    "limit = len(imlist)-1095\n",
    "imlist = random.sample(imlist, limit)\n",
    "len(imlist)"
   ]
  },
  {
   "cell_type": "code",
   "execution_count": 22,
   "id": "a95c19c1",
   "metadata": {},
   "outputs": [],
   "source": [
    "source_folder = r\"C:\\Users\\Jalal\\Desktop\\NIDS Datasets\\CICIDS2017\\Image data 4\\Wednesday_benign\\0.0\\1\\\\\"\n",
    "destination_folder = r\"C:\\Users\\Jalal\\Desktop\\NIDS Datasets\\CICIDS2017\\Image data 4\\Binary_hyperparameter_tuning\\cicidis2017_all\\test_binary1\\0\\\\\"\n",
    "\n",
    "files_to_move = imlist\n",
    "\n",
    "# iterate files\n",
    "for file in files_to_move:\n",
    "    # construct full file path\n",
    "    source = source_folder + file\n",
    "    destination = destination_folder + file\n",
    "    # move file\n",
    "    shutil.copy(source, destination)\n",
    "    #print('Moved:', file)"
   ]
  },
  {
   "cell_type": "code",
   "execution_count": null,
   "id": "dfc5f0a7",
   "metadata": {},
   "outputs": [],
   "source": []
  },
  {
   "cell_type": "code",
   "execution_count": 23,
   "id": "d2cd11a8",
   "metadata": {},
   "outputs": [
    {
     "name": "stdout",
     "output_type": "stream",
     "text": [
      "102884\n"
     ]
    },
    {
     "data": {
      "text/plain": [
       "101789"
      ]
     },
     "execution_count": 23,
     "metadata": {},
     "output_type": "execute_result"
    }
   ],
   "source": [
    "os.chdir('..')\n",
    "os.chdir('2')\n",
    "\n",
    "# Access all PNG files in directory\n",
    "allfiles=os.listdir(os.getcwd())\n",
    "imlist=[filename for filename in allfiles if  filename[-8:] in [\"pkts.png\"]]\n",
    "print(len(imlist))\n",
    "\n",
    "limit = len(imlist)-1095\n",
    "imlist = random.sample(imlist, limit)\n",
    "len(imlist)"
   ]
  },
  {
   "cell_type": "code",
   "execution_count": 24,
   "id": "162575d8",
   "metadata": {},
   "outputs": [],
   "source": [
    "source_folder = r\"C:\\Users\\Jalal\\Desktop\\NIDS Datasets\\CICIDS2017\\Image data 4\\Wednesday_benign\\0.0\\2\\\\\"\n",
    "destination_folder = r\"C:\\Users\\Jalal\\Desktop\\NIDS Datasets\\CICIDS2017\\Image data 4\\Binary_hyperparameter_tuning\\cicidis2017_all\\test_binary2\\0\\\\\"\n",
    "\n",
    "files_to_move = imlist\n",
    "\n",
    "# iterate files\n",
    "for file in files_to_move:\n",
    "    # construct full file path\n",
    "    source = source_folder + file\n",
    "    destination = destination_folder + file\n",
    "    # move file\n",
    "    shutil.copy(source, destination)\n",
    "    #print('Moved:', file)"
   ]
  },
  {
   "cell_type": "code",
   "execution_count": null,
   "id": "0c070adc",
   "metadata": {},
   "outputs": [],
   "source": []
  },
  {
   "cell_type": "code",
   "execution_count": 25,
   "id": "4cffa938",
   "metadata": {},
   "outputs": [
    {
     "name": "stdout",
     "output_type": "stream",
     "text": [
      "102683\n"
     ]
    },
    {
     "data": {
      "text/plain": [
       "101588"
      ]
     },
     "execution_count": 25,
     "metadata": {},
     "output_type": "execute_result"
    }
   ],
   "source": [
    "os.chdir('..')\n",
    "os.chdir('3')\n",
    "\n",
    "# Access all PNG files in directory\n",
    "allfiles=os.listdir(os.getcwd())\n",
    "imlist=[filename for filename in allfiles if  filename[-8:] in [\"pkts.png\"]]\n",
    "print(len(imlist))\n",
    "\n",
    "limit = len(imlist)-1095\n",
    "imlist = random.sample(imlist, limit)\n",
    "len(imlist)"
   ]
  },
  {
   "cell_type": "code",
   "execution_count": 26,
   "id": "46ede005",
   "metadata": {},
   "outputs": [],
   "source": [
    "source_folder = r\"C:\\Users\\Jalal\\Desktop\\NIDS Datasets\\CICIDS2017\\Image data 4\\Wednesday_benign\\0.0\\3\\\\\"\n",
    "destination_folder = r\"C:\\Users\\Jalal\\Desktop\\NIDS Datasets\\CICIDS2017\\Image data 4\\Binary_hyperparameter_tuning\\cicidis2017_all\\test_binary3\\0\\\\\"\n",
    "\n",
    "files_to_move = imlist\n",
    "\n",
    "# iterate files\n",
    "for file in files_to_move:\n",
    "    # construct full file path\n",
    "    source = source_folder + file\n",
    "    destination = destination_folder + file\n",
    "    # move file\n",
    "    shutil.copy(source, destination)\n",
    "    #print('Moved:', file)"
   ]
  },
  {
   "cell_type": "code",
   "execution_count": null,
   "id": "e21b08ea",
   "metadata": {},
   "outputs": [],
   "source": []
  },
  {
   "cell_type": "code",
   "execution_count": 27,
   "id": "2067c59d",
   "metadata": {},
   "outputs": [
    {
     "name": "stdout",
     "output_type": "stream",
     "text": [
      "101632\n"
     ]
    },
    {
     "data": {
      "text/plain": [
       "100537"
      ]
     },
     "execution_count": 27,
     "metadata": {},
     "output_type": "execute_result"
    }
   ],
   "source": [
    "os.chdir('..')\n",
    "os.chdir('4')\n",
    "\n",
    "# Access all PNG files in directory\n",
    "allfiles=os.listdir(os.getcwd())\n",
    "imlist=[filename for filename in allfiles if  filename[-8:] in [\"pkts.png\"]]\n",
    "print(len(imlist))\n",
    "\n",
    "limit = len(imlist)-1095\n",
    "imlist = random.sample(imlist, limit)\n",
    "len(imlist)"
   ]
  },
  {
   "cell_type": "code",
   "execution_count": 28,
   "id": "77fbe179",
   "metadata": {},
   "outputs": [],
   "source": [
    "source_folder = r\"C:\\Users\\Jalal\\Desktop\\NIDS Datasets\\CICIDS2017\\Image data 4\\Wednesday_benign\\0.0\\4\\\\\"\n",
    "destination_folder = r\"C:\\Users\\Jalal\\Desktop\\NIDS Datasets\\CICIDS2017\\Image data 4\\Binary_hyperparameter_tuning\\cicidis2017_all\\test_binary4\\0\\\\\"\n",
    "\n",
    "files_to_move = imlist\n",
    "\n",
    "# iterate files\n",
    "for file in files_to_move:\n",
    "    # construct full file path\n",
    "    source = source_folder + file\n",
    "    destination = destination_folder + file\n",
    "    # move file\n",
    "    shutil.copy(source, destination)\n",
    "    #print('Moved:', file)"
   ]
  },
  {
   "cell_type": "code",
   "execution_count": null,
   "id": "87aae0c7",
   "metadata": {},
   "outputs": [],
   "source": []
  },
  {
   "cell_type": "code",
   "execution_count": 29,
   "id": "a42df814",
   "metadata": {},
   "outputs": [
    {
     "name": "stdout",
     "output_type": "stream",
     "text": [
      "101542\n"
     ]
    },
    {
     "data": {
      "text/plain": [
       "100447"
      ]
     },
     "execution_count": 29,
     "metadata": {},
     "output_type": "execute_result"
    }
   ],
   "source": [
    "os.chdir('..')\n",
    "os.chdir('5')\n",
    "\n",
    "# Access all PNG files in directory\n",
    "allfiles=os.listdir(os.getcwd())\n",
    "imlist=[filename for filename in allfiles if  filename[-8:] in [\"pkts.png\"]]\n",
    "print(len(imlist))\n",
    "\n",
    "limit = len(imlist)-1095\n",
    "imlist = random.sample(imlist, limit)\n",
    "len(imlist)"
   ]
  },
  {
   "cell_type": "code",
   "execution_count": 30,
   "id": "28f49d08",
   "metadata": {},
   "outputs": [],
   "source": [
    "source_folder = r\"C:\\Users\\Jalal\\Desktop\\NIDS Datasets\\CICIDS2017\\Image data 4\\Wednesday_benign\\0.0\\5\\\\\"\n",
    "destination_folder = r\"C:\\Users\\Jalal\\Desktop\\NIDS Datasets\\CICIDS2017\\Image data 4\\Binary_hyperparameter_tuning\\cicidis2017_all\\test_binary5\\0\\\\\"\n",
    "\n",
    "files_to_move = imlist\n",
    "\n",
    "# iterate files\n",
    "for file in files_to_move:\n",
    "    # construct full file path\n",
    "    source = source_folder + file\n",
    "    destination = destination_folder + file\n",
    "    # move file\n",
    "    shutil.copy(source, destination)\n",
    "    #print('Moved:', file)"
   ]
  },
  {
   "cell_type": "code",
   "execution_count": null,
   "id": "ce51ea9c",
   "metadata": {},
   "outputs": [],
   "source": []
  },
  {
   "cell_type": "code",
   "execution_count": 31,
   "id": "42107986",
   "metadata": {},
   "outputs": [
    {
     "name": "stdout",
     "output_type": "stream",
     "text": [
      "101315\n"
     ]
    },
    {
     "data": {
      "text/plain": [
       "100220"
      ]
     },
     "execution_count": 31,
     "metadata": {},
     "output_type": "execute_result"
    }
   ],
   "source": [
    "os.chdir('..')\n",
    "os.chdir('6')\n",
    "\n",
    "# Access all PNG files in directory\n",
    "allfiles=os.listdir(os.getcwd())\n",
    "imlist=[filename for filename in allfiles if  filename[-8:] in [\"pkts.png\"]]\n",
    "print(len(imlist))\n",
    "\n",
    "limit = len(imlist)-1095\n",
    "imlist = random.sample(imlist, limit)\n",
    "len(imlist)"
   ]
  },
  {
   "cell_type": "code",
   "execution_count": 32,
   "id": "b6c8269d",
   "metadata": {},
   "outputs": [],
   "source": [
    "source_folder = r\"C:\\Users\\Jalal\\Desktop\\NIDS Datasets\\CICIDS2017\\Image data 4\\Wednesday_benign\\0.0\\6\\\\\"\n",
    "destination_folder = r\"C:\\Users\\Jalal\\Desktop\\NIDS Datasets\\CICIDS2017\\Image data 4\\Binary_hyperparameter_tuning\\cicidis2017_all\\test_binary6\\0\\\\\"\n",
    "\n",
    "files_to_move = imlist\n",
    "\n",
    "# iterate files\n",
    "for file in files_to_move:\n",
    "    # construct full file path\n",
    "    source = source_folder + file\n",
    "    destination = destination_folder + file\n",
    "    # move file\n",
    "    shutil.copy(source, destination)\n",
    "    #print('Moved:', file)"
   ]
  },
  {
   "cell_type": "code",
   "execution_count": null,
   "id": "a86c3707",
   "metadata": {},
   "outputs": [],
   "source": []
  },
  {
   "cell_type": "code",
   "execution_count": 33,
   "id": "137e91d8",
   "metadata": {},
   "outputs": [
    {
     "name": "stdout",
     "output_type": "stream",
     "text": [
      "98177\n"
     ]
    },
    {
     "data": {
      "text/plain": [
       "97082"
      ]
     },
     "execution_count": 33,
     "metadata": {},
     "output_type": "execute_result"
    }
   ],
   "source": [
    "os.chdir('..')\n",
    "os.chdir('7')\n",
    "\n",
    "# Access all PNG files in directory\n",
    "allfiles=os.listdir(os.getcwd())\n",
    "imlist=[filename for filename in allfiles if  filename[-8:] in [\"pkts.png\"]]\n",
    "print(len(imlist))\n",
    "\n",
    "limit = len(imlist)-1095\n",
    "imlist = random.sample(imlist, limit)\n",
    "len(imlist)"
   ]
  },
  {
   "cell_type": "code",
   "execution_count": 34,
   "id": "470da465",
   "metadata": {},
   "outputs": [],
   "source": [
    "source_folder = r\"C:\\Users\\Jalal\\Desktop\\NIDS Datasets\\CICIDS2017\\Image data 4\\Wednesday_benign\\0.0\\7\\\\\"\n",
    "destination_folder = r\"C:\\Users\\Jalal\\Desktop\\NIDS Datasets\\CICIDS2017\\Image data 4\\Binary_hyperparameter_tuning\\cicidis2017_all\\test_binary7\\0\\\\\"\n",
    "\n",
    "files_to_move = imlist\n",
    "\n",
    "# iterate files\n",
    "for file in files_to_move:\n",
    "    # construct full file path\n",
    "    source = source_folder + file\n",
    "    destination = destination_folder + file\n",
    "    # move file\n",
    "    shutil.copy(source, destination)\n",
    "    #print('Moved:', file)"
   ]
  },
  {
   "cell_type": "code",
   "execution_count": null,
   "id": "61cc5d28",
   "metadata": {},
   "outputs": [],
   "source": []
  },
  {
   "cell_type": "code",
   "execution_count": 35,
   "id": "3b206de7",
   "metadata": {},
   "outputs": [
    {
     "name": "stdout",
     "output_type": "stream",
     "text": [
      "97162\n"
     ]
    },
    {
     "data": {
      "text/plain": [
       "96067"
      ]
     },
     "execution_count": 35,
     "metadata": {},
     "output_type": "execute_result"
    }
   ],
   "source": [
    "os.chdir('..')\n",
    "os.chdir('8')\n",
    "\n",
    "# Access all PNG files in directory\n",
    "allfiles=os.listdir(os.getcwd())\n",
    "imlist=[filename for filename in allfiles if  filename[-8:] in [\"pkts.png\"]]\n",
    "print(len(imlist))\n",
    "\n",
    "limit = len(imlist)-1095\n",
    "imlist = random.sample(imlist, limit)\n",
    "len(imlist)"
   ]
  },
  {
   "cell_type": "code",
   "execution_count": 36,
   "id": "d4ff480b",
   "metadata": {},
   "outputs": [],
   "source": [
    "source_folder = r\"C:\\Users\\Jalal\\Desktop\\NIDS Datasets\\CICIDS2017\\Image data 4\\Wednesday_benign\\0.0\\8\\\\\"\n",
    "destination_folder = r\"C:\\Users\\Jalal\\Desktop\\NIDS Datasets\\CICIDS2017\\Image data 4\\Binary_hyperparameter_tuning\\cicidis2017_all\\test_binary8\\0\\\\\"\n",
    "\n",
    "files_to_move = imlist\n",
    "\n",
    "# iterate files\n",
    "for file in files_to_move:\n",
    "    # construct full file path\n",
    "    source = source_folder + file\n",
    "    destination = destination_folder + file\n",
    "    # move file\n",
    "    shutil.copy(source, destination)\n",
    "    #print('Moved:', file)"
   ]
  },
  {
   "cell_type": "code",
   "execution_count": null,
   "id": "0f2ca637",
   "metadata": {},
   "outputs": [],
   "source": []
  },
  {
   "cell_type": "code",
   "execution_count": 37,
   "id": "31a9f804",
   "metadata": {},
   "outputs": [
    {
     "name": "stdout",
     "output_type": "stream",
     "text": [
      "96409\n"
     ]
    },
    {
     "data": {
      "text/plain": [
       "95314"
      ]
     },
     "execution_count": 37,
     "metadata": {},
     "output_type": "execute_result"
    }
   ],
   "source": [
    "os.chdir('..')\n",
    "os.chdir('9')\n",
    "\n",
    "# Access all PNG files in directory\n",
    "allfiles=os.listdir(os.getcwd())\n",
    "imlist=[filename for filename in allfiles if  filename[-8:] in [\"pkts.png\"]]\n",
    "print(len(imlist))\n",
    "\n",
    "limit = len(imlist)-1095\n",
    "imlist = random.sample(imlist, limit)\n",
    "len(imlist)"
   ]
  },
  {
   "cell_type": "code",
   "execution_count": 38,
   "id": "c186abd1",
   "metadata": {},
   "outputs": [],
   "source": [
    "source_folder = r\"C:\\Users\\Jalal\\Desktop\\NIDS Datasets\\CICIDS2017\\Image data 4\\Wednesday_benign\\0.0\\9\\\\\"\n",
    "destination_folder = r\"C:\\Users\\Jalal\\Desktop\\NIDS Datasets\\CICIDS2017\\Image data 4\\Binary_hyperparameter_tuning\\cicidis2017_all\\test_binary9\\0\\\\\"\n",
    "\n",
    "files_to_move = imlist\n",
    "\n",
    "# iterate files\n",
    "for file in files_to_move:\n",
    "    # construct full file path\n",
    "    source = source_folder + file\n",
    "    destination = destination_folder + file\n",
    "    # move file\n",
    "    shutil.copy(source, destination)\n",
    "    #print('Moved:', file)"
   ]
  },
  {
   "cell_type": "code",
   "execution_count": null,
   "id": "bcf7dae7",
   "metadata": {},
   "outputs": [],
   "source": []
  },
  {
   "cell_type": "code",
   "execution_count": 39,
   "id": "b9917211",
   "metadata": {},
   "outputs": [
    {
     "name": "stdout",
     "output_type": "stream",
     "text": [
      "95758\n"
     ]
    },
    {
     "data": {
      "text/plain": [
       "94663"
      ]
     },
     "execution_count": 39,
     "metadata": {},
     "output_type": "execute_result"
    }
   ],
   "source": [
    "os.chdir('..')\n",
    "os.chdir('10')\n",
    "\n",
    "# Access all PNG files in directory\n",
    "allfiles=os.listdir(os.getcwd())\n",
    "imlist=[filename for filename in allfiles if  filename[-8:] in [\"pkts.png\"]]\n",
    "print(len(imlist))\n",
    "\n",
    "limit = len(imlist)-1095\n",
    "imlist = random.sample(imlist, limit)\n",
    "len(imlist)"
   ]
  },
  {
   "cell_type": "code",
   "execution_count": 40,
   "id": "51de5b60",
   "metadata": {},
   "outputs": [],
   "source": [
    "source_folder = r\"C:\\Users\\Jalal\\Desktop\\NIDS Datasets\\CICIDS2017\\Image data 4\\Wednesday_benign\\0.0\\10\\\\\"\n",
    "destination_folder = r\"C:\\Users\\Jalal\\Desktop\\NIDS Datasets\\CICIDS2017\\Image data 4\\Binary_hyperparameter_tuning\\cicidis2017_all\\test_binary10\\0\\\\\"\n",
    "\n",
    "files_to_move = imlist\n",
    "\n",
    "# iterate files\n",
    "for file in files_to_move:\n",
    "    # construct full file path\n",
    "    source = source_folder + file\n",
    "    destination = destination_folder + file\n",
    "    # move file\n",
    "    shutil.copy(source, destination)\n",
    "    #print('Moved:', file)"
   ]
  },
  {
   "cell_type": "code",
   "execution_count": null,
   "id": "a7761986",
   "metadata": {},
   "outputs": [],
   "source": []
  },
  {
   "cell_type": "code",
   "execution_count": 41,
   "id": "285a0eed",
   "metadata": {},
   "outputs": [
    {
     "name": "stdout",
     "output_type": "stream",
     "text": [
      "92543\n"
     ]
    },
    {
     "data": {
      "text/plain": [
       "91448"
      ]
     },
     "execution_count": 41,
     "metadata": {},
     "output_type": "execute_result"
    }
   ],
   "source": [
    "os.chdir('..')\n",
    "os.chdir('11')\n",
    "\n",
    "# Access all PNG files in directory\n",
    "allfiles=os.listdir(os.getcwd())\n",
    "imlist=[filename for filename in allfiles if  filename[-8:] in [\"pkts.png\"]]\n",
    "print(len(imlist))\n",
    "\n",
    "limit = len(imlist)-1095\n",
    "imlist = random.sample(imlist, limit)\n",
    "len(imlist)"
   ]
  },
  {
   "cell_type": "code",
   "execution_count": 42,
   "id": "f3190520",
   "metadata": {},
   "outputs": [],
   "source": [
    "source_folder = r\"C:\\Users\\Jalal\\Desktop\\NIDS Datasets\\CICIDS2017\\Image data 4\\Wednesday_benign\\0.0\\11\\\\\"\n",
    "destination_folder = r\"C:\\Users\\Jalal\\Desktop\\NIDS Datasets\\CICIDS2017\\Image data 4\\Binary_hyperparameter_tuning\\cicidis2017_all\\test_binary11\\0\\\\\"\n",
    "\n",
    "files_to_move = imlist\n",
    "\n",
    "# iterate files\n",
    "for file in files_to_move:\n",
    "    # construct full file path\n",
    "    source = source_folder + file\n",
    "    destination = destination_folder + file\n",
    "    # move file\n",
    "    shutil.copy(source, destination)\n",
    "    #print('Moved:', file)"
   ]
  },
  {
   "cell_type": "code",
   "execution_count": null,
   "id": "0dd659b7",
   "metadata": {},
   "outputs": [],
   "source": []
  },
  {
   "cell_type": "code",
   "execution_count": 43,
   "id": "33569158",
   "metadata": {},
   "outputs": [
    {
     "name": "stdout",
     "output_type": "stream",
     "text": [
      "89575\n"
     ]
    },
    {
     "data": {
      "text/plain": [
       "88480"
      ]
     },
     "execution_count": 43,
     "metadata": {},
     "output_type": "execute_result"
    }
   ],
   "source": [
    "os.chdir('..')\n",
    "os.chdir('12')\n",
    "\n",
    "# Access all PNG files in directory\n",
    "allfiles=os.listdir(os.getcwd())\n",
    "imlist=[filename for filename in allfiles if  filename[-8:] in [\"pkts.png\"]]\n",
    "print(len(imlist))\n",
    "\n",
    "limit = len(imlist)-1095\n",
    "imlist = random.sample(imlist, limit)\n",
    "len(imlist)"
   ]
  },
  {
   "cell_type": "code",
   "execution_count": 44,
   "id": "2a037880",
   "metadata": {},
   "outputs": [],
   "source": [
    "source_folder = r\"C:\\Users\\Jalal\\Desktop\\NIDS Datasets\\CICIDS2017\\Image data 4\\Wednesday_benign\\0.0\\12\\\\\"\n",
    "destination_folder = r\"C:\\Users\\Jalal\\Desktop\\NIDS Datasets\\CICIDS2017\\Image data 4\\Binary_hyperparameter_tuning\\cicidis2017_all\\test_binary12\\0\\\\\"\n",
    "\n",
    "files_to_move = imlist\n",
    "\n",
    "# iterate files\n",
    "for file in files_to_move:\n",
    "    # construct full file path\n",
    "    source = source_folder + file\n",
    "    destination = destination_folder + file\n",
    "    # move file\n",
    "    shutil.copy(source, destination)\n",
    "    #print('Moved:', file)"
   ]
  },
  {
   "cell_type": "code",
   "execution_count": null,
   "id": "aa15525c",
   "metadata": {},
   "outputs": [],
   "source": []
  },
  {
   "cell_type": "code",
   "execution_count": 45,
   "id": "01e6923e",
   "metadata": {},
   "outputs": [
    {
     "name": "stdout",
     "output_type": "stream",
     "text": [
      "83485\n"
     ]
    },
    {
     "data": {
      "text/plain": [
       "82390"
      ]
     },
     "execution_count": 45,
     "metadata": {},
     "output_type": "execute_result"
    }
   ],
   "source": [
    "os.chdir('..')\n",
    "os.chdir('13')\n",
    "\n",
    "# Access all PNG files in directory\n",
    "allfiles=os.listdir(os.getcwd())\n",
    "imlist=[filename for filename in allfiles if  filename[-8:] in [\"pkts.png\"]]\n",
    "print(len(imlist))\n",
    "\n",
    "limit = len(imlist)-1095\n",
    "imlist = random.sample(imlist, limit)\n",
    "len(imlist)"
   ]
  },
  {
   "cell_type": "code",
   "execution_count": 46,
   "id": "eb05dab5",
   "metadata": {},
   "outputs": [],
   "source": [
    "source_folder = r\"C:\\Users\\Jalal\\Desktop\\NIDS Datasets\\CICIDS2017\\Image data 4\\Wednesday_benign\\0.0\\13\\\\\"\n",
    "destination_folder = r\"C:\\Users\\Jalal\\Desktop\\NIDS Datasets\\CICIDS2017\\Image data 4\\Binary_hyperparameter_tuning\\cicidis2017_all\\test_binary13\\0\\\\\"\n",
    "\n",
    "files_to_move = imlist\n",
    "\n",
    "# iterate files\n",
    "for file in files_to_move:\n",
    "    # construct full file path\n",
    "    source = source_folder + file\n",
    "    destination = destination_folder + file\n",
    "    # move file\n",
    "    shutil.copy(source, destination)\n",
    "    #print('Moved:', file)"
   ]
  },
  {
   "cell_type": "code",
   "execution_count": null,
   "id": "7065bd42",
   "metadata": {},
   "outputs": [],
   "source": []
  },
  {
   "cell_type": "code",
   "execution_count": 47,
   "id": "10a64f53",
   "metadata": {},
   "outputs": [
    {
     "name": "stdout",
     "output_type": "stream",
     "text": [
      "74969\n"
     ]
    },
    {
     "data": {
      "text/plain": [
       "73874"
      ]
     },
     "execution_count": 47,
     "metadata": {},
     "output_type": "execute_result"
    }
   ],
   "source": [
    "os.chdir('..')\n",
    "os.chdir('14')\n",
    "\n",
    "# Access all PNG files in directory\n",
    "allfiles=os.listdir(os.getcwd())\n",
    "imlist=[filename for filename in allfiles if  filename[-8:] in [\"pkts.png\"]]\n",
    "print(len(imlist))\n",
    "\n",
    "limit = len(imlist)-1095\n",
    "imlist = random.sample(imlist, limit)\n",
    "len(imlist)"
   ]
  },
  {
   "cell_type": "code",
   "execution_count": 48,
   "id": "95860c3b",
   "metadata": {},
   "outputs": [],
   "source": [
    "source_folder = r\"C:\\Users\\Jalal\\Desktop\\NIDS Datasets\\CICIDS2017\\Image data 4\\Wednesday_benign\\0.0\\14\\\\\"\n",
    "destination_folder = r\"C:\\Users\\Jalal\\Desktop\\NIDS Datasets\\CICIDS2017\\Image data 4\\Binary_hyperparameter_tuning\\cicidis2017_all\\test_binary14\\0\\\\\"\n",
    "\n",
    "files_to_move = imlist\n",
    "\n",
    "# iterate files\n",
    "for file in files_to_move:\n",
    "    # construct full file path\n",
    "    source = source_folder + file\n",
    "    destination = destination_folder + file\n",
    "    # move file\n",
    "    shutil.copy(source, destination)\n",
    "    #print('Moved:', file)"
   ]
  },
  {
   "cell_type": "code",
   "execution_count": null,
   "id": "dac7207f",
   "metadata": {},
   "outputs": [],
   "source": []
  },
  {
   "cell_type": "code",
   "execution_count": 49,
   "id": "16f103f6",
   "metadata": {},
   "outputs": [
    {
     "name": "stdout",
     "output_type": "stream",
     "text": [
      "61154\n"
     ]
    },
    {
     "data": {
      "text/plain": [
       "60059"
      ]
     },
     "execution_count": 49,
     "metadata": {},
     "output_type": "execute_result"
    }
   ],
   "source": [
    "os.chdir('..')\n",
    "os.chdir('15')\n",
    "\n",
    "# Access all PNG files in directory\n",
    "allfiles=os.listdir(os.getcwd())\n",
    "imlist=[filename for filename in allfiles if  filename[-8:] in [\"pkts.png\"]]\n",
    "print(len(imlist))\n",
    "\n",
    "limit = len(imlist)-1095\n",
    "imlist = random.sample(imlist, limit)\n",
    "len(imlist)"
   ]
  },
  {
   "cell_type": "code",
   "execution_count": 50,
   "id": "f9b21953",
   "metadata": {},
   "outputs": [],
   "source": [
    "source_folder = r\"C:\\Users\\Jalal\\Desktop\\NIDS Datasets\\CICIDS2017\\Image data 4\\Wednesday_benign\\0.0\\15\\\\\"\n",
    "destination_folder = r\"C:\\Users\\Jalal\\Desktop\\NIDS Datasets\\CICIDS2017\\Image data 4\\Binary_hyperparameter_tuning\\cicidis2017_all\\test_binary15\\0\\\\\"\n",
    "\n",
    "files_to_move = imlist\n",
    "\n",
    "# iterate files\n",
    "for file in files_to_move:\n",
    "    # construct full file path\n",
    "    source = source_folder + file\n",
    "    destination = destination_folder + file\n",
    "    # move file\n",
    "    shutil.copy(source, destination)\n",
    "    #print('Moved:', file)"
   ]
  }
 ],
 "metadata": {
  "kernelspec": {
   "display_name": "Python 3 (ipykernel)",
   "language": "python",
   "name": "python3"
  },
  "language_info": {
   "codemirror_mode": {
    "name": "ipython",
    "version": 3
   },
   "file_extension": ".py",
   "mimetype": "text/x-python",
   "name": "python",
   "nbconvert_exporter": "python",
   "pygments_lexer": "ipython3",
   "version": "3.9.7"
  }
 },
 "nbformat": 4,
 "nbformat_minor": 5
}
